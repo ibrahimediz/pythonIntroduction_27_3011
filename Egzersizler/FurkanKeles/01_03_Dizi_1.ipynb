{
 "cells": [
  {
   "cell_type": "markdown",
   "metadata": {},
   "source": [
    "```\n",
    "adi = input(\"Adınızı Giriniz:\")\n",
    "```\n",
    "yukarıda bulunan kod bloğunu kullanarak kullanıcıdan `adi` değişkenine aktarılan bir str veri tipindeki değeri\n",
    "1. ilk harfini ekrana yazdırınız\n",
    "2. son harfini ekrana yazdırınız\n",
    "3. format fonksiyonunu kullanarak `Hoşgeldiniz [Adi]` mesajını ekrana yazdırınız\n",
    "4. Büyük harfe çevirip yazdırınız  "
   ]
  },
  {
   "cell_type": "code",
   "execution_count": 8,
   "metadata": {},
   "outputs": [
    {
     "name": "stdout",
     "output_type": "stream",
     "text": [
      "adi[0] : f\n",
      "adi[len(adi)-1] : n\n",
      "adi[::-1][0] : n\n",
      "Hoşgeldiniz furkan\n",
      "adi.upper() : FURKAN\n",
      "Hoşgeldiniz FURKAN\n"
     ]
    }
   ],
   "source": [
    "adi = input(\"Adınızı Giriniz:\")\n",
    "print(\"adi[0] :\", adi[0])\n",
    "\n",
    "print(\"adi[len(adi)-1] :\", adi[-1])\n",
    "\n",
    "# print(\"adi[::-1][0] :\",adi[::-1][0])\n",
    "\n",
    "print(\"Hoşgeldiniz {}\".format(adi))\n",
    "\n",
    "print(\"adi.upper() :\",adi.upper())\n",
    "\n",
    "print(f\"Hoşgeldiniz {adi.upper()}\")"
   ]
  },
  {
   "cell_type": "code",
   "execution_count": 22,
   "metadata": {},
   "outputs": [
    {
     "data": {
      "text/plain": [
       "[0, 2, 3]"
      ]
     },
     "execution_count": 22,
     "metadata": {},
     "output_type": "execute_result"
    }
   ],
   "source": [
    "\n",
    "\n",
    "listeD = [1,2,3]\n",
    "listeD[0] = 0\n",
    "listeD"
   ]
  },
  {
   "cell_type": "code",
   "execution_count": null,
   "metadata": {},
   "outputs": [],
   "source": []
  }
 ],
 "metadata": {
  "kernelspec": {
   "display_name": "Python 3",
   "language": "python",
   "name": "python3"
  },
  "language_info": {
   "codemirror_mode": {
    "name": "ipython",
    "version": 3
   },
   "file_extension": ".py",
   "mimetype": "text/x-python",
   "name": "python",
   "nbconvert_exporter": "python",
   "pygments_lexer": "ipython3",
   "version": "3.12.0"
  }
 },
 "nbformat": 4,
 "nbformat_minor": 2
}
