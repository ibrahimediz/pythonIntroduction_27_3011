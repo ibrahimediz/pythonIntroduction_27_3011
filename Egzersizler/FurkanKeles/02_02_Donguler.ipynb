{
 "cells": [
  {
   "cell_type": "markdown",
   "metadata": {},
   "source": [
    "Girilen bir sayının faktoriyelini hesaplayan python kodunu yazınız \n"
   ]
  },
  {
   "cell_type": "code",
   "execution_count": 46,
   "metadata": {},
   "outputs": [
    {
     "name": "stdout",
     "output_type": "stream",
     "text": [
      "5! = 120\n",
      "5! = 1\n"
     ]
    }
   ],
   "source": [
    "\n",
    "sayi = int(input(\"sayi giriniz\"))\n",
    "sayiIlk = sayi\n",
    "sonuc = sayi\n",
    "for i in range(1, sayi+1):\n",
    "    if(sayi==1):\n",
    "        break\n",
    "    sonuc *= (sayi-1)\n",
    "    sayi = sayi-1\n",
    "else:\n",
    "    sonuc = 1\n",
    "    \n",
    "print(f\"{sayiIlk}! = {sonuc}\")\n",
    "\n",
    "##Daha temiz 0!=1 case i yok\n",
    "#sayi = int (input(\"sayi giriniz\"))\n",
    "#sonuc = 1\n",
    "#for i in range (1, sayi+1):\n",
    "#    sonuc *= i\n",
    "#print(f\"{sayi}! = {sonuc}\")   \n"
   ]
  },
  {
   "cell_type": "code",
   "execution_count": 45,
   "metadata": {},
   "outputs": [
    {
     "name": "stdout",
     "output_type": "stream",
     "text": [
      "5! = 120\n"
     ]
    }
   ],
   "source": [
    "# :) (:\n",
    "import math\n",
    "sayi = int(input(\"sayi giriniz: \"))\n",
    "print(f\"{sayi}! = {math.factorial(sayi)}\")"
   ]
  },
  {
   "cell_type": "code",
   "execution_count": 50,
   "metadata": {},
   "outputs": [
    {
     "name": "stdout",
     "output_type": "stream",
     "text": [
      "1\n"
     ]
    }
   ],
   "source": [
    "sonuc = 1\n",
    "sayi = int(input(\"_____\"))\n",
    "for i in range(1, sayi+1):\n",
    "    sonuc *= i\n",
    "print(sonuc)"
   ]
  },
  {
   "cell_type": "markdown",
   "metadata": {},
   "source": [
    "```\n",
    "import random\n",
    "random.randint(1,49) # 49 dahil olur\n",
    "```\n",
    "yukarıda bulunan kod satırını kullanarak bir sayısal loto kolonu oluşturan python kodunu yazınız"
   ]
  },
  {
   "cell_type": "code",
   "execution_count": 15,
   "metadata": {},
   "outputs": [
    {
     "data": {
      "text/plain": [
       "[32, 40, 39, 5, 47, 28, 45]"
      ]
     },
     "execution_count": 15,
     "metadata": {},
     "output_type": "execute_result"
    }
   ],
   "source": [
    "import random\n",
    "\n",
    "liste = [random.randint(1,49) for i in range(6)]\n",
    "liste"
   ]
  },
  {
   "cell_type": "code",
   "execution_count": 59,
   "metadata": {},
   "outputs": [
    {
     "name": "stdout",
     "output_type": "stream",
     "text": [
      "###  \n",
      "# #  \n",
      "###  \n",
      "# #  \n",
      "###  \n"
     ]
    }
   ],
   "source": [
    "def display_number(number):\n",
    "    segments = {\n",
    "        0: ['###', '# #', '# #', '# #', '###'],\n",
    "        1: ['  #', '  #', '  #', '  #', '  #'],\n",
    "        2: ['###', '  #', '###', '#  ', '###'],\n",
    "        3: ['###', '  #', '###', '  #', '###'],\n",
    "        4: ['# #', '# #', '###', '  #', '  #'],\n",
    "        5: ['###', '#  ', '###', '  #', '###'],\n",
    "        6: ['###', '#  ', '###', '# #', '###'],\n",
    "        7: ['###', '  #', '  #', '  #', '  #'],\n",
    "        8: ['###', '# #', '###', '# #', '###'],\n",
    "        9: ['###', '# #', '###', '  #', '###']\n",
    "    }\n",
    "\n",
    "    digits = str(number)\n",
    "    rows = ['' for _ in range(5)]\n",
    "\n",
    "    for digit in digits:\n",
    "        segments_of_digit = segments.get(int(digit), [' ' * 3] * 5)\n",
    "        for i in range(5):\n",
    "            rows[i] += segments_of_digit[i] + ' '\n",
    "\n",
    "    for row in rows:\n",
    "        print(row)\n",
    "\n",
    "# Example usage\n",
    "display_number(123)"
   ]
  }
 ],
 "metadata": {
  "kernelspec": {
   "display_name": "Python 3",
   "language": "python",
   "name": "python3"
  },
  "language_info": {
   "codemirror_mode": {
    "name": "ipython",
    "version": 3
   },
   "file_extension": ".py",
   "mimetype": "text/x-python",
   "name": "python",
   "nbconvert_exporter": "python",
   "pygments_lexer": "ipython3",
   "version": "3.12.0"
  }
 },
 "nbformat": 4,
 "nbformat_minor": 2
}
