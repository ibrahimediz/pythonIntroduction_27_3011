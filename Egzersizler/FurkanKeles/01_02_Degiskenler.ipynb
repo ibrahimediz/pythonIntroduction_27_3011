{
 "cells": [
  {
   "cell_type": "markdown",
   "metadata": {},
   "source": [
    "```\n",
    "var1 = 1\n",
    "var2 = 2.0\n",
    "var3 = 2.0 + 3j\n",
    "var4 = \"Garanti\"\n",
    "var5 = [1,2,3,4]\n",
    "var6 = (2,23,2,3)\n",
    "var7 = {\"1\":\"Bir\"}\n",
    "var8 = {2,3,4}\n",
    "var9 = True\n",
    "```\n",
    "Yukarıda bulunan değişken tanımlarından faydalanarak her değişken tipinde kendi değişkeninizi oluşturunuz, `type` fonksiyonu ile oluşturduğunuz değişkenin tipini ekrana yazdırınız"
   ]
  },
  {
   "cell_type": "code",
   "execution_count": 9,
   "metadata": {},
   "outputs": [
    {
     "name": "stdout",
     "output_type": "stream",
     "text": [
      "<class 'int'>\n",
      "<class 'float'>\n",
      "<class 'complex'>\n",
      "Falan <class 'str'>\n",
      "[4, 3, '2', 1j] <class 'list'>\n",
      "(1, 2, '3', 4.0) <class 'tuple'>\n",
      "{'Falan': 1, 'Filan': '2'} <class 'dict'>\n",
      "{2, 3, 4} <class 'set'>\n"
     ]
    },
    {
     "ename": "AttributeError",
     "evalue": "type object 'bool' has no attribute 'index'",
     "output_type": "error",
     "traceback": [
      "\u001b[0;31m---------------------------------------------------------------------------\u001b[0m",
      "\u001b[0;31mAttributeError\u001b[0m                            Traceback (most recent call last)",
      "\u001b[1;32m/workspace/pythonIntroduction_27_3011/Egzersizler/FurkanKeles/01_02_Degiskenler.ipynb Cell 2\u001b[0m line \u001b[0;36m2\n\u001b[1;32m     <a href='vscode-notebook-cell://ibrahimediz-pythonintro-eekuq2k83sv.ws-us106.gitpod.io/workspace/pythonIntroduction_27_3011/Egzersizler/FurkanKeles/01_02_Degiskenler.ipynb#W1sdnNjb2RlLXJlbW90ZQ%3D%3D?line=22'>23</a>\u001b[0m \u001b[39mprint\u001b[39m(var8, \u001b[39mtype\u001b[39m(var8))\n\u001b[1;32m     <a href='vscode-notebook-cell://ibrahimediz-pythonintro-eekuq2k83sv.ws-us106.gitpod.io/workspace/pythonIntroduction_27_3011/Egzersizler/FurkanKeles/01_02_Degiskenler.ipynb#W1sdnNjb2RlLXJlbW90ZQ%3D%3D?line=24'>25</a>\u001b[0m var9 \u001b[39m=\u001b[39m \u001b[39mTrue\u001b[39;00m\n\u001b[0;32m---> <a href='vscode-notebook-cell://ibrahimediz-pythonintro-eekuq2k83sv.ws-us106.gitpod.io/workspace/pythonIntroduction_27_3011/Egzersizler/FurkanKeles/01_02_Degiskenler.ipynb#W1sdnNjb2RlLXJlbW90ZQ%3D%3D?line=25'>26</a>\u001b[0m \u001b[39mprint\u001b[39m(var9, \u001b[39mtype\u001b[39m(var9)[\u001b[39mtype\u001b[39;49m(var9)\u001b[39m.\u001b[39;49mindex(\u001b[39m\"\u001b[39m\u001b[39m'\u001b[39m\u001b[39m\"\u001b[39m)\u001b[39m+\u001b[39m\u001b[39m1\u001b[39m:\u001b[39mtype\u001b[39m(var9)\u001b[39m.\u001b[39mrindex(\u001b[39m\"\u001b[39m\u001b[39m'\u001b[39m\u001b[39m\"\u001b[39m)])\n",
      "\u001b[0;31mAttributeError\u001b[0m: type object 'bool' has no attribute 'index'"
     ]
    }
   ],
   "source": [
    "var1 = 61\n",
    "print(type(var1))\n",
    "\n",
    "var2 = 1.2\n",
    "print(type(var2))\n",
    "\n",
    "var3 = 6.1 + 3j\n",
    "print(type(var3))\n",
    "\n",
    "var4 = \"Falan\"\n",
    "print(var4, type(var4))\n",
    "\n",
    "var5 = [4,3,\"2\",1j]\n",
    "print(var5, type(var5))\n",
    "\n",
    "var6 = (1,2,\"3\", 4.0)\n",
    "print(var6, type(var6))\n",
    "\n",
    "var7 = {\"Falan\": 1, \"Filan\": \"2\"}\n",
    "print(var7, type(var7))\n",
    "\n",
    "var8 = {2,3,4}\n",
    "print(var8, type(var8))\n",
    "\n",
    "var9 = True\n",
    "print(var9, type(var9))"
   ]
  },
  {
   "cell_type": "code",
   "execution_count": 10,
   "metadata": {},
   "outputs": [
    {
     "data": {
      "text/plain": [
       "'Teşekkürler Süpirmin'"
      ]
     },
     "execution_count": 10,
     "metadata": {},
     "output_type": "execute_result"
    }
   ],
   "source": [
    "varDegisken = \"Teşekkürler Süpermen\"\n",
    "varDegisken[::-1].replace(\"e\", \"i\", 2)[::-1]"
   ]
  },
  {
   "cell_type": "code",
   "execution_count": 1,
   "metadata": {},
   "outputs": [
    {
     "data": {
      "text/plain": [
       "['Ali', 'Veli', '123', '']"
      ]
     },
     "execution_count": 1,
     "metadata": {},
     "output_type": "execute_result"
    }
   ],
   "source": [
    "varSplt = \"Ali;Veli;123;\"\n",
    "varSplt.split(\";\")"
   ]
  },
  {
   "cell_type": "code",
   "execution_count": 5,
   "metadata": {},
   "outputs": [
    {
     "name": "stdout",
     "output_type": "stream",
     "text": [
      "0\n",
      "20\n",
      "34\n",
      "seconds // 3600  0\n",
      "(seconds % 3600)  34\n",
      "(seconds % 3600) // 60  0\n",
      "seconds % 60  34\n",
      "00:20:34\n"
     ]
    }
   ],
   "source": [
    "def convert_seconds_to_time(seconds):\n",
    "    hours = seconds // 3600\n",
    "    print(hours)\n",
    "    minutes = (seconds % 3600) // 60\n",
    "    print(minutes)\n",
    "    seconds = seconds % 60\n",
    "    print(seconds)\n",
    "\n",
    "    print(\"seconds // 3600 \", seconds // 3600)\n",
    "    print(\"(seconds % 3600) \", (seconds % 3600))\n",
    "    print(\"(seconds % 3600) // 60 \", (seconds % 3600) // 60)\n",
    "    print(\"seconds % 60 \", seconds % 60)\n",
    "\n",
    "    time_string = f\"{hours:02d}:{minutes:02d}:{seconds:02d}\"\n",
    "    return time_string\n",
    "\n",
    "input_seconds = int(input(\"Saniye değerini girin: \"))\n",
    "time_result = convert_seconds_to_time(input_seconds)\n",
    "print(time_result)"
   ]
  },
  {
   "cell_type": "code",
   "execution_count": null,
   "metadata": {},
   "outputs": [],
   "source": []
  }
 ],
 "metadata": {
  "kernelspec": {
   "display_name": "Python 3",
   "language": "python",
   "name": "python3"
  },
  "language_info": {
   "codemirror_mode": {
    "name": "ipython",
    "version": 3
   },
   "file_extension": ".py",
   "mimetype": "text/x-python",
   "name": "python",
   "nbconvert_exporter": "python",
   "pygments_lexer": "ipython3",
   "version": "3.12.0"
  }
 },
 "nbformat": 4,
 "nbformat_minor": 2
}
