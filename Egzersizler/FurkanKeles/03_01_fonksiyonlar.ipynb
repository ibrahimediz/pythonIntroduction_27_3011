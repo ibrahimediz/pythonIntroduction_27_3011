{
 "cells": [
  {
   "cell_type": "markdown",
   "metadata": {},
   "source": [
    "```\n",
    "def fonk(a,b):\n",
    "    islem = \"+\"\n",
    "    return a,b,a+b,islem\n",
    "\n",
    "print(f\"{sonuc[0]} {sonuc[3]} {sonuc[1]} = {sonuc[2]}\")\n",
    "```\n",
    "\n",
    "yukarıdaki kod bloğundan faydalanarak\n",
    "* Toplama\n",
    "* Çıkarma\n",
    "* Bölme\n",
    "* Çarpma\n",
    "* Kuvvet\n",
    "* ModAlma<br>\n",
    "fonksiyonlarını üretelim"
   ]
  },
  {
   "cell_type": "code",
   "execution_count": 6,
   "metadata": {},
   "outputs": [
    {
     "name": "stdout",
     "output_type": "stream",
     "text": [
      "1 + 2 = 3\n"
     ]
    }
   ],
   "source": [
    "def topla(a,b):\n",
    "    islem = \"+\"\n",
    "    return a,b,a+b,islem\n",
    "def cikar(a,b):\n",
    "    islem = \"-\"\n",
    "    return a,b,a-b,islem\n",
    "def bolme(a,b):\n",
    "    if not b : \n",
    "        print(\"Bölen sıfır olamaz\")\n",
    "        return \n",
    "    islem = \"/\"\n",
    "    return a,b,a/b,islem\n",
    "def carpma(a,b):\n",
    "    islem = \"*\"\n",
    "    return a,b,a*b,islem\n",
    "def kuvvet(a,b):\n",
    "    islem = \"**\"\n",
    "    return a,b,a**b,islem\n",
    "def mod(a,b):\n",
    "    islem = \"%\"\n",
    "    return a,b,a%b,islem\n",
    "\n",
    "\n",
    "print(f\"{topla(1,2)[0]} {topla(1,2)[3]} {topla(1,2)[1]} = {topla(1,2)[2]}\")\n",
    "\n"
   ]
  },
  {
   "cell_type": "code",
   "execution_count": 23,
   "metadata": {},
   "outputs": [
    {
     "name": "stdout",
     "output_type": "stream",
     "text": [
      "Hatalı işlem tipi tekrar deneyiniz\n",
      "Hatalı işlem tipi tekrar deneyiniz\n",
      "1 + 2 = 3\n"
     ]
    }
   ],
   "source": [
    "def topla(a,b):\n",
    "    islem = \"+\"\n",
    "    return a,b,a+b,islem\n",
    "def cikar(a,b):\n",
    "    islem = \"-\"\n",
    "    return a,b,a-b,islem\n",
    "def bolme(a,b):\n",
    "    if not b : \n",
    "        print(\"Bölen sıfır olamaz\")\n",
    "        return \n",
    "    islem = \"/\"\n",
    "    return a,b,a/b,islem\n",
    "def carpma(a,b):\n",
    "    islem = \"*\"\n",
    "    return a,b,a*b,islem\n",
    "def kuvvet(a,b):\n",
    "    islem = \"**\"\n",
    "    return a,b,a**b,islem\n",
    "def mod(a,b):\n",
    "    islem = \"%\"\n",
    "    return a,b,a%b,islem\n",
    "\n",
    "def calculator(a,b,islemTipi):\n",
    "    \n",
    "    if islemTipi == \"+\" :\n",
    "        print(f\"{topla(a,b)[0]} {topla(a,b)[3]} {topla(a,b)[1]} = {topla(a,b)[2]}\")\n",
    "    elif islemTipi == \"-\" :\n",
    "        print(f\"{cikar(a,b)[0]} {cikar(a,b)[3]} {cikar(a,b)[1]} = {cikar(a,b)[2]}\")\n",
    "    elif islemTipi == \"/\" :\n",
    "        print(f\"{bolme(a,b)[0]} {bolme(a,b)[3]} {bolme(a,b)[1]} = {bolme(a,b)[2]}\")\n",
    "    elif islemTipi == \"*\" :\n",
    "        print(f\"{carpma(a,b)[0]} {carpma(a,b)[3]} {carpma(a,b)[1]} = {carpma(a,b)[2]}\")\n",
    "    elif islemTipi == \"**\" :\n",
    "        print(f\"{kuvvet(a,b)[0]} {kuvvet(a,b)[3]} {kuvvet(a,b)[1]} = {kuvvet(a,b)[2]}\")\n",
    "    elif islemTipi == \"%\" :\n",
    "        print(f\"{mod(a,b)[0]} {mod(a,b)[3]} {mod(a,b)[1]} = {mod(a,b)[2]}\")\n",
    "    else :\n",
    "        print(\"Hatalı işlem tipi tekrar deneyiniz\")\n",
    "        isError = True\n",
    "        while isError:\n",
    "            isError = False\n",
    "            a, b, islemTipi = input(\"Sayı ve işlem tipi giriniz (+, -, /, *, **, %): \").split()\n",
    "            calculator(int(a), int(b), islemTipi)\n",
    "\n",
    "\n",
    "a, b, islemTipi = input(\"Sayı ve işlem tipi giriniz (+, -, /, *, **, %): \").split()\n",
    "calculator(int(a), int(b), islemTipi)"
   ]
  }
 ],
 "metadata": {
  "kernelspec": {
   "display_name": "Python 3",
   "language": "python",
   "name": "python3"
  },
  "language_info": {
   "codemirror_mode": {
    "name": "ipython",
    "version": 3
   },
   "file_extension": ".py",
   "mimetype": "text/x-python",
   "name": "python",
   "nbconvert_exporter": "python",
   "pygments_lexer": "ipython3",
   "version": "3.12.0"
  }
 },
 "nbformat": 4,
 "nbformat_minor": 2
}
