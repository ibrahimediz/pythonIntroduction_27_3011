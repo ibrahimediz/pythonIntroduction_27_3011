{
 "cells": [
  {
   "cell_type": "markdown",
   "metadata": {},
   "source": [
    "```\n",
    "liste = [398, 286, 319, 51, 156, 98, 201, 249, 160, 218, 53, 378, 368, 216, 110]\n",
    "```\n",
    "yukarıda bulunan liste üzerinde \n",
    "1. büyükten küçüğe doğru sıralama\n",
    "2. en sonra 3000 sayısını ekleme\n",
    "3. ilk başa \"Garanti\" ifadesini ekleme\n",
    "4. listenin ilk 4 elemanını silme\n",
    "işlemlerini sırasıyla gerçekleştirelim. "
   ]
  },
  {
   "cell_type": "code",
   "execution_count": 2,
   "metadata": {},
   "outputs": [
    {
     "name": "stdout",
     "output_type": "stream",
     "text": [
      "büyükten küçüğe doğru sıralama:  [398, 378, 368, 319, 286, 249, 218, 216, 201, 160, 156, 110, 98, 53, 51]\n",
      "en sona 3000 sayısını ekleme:  [398, 378, 368, 319, 286, 249, 218, 216, 201, 160, 156, 110, 98, 53, 51, 3000]\n",
      "ilk başa \"Garanti\" ifadesini ekleme:  ['Garanti', 398, 378, 368, 319, 286, 249, 218, 216, 201, 160, 156, 110, 98, 53, 51, 3000]\n",
      "listenin ilk 4 elemanını silme:  [319, 286, 249, 218, 216, 201, 160, 156, 110, 98, 53, 51, 3000]\n"
     ]
    }
   ],
   "source": [
    "liste = [398, 286, 319, 51, 156, 98, 201, 249, 160, 218, 53, 378, 368, 216, 110]\n",
    "liste.sort(reverse=True)\n",
    "print(\"büyükten küçüğe doğru sıralama: \", liste)\n",
    "\n",
    "liste.append(3000)\n",
    "print(\"en sona 3000 sayısını ekleme: \", liste)\n",
    "\n",
    "#liste.insert(0, \"Garanti\")\n",
    "#print(\"ilk başa \\\"Garanti\\\" ifadesini ekleme: \", liste)\n",
    "\n",
    "#liste.reverse()\n",
    "#liste.append(\"Garanti\")\n",
    "#liste.reverse()\n",
    "#print(\"ilk başa \\\"Garanti\\\" ifadesini ekleme: \", liste)\n",
    "\n",
    "gt = [\"Garanti\"]\n",
    "gt.extend(liste)\n",
    "liste = gt.copy()\n",
    "print(\"ilk başa \\\"Garanti\\\" ifadesini ekleme: \", liste)\n",
    "\n",
    "liste.pop(0)\n",
    "liste.pop(0)\n",
    "liste.pop(0)\n",
    "liste.pop(0)\n",
    "\n",
    "print(\"listenin ilk 4 elemanını silme: \" , liste)"
   ]
  },
  {
   "cell_type": "code",
   "execution_count": 34,
   "metadata": {},
   "outputs": [
    {
     "data": {
      "text/plain": [
       "'Bir'"
      ]
     },
     "execution_count": 34,
     "metadata": {},
     "output_type": "execute_result"
    }
   ],
   "source": [
    "sozluk = {\n",
    "    \"Falan\": {\n",
    "        \"1\":\"Bir\",\n",
    "        \"2\":\"İki\"\n",
    "    },\n",
    "    \"Filan\":\"Boş\"\n",
    "}\n",
    "\n",
    "sozluk[\"Falan\"][\"1\"]"
   ]
  },
  {
   "cell_type": "code",
   "execution_count": null,
   "metadata": {},
   "outputs": [],
   "source": []
  }
 ],
 "metadata": {
  "kernelspec": {
   "display_name": "Python 3",
   "language": "python",
   "name": "python3"
  },
  "language_info": {
   "codemirror_mode": {
    "name": "ipython",
    "version": 3
   },
   "file_extension": ".py",
   "mimetype": "text/x-python",
   "name": "python",
   "nbconvert_exporter": "python",
   "pygments_lexer": "ipython3",
   "version": "3.12.0"
  }
 },
 "nbformat": 4,
 "nbformat_minor": 2
}
