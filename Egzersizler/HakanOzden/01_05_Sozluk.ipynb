{
 "cells": [
  {
   "cell_type": "markdown",
   "metadata": {},
   "source": [
    "```\n",
    "sozluk = {\"A\":[1,2,4,6,43],\"B\":[4,5,8,676,4,3,2]}\n",
    "```\n",
    "1. yukarıdaki sozlukte değerleri sıralayan python kodunu yazalım\n",
    "2. `b = {\"C\":[54,23,23,64,76]}` ifadesini kullanarak tanımlanan b değişkeni ile sözlüğü güncelleyelim"
   ]
  },
  {
   "cell_type": "code",
   "execution_count": 1,
   "metadata": {},
   "outputs": [
    {
     "name": "stdout",
     "output_type": "stream",
     "text": [
      "The original dictionary is : {'A': [1, 2, 4, 6, 43], 'B': [4, 5, 8, 676, 4, 3, 2]}\n",
      "The sorted dictionary : {'A': [1, 2, 4, 6, 43], 'B': [2, 3, 4, 4, 5, 8, 676]}\n"
     ]
    }
   ],
   "source": [
    "test_dict = {\"A\":[1,2,4,6,43],\"B\":[4,5,8,676,4,3,2]}\n",
    "print(\"The original dictionary is : \" + str(test_dict))\n",
    " \n",
    "# Sort Dictionary key and values List\n",
    "# Using loop + dictionary comprehension\n",
    "res = dict()\n",
    "for key in sorted(test_dict):\n",
    "    res[key] = sorted(test_dict[key])\n",
    " \n",
    "# printing result \n",
    "print(\"The sorted dictionary : \" + str(res))  "
   ]
  },
  {
   "cell_type": "code",
   "execution_count": null,
   "metadata": {},
   "outputs": [],
   "source": []
  }
 ],
 "metadata": {
  "kernelspec": {
   "display_name": "Python 3",
   "language": "python",
   "name": "python3"
  },
  "language_info": {
   "codemirror_mode": {
    "name": "ipython",
    "version": 3
   },
   "file_extension": ".py",
   "mimetype": "text/x-python",
   "name": "python",
   "nbconvert_exporter": "python",
   "pygments_lexer": "ipython3",
   "version": "3.12.0"
  }
 },
 "nbformat": 4,
 "nbformat_minor": 2
}
