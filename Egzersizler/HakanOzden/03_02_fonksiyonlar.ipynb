{
 "cells": [
  {
   "cell_type": "markdown",
   "metadata": {},
   "source": [
    "```\n",
    "def fibo(terim):\n",
    "    a = b = 1\n",
    "    for i in range(terim):\n",
    "        a,b = b,(a+b)\n",
    "    else:\n",
    "        return b\n",
    "```\n",
    "Yukarıda yazılı fonksiyonu recursion prensibini kullanarak tekrar yazalım"
   ]
  },
  {
   "cell_type": "code",
   "execution_count": 13,
   "metadata": {},
   "outputs": [
    {
     "data": {
      "text/plain": [
       "8"
      ]
     },
     "execution_count": 13,
     "metadata": {},
     "output_type": "execute_result"
    }
   ],
   "source": [
    "def fibo(terim):\n",
    "    if terim <= 1:\n",
    "        return 1\n",
    "    else:\n",
    "        return fibo(terim-1) + fibo(terim-2)\n",
    "\n",
    "fibo(5)"
   ]
  }
 ],
 "metadata": {
  "kernelspec": {
   "display_name": "Python 3",
   "language": "python",
   "name": "python3"
  },
  "language_info": {
   "codemirror_mode": {
    "name": "ipython",
    "version": 3
   },
   "file_extension": ".py",
   "mimetype": "text/x-python",
   "name": "python",
   "nbconvert_exporter": "python",
   "pygments_lexer": "ipython3",
   "version": "3.12.0"
  }
 },
 "nbformat": 4,
 "nbformat_minor": 2
}
