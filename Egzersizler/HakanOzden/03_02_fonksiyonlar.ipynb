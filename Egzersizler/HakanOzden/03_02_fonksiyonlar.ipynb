{
 "cells": [
  {
   "cell_type": "markdown",
   "metadata": {},
   "source": [
    "```\n",
    "def fibo(terim):\n",
    "    a = b = 1\n",
    "    for i in range(terim):\n",
    "        a,b = b,(a+b)\n",
    "    else:\n",
    "        return b\n",
    "```\n",
    "Yukarıda yazılı fonksiyonu recursion prensibini kullanarak tekrar yazalım"
   ]
  },
  {
   "cell_type": "code",
   "execution_count": null,
   "metadata": {},
   "outputs": [],
   "source": []
  }
 ],
 "metadata": {
  "language_info": {
   "name": "python"
  }
 },
 "nbformat": 4,
 "nbformat_minor": 2
}
