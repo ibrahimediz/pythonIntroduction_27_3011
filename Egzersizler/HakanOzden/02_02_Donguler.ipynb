{
 "cells": [
  {
   "cell_type": "markdown",
   "metadata": {},
   "source": [
    "Girilen bir sayının faktoriyelini hesaplayan python kodunu yazınız \n"
   ]
  },
  {
   "cell_type": "code",
   "execution_count": 31,
   "metadata": {},
   "outputs": [
    {
     "name": "stdout",
     "output_type": "stream",
     "text": [
      "3628800\n"
     ]
    }
   ],
   "source": [
    "sonuc = 1\n",
    "for i in range(1,int(input(\"bir sayi giriniz\"))+1):\n",
    "    sonuc = sonuc * i\n",
    "print(sonuc)\n"
   ]
  },
  {
   "cell_type": "markdown",
   "metadata": {},
   "source": [
    "```\n",
    "import random\n",
    "random.randint(1,49) # 49 dahil olur\n",
    "```\n",
    "yukarıda bulunan kod satırını kullanarak bir sayısal loto kolonu oluşturan python kodunu yazınız"
   ]
  },
  {
   "cell_type": "code",
   "execution_count": 26,
   "metadata": {},
   "outputs": [
    {
     "name": "stdout",
     "output_type": "stream",
     "text": [
      "12\n",
      "Değil, tekrar deneyiniz\n",
      "Değil, tekrar deneyiniz\n",
      "Değil, tekrar deneyiniz\n",
      "Değil, tekrar deneyiniz\n"
     ]
    }
   ],
   "source": [
    "import random\n",
    "sayi = random.randint(1,49)\n",
    "print(sayi)\n",
    "while True:\n",
    "    if sayi == int(input(\"bir sayi giriniz\")):\n",
    "        break\n",
    "    print(\"Değil, tekrar deneyiniz\")\n",
    "    continue"
   ]
  }
 ],
 "metadata": {
  "kernelspec": {
   "display_name": "Python 3",
   "language": "python",
   "name": "python3"
  },
  "language_info": {
   "codemirror_mode": {
    "name": "ipython",
    "version": 3
   },
   "file_extension": ".py",
   "mimetype": "text/x-python",
   "name": "python",
   "nbconvert_exporter": "python",
   "pygments_lexer": "ipython3",
   "version": "3.12.0"
  }
 },
 "nbformat": 4,
 "nbformat_minor": 2
}
