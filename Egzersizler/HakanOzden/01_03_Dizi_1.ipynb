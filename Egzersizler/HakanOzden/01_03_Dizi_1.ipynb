{
 "cells": [
  {
   "cell_type": "markdown",
   "metadata": {},
   "source": [
    "```\n",
    "adi = input(\"Adınızı Giriniz:\")\n",
    "```\n",
    "yukarıda bulunan kod bloğunu kullanarak kullanıcıdan `adi` değişkenine aktarılan bir str veri tipindeki değeri\n",
    "1. ilk harfini ekrana yazdırınız\n",
    "2. son harfini ekrana yazdırınız\n",
    "3. format fonksiyonunu kullanarak `Hoşgeldiniz [Adi]` mesajını ekrana yazdırınız\n",
    "4. Büyük harfe çevirip yazdırınız  "
   ]
  },
  {
   "cell_type": "code",
   "execution_count": 11,
   "metadata": {},
   "outputs": [
    {
     "name": "stdout",
     "output_type": "stream",
     "text": [
      "Ilk harf: H\n",
      "Son harf: n\n",
      "Hoşgeldiniz Hakan\n",
      "HAKAN\n"
     ]
    }
   ],
   "source": [
    "adi = input(\"Adınızı Giriniz:\")\n",
    "print(\"Ilk harf:\", adi[0])\n",
    "print(\"Son harf:\", adi[-1])\n",
    "print(\"Hoşgeldiniz {0}\".format(adi))\n",
    "print(adi.upper())\n"
   ]
  }
 ],
 "metadata": {
  "kernelspec": {
   "display_name": "Python 3",
   "language": "python",
   "name": "python3"
  },
  "language_info": {
   "codemirror_mode": {
    "name": "ipython",
    "version": 3
   },
   "file_extension": ".py",
   "mimetype": "text/x-python",
   "name": "python",
   "nbconvert_exporter": "python",
   "pygments_lexer": "ipython3",
   "version": "3.12.0"
  }
 },
 "nbformat": 4,
 "nbformat_minor": 2
}
