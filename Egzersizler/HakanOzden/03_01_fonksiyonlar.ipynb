{
 "cells": [
  {
   "cell_type": "markdown",
   "metadata": {},
   "source": [
    "```\n",
    "def fonk(a,b):\n",
    "    islem = \"+\"\n",
    "    return a,b,a+b,islem\n",
    "\n",
    "print(f\"{sonuc[0]} {sonuc[3]} {sonuc[1]} = {sonuc[2]}\")\n",
    "```\n",
    "\n",
    "yukarıdaki kod bloğundan faydalanarak\n",
    "* Toplama\n",
    "* Çıkarma\n",
    "* Bölme\n",
    "* Çarpma\n",
    "* Kuvvet\n",
    "* ModAlma<br>\n",
    "fonksiyonlarını üretelim"
   ]
  },
  {
   "cell_type": "code",
   "execution_count": 5,
   "metadata": {},
   "outputs": [
    {
     "name": "stdout",
     "output_type": "stream",
     "text": [
      "8 % 3 = 2\n",
      "8 ** 3 = 512\n",
      "8 / 3 = 2.6666666666666665\n",
      "8 * 3 = 24\n",
      "8 - 3 = 5\n",
      "8 + 3 = 11\n"
     ]
    }
   ],
   "source": [
    "def topla(a,b):\n",
    "    islem = \"+\"\n",
    "    return a,b,a+b,islem\n",
    "\n",
    "def cikarma(a,b):\n",
    "    islem = \"-\"\n",
    "    return a,b,a-b,islem\n",
    "\n",
    "def carpma(a,b):\n",
    "    islem = \"*\"\n",
    "    return a,b,a*b,islem\n",
    "\n",
    "def bolme(a,b):\n",
    "    islem = \"/\"\n",
    "    return a,b,a/b,islem\n",
    "\n",
    "\n",
    "def kuvvet(a,b):\n",
    "    islem = \"**\"\n",
    "    return a,b,a**b,islem\n",
    "\n",
    "def modalma(a,b):\n",
    "    islem = \"%\"\n",
    "    return a,b,a%b,islem\n",
    "\n",
    "print(f\"{modalma(8,3)[0]} {modalma(8,3)[3]} {modalma(8,3)[1]} = {modalma(8,3)[2]}\")\n",
    "print(f\"{kuvvet(8,3)[0]} {kuvvet(8,3)[3]} {kuvvet(8,3)[1]} = {kuvvet(8,3)[2]}\")\n",
    "print(f\"{bolme(8,3)[0]} {bolme(8,3)[3]} {bolme(8,3)[1]} = {bolme(8,3)[2]}\")\n",
    "print(f\"{carpma(8,3)[0]} {carpma(8,3)[3]} {carpma(8,3)[1]} = {carpma(8,3)[2]}\")\n",
    "print(f\"{cikarma(8,3)[0]} {cikarma(8,3)[3]} {cikarma(8,3)[1]} = {cikarma(8,3)[2]}\")\n",
    "print(f\"{topla(8,3)[0]} {topla(8,3)[3]} {topla(8,3)[1]} = {topla(8,3)[2]}\")\n",
    "\n"
   ]
  }
 ],
 "metadata": {
  "kernelspec": {
   "display_name": "Python 3",
   "language": "python",
   "name": "python3"
  },
  "language_info": {
   "codemirror_mode": {
    "name": "ipython",
    "version": 3
   },
   "file_extension": ".py",
   "mimetype": "text/x-python",
   "name": "python",
   "nbconvert_exporter": "python",
   "pygments_lexer": "ipython3",
   "version": "3.12.0"
  }
 },
 "nbformat": 4,
 "nbformat_minor": 2
}
