{
 "cells": [
  {
   "cell_type": "markdown",
   "metadata": {},
   "source": [
    "```\n",
    "var1 = 1\n",
    "var2 = 2.0\n",
    "var3 = 2.0 + 3j\n",
    "var4 = \"Garanti\"\n",
    "var5 = [1,2,3,4]\n",
    "var6 = (2,23,2,3)\n",
    "var7 = {\"1\":\"Bir\"}\n",
    "var8 = {2,3,4}\n",
    "var9 = True\n",
    "```\n",
    "Yukarıda bulunan değişken tanımlarından faydalanarak her değişken tipinde kendi değişkeninizi oluşturunuz, `type` fonksiyonu ile oluşturduğunuz değişkenin tipini ekrana yazdırınız"
   ]
  },
  {
   "cell_type": "code",
   "execution_count": 8,
   "metadata": {},
   "outputs": [],
   "source": [
    "hvar1  = 666\n",
    "hvar2 = 666.0\n",
    "hvar3 = 666 + 66j\n",
    "hvar4 = \"Alyiyuzaltmisalti\"\n",
    "hvar5 = [6,7,8,9]\n",
    "hvar6 = (34,54,66,77)\n",
    "hvar7 = {\"0\":\"Sifir\"}\n",
    "hvar8 = {0,1,2,3}\n",
    "hvar9 = True"
   ]
  },
  {
   "cell_type": "code",
   "execution_count": 12,
   "metadata": {},
   "outputs": [
    {
     "name": "stdout",
     "output_type": "stream",
     "text": [
      "\u001b[0;31mSignature:\u001b[0m  \u001b[0mstr\u001b[0m\u001b[0;34m.\u001b[0m\u001b[0mreplace\u001b[0m\u001b[0;34m(\u001b[0m\u001b[0mself\u001b[0m\u001b[0;34m,\u001b[0m \u001b[0mold\u001b[0m\u001b[0;34m,\u001b[0m \u001b[0mnew\u001b[0m\u001b[0;34m,\u001b[0m \u001b[0mcount\u001b[0m\u001b[0;34m=\u001b[0m\u001b[0;34m-\u001b[0m\u001b[0;36m1\u001b[0m\u001b[0;34m,\u001b[0m \u001b[0;34m/\u001b[0m\u001b[0;34m)\u001b[0m\u001b[0;34m\u001b[0m\u001b[0;34m\u001b[0m\u001b[0m\n",
      "\u001b[0;31mDocstring:\u001b[0m\n",
      "Return a copy with all occurrences of substring old replaced by new.\n",
      "\n",
      "  count\n",
      "    Maximum number of occurrences to replace.\n",
      "    -1 (the default value) means replace all occurrences.\n",
      "\n",
      "If the optional argument count is given, only the first count occurrences are\n",
      "replaced.\n",
      "\u001b[0;31mType:\u001b[0m      method_descriptor"
     ]
    }
   ],
   "source": [
    "? str.replace"
   ]
  },
  {
   "cell_type": "code",
   "execution_count": 6,
   "metadata": {},
   "outputs": [
    {
     "name": "stdout",
     "output_type": "stream",
     "text": [
      "hvar1 <class 'int'>\n",
      "hvar2 <class 'float'>\n",
      "hvar3 <class 'complex'>\n",
      "hvar4 <class 'str'>\n",
      "hvar5 <class 'list'>\n",
      "hvar6 <class 'tuple'>\n",
      "hvar7 <class 'dict'>\n",
      "hvar8 <class 'set'>\n",
      "hvar9 <class 'bool'>\n"
     ]
    }
   ],
   "source": [
    "print(\"hvar1\" ,  type(hvar1))\n",
    "print(\"hvar2\" ,  type(hvar2))\n",
    "print(\"hvar3\" ,  type(hvar3))\n",
    "print(\"hvar4\" ,  type(hvar4))\n",
    "print(\"hvar5\" ,  type(hvar5))\n",
    "print(\"hvar6\" ,  type(hvar6))\n",
    "print(\"hvar7\" ,  type(hvar7))\n",
    "print(\"hvar8\" ,  type(hvar8))\n",
    "print(\"hvar9\" ,  type(hvar9))"
   ]
  }
 ],
 "metadata": {
  "kernelspec": {
   "display_name": "Python 3",
   "language": "python",
   "name": "python3"
  },
  "language_info": {
   "codemirror_mode": {
    "name": "ipython",
    "version": 3
   },
   "file_extension": ".py",
   "mimetype": "text/x-python",
   "name": "python",
   "nbconvert_exporter": "python",
   "pygments_lexer": "ipython3",
   "version": "3.12.0"
  }
 },
 "nbformat": 4,
 "nbformat_minor": 2
}
