{
 "cells": [
  {
   "cell_type": "markdown",
   "metadata": {},
   "source": [
    "Girilen bir sayının faktoriyelini hesaplayan python kodunu yazınız \n"
   ]
  },
  {
   "cell_type": "code",
   "execution_count": 6,
   "metadata": {},
   "outputs": [
    {
     "name": "stdout",
     "output_type": "stream",
     "text": [
      "24\n"
     ]
    }
   ],
   "source": [
    "sayi = int (input(\"sayi giriniz\"))\n",
    "faktori = 1\n",
    "for i in range (1,sayi+1):\n",
    "    faktori *= i\n",
    "print(faktori)"
   ]
  },
  {
   "cell_type": "code",
   "execution_count": 8,
   "metadata": {},
   "outputs": [
    {
     "name": "stdout",
     "output_type": "stream",
     "text": [
      "[14, 6, 6, 19, 10, 48]\n"
     ]
    }
   ],
   "source": [
    "import random\n",
    "sayi = []\n",
    "for x in range(6):\n",
    "      sayi.append(random.randint(1,49))\n",
    "print(sayi)"
   ]
  },
  {
   "cell_type": "markdown",
   "metadata": {},
   "source": [
    "```\n",
    "import random\n",
    "random.randint(1,49) # 49 dahil olur\n",
    "```\n",
    "yukarıda bulunan kod satırını kullanarak bir sayısal loto kolonu oluşturan python kodunu yazınız"
   ]
  },
  {
   "cell_type": "markdown",
   "metadata": {},
   "source": []
  }
 ],
 "metadata": {
  "kernelspec": {
   "display_name": "Python 3",
   "language": "python",
   "name": "python3"
  },
  "language_info": {
   "codemirror_mode": {
    "name": "ipython",
    "version": 3
   },
   "file_extension": ".py",
   "mimetype": "text/x-python",
   "name": "python",
   "nbconvert_exporter": "python",
   "pygments_lexer": "ipython3",
   "version": "3.12.0"
  }
 },
 "nbformat": 4,
 "nbformat_minor": 2
}
