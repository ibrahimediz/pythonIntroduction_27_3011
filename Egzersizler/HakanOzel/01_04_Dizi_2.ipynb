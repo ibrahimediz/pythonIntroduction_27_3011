{
 "cells": [
  {
   "cell_type": "markdown",
   "metadata": {},
   "source": [
    "```\n",
    "liste = [398, 286, 319, 51, 156, 98, 201, 249, 160, 218, 53, 378, 368, 216, 110]\n",
    "```\n",
    "yukarıda bulunan liste üzerinde \n",
    "1. büyükten küçüğe doğru sıralama\n",
    "2. en sonra 3000 sayısını ekleme\n",
    "3. ilk başa \"Garanti\" ifadesini ekleme\n",
    "4. listenin ilk 4 elemanını silme\n",
    "işlemlerini sırasıyla gerçekleştirelim. "
   ]
  },
  {
   "cell_type": "code",
   "execution_count": 3,
   "metadata": {},
   "outputs": [
    {
     "name": "stdout",
     "output_type": "stream",
     "text": [
      "[398, 319, 286, 249, 218, 201, 160, 156, 98, 51]\n"
     ]
    }
   ],
   "source": [
    "list = [398,286,319,51,156,98,201,249,160,218]\n",
    "list.sort(reverse=True)\n",
    "print(list)"
   ]
  },
  {
   "cell_type": "code",
   "execution_count": 5,
   "metadata": {},
   "outputs": [
    {
     "name": "stdout",
     "output_type": "stream",
     "text": [
      "[398, 286, 319, 51, 156, 98, 201, 249, 160, 218, 3000, 3000]\n"
     ]
    }
   ],
   "source": [
    "list.append(3000)\n",
    "print(list)"
   ]
  },
  {
   "cell_type": "code",
   "execution_count": 6,
   "metadata": {},
   "outputs": [
    {
     "name": "stdout",
     "output_type": "stream",
     "text": [
      "['Garanti', 398, 286, 319, 51, 156, 98, 201, 249, 160, 218, 3000, 3000]\n"
     ]
    }
   ],
   "source": [
    "list.insert(0,\"Garanti\")\n",
    "print(list)"
   ]
  },
  {
   "cell_type": "code",
   "execution_count": 8,
   "metadata": {},
   "outputs": [
    {
     "name": "stdout",
     "output_type": "stream",
     "text": [
      "[51, 156, 98, 201, 249, 160, 218, 3000, 3000]\n"
     ]
    }
   ],
   "source": [
    "del list[:4]\n",
    "print(list)"
   ]
  }
 ],
 "metadata": {
  "kernelspec": {
   "display_name": "Python 3",
   "language": "python",
   "name": "python3"
  },
  "language_info": {
   "codemirror_mode": {
    "name": "ipython",
    "version": 3
   },
   "file_extension": ".py",
   "mimetype": "text/x-python",
   "name": "python",
   "nbconvert_exporter": "python",
   "pygments_lexer": "ipython3",
   "version": "3.12.0"
  }
 },
 "nbformat": 4,
 "nbformat_minor": 2
}
