{
 "cells": [
  {
   "cell_type": "markdown",
   "metadata": {},
   "source": [
    "```\n",
    "def fonk(a,b):\n",
    "    islem = \"+\"\n",
    "    return a,b,a+b,islem\n",
    "\n",
    "print(f\"{sonuc[0]} {sonuc[3]} {sonuc[1]} = {sonuc[2]}\")\n",
    "```\n",
    "\n",
    "yukarıdaki kod bloğundan faydalanarak\n",
    "* Toplama\n",
    "* Çıkarma\n",
    "* Bölme\n",
    "* Çarpma\n",
    "* Kuvvet\n",
    "* ModAlma<br>\n",
    "fonksiyonlarını üretelim"
   ]
  },
  {
   "cell_type": "code",
   "execution_count": 12,
   "metadata": {},
   "outputs": [
    {
     "name": "stdout",
     "output_type": "stream",
     "text": [
      "2 + 3 = 5\n",
      "2 * 3 = 6\n",
      "12 - 3 = 9\n",
      "12 / 3 = 4.0\n",
      "2 ** 3 = 8\n",
      "2 % 3 = 2\n"
     ]
    }
   ],
   "source": [
    "def topla(a,b):\n",
    "    islem = \"+\"\n",
    "    return a,b,a+b,islem\n",
    "def cikar(a,b):    \n",
    "    islem =\"-\"\n",
    "    return a,b,a-b,islem\n",
    "def carp(a,b):    \n",
    "    islem =\"*\"\n",
    "    return a,b,a*b,islem\n",
    "def bol(a,b):\n",
    "    islem =\"/\"\n",
    "    if b!=0:\n",
    "        return a,b,a/b,islem\n",
    "def kuvvet(a,b):\n",
    "    islem =\"**\"\n",
    "    return a,b,a**b,islem            \n",
    "def mod(a,b):\n",
    "    islem =\"%\"\n",
    "    if b!=0:\n",
    "        return a,b,a%b,islem\n",
    "\n",
    "print(f\"{topla(2,3)[0]} {topla(2,3)[3]} {topla(2,3)[1]} = {topla(2,3)[2]}\")\n",
    "print(f\"{carp(2,3)[0]} {carp(2,3)[3]} {carp(2,3)[1]} = {carp(2,3)[2]}\")\n",
    "print(f\"{cikar(12,3)[0]} {cikar(12,3)[3]} {cikar(12,3)[1]} = {cikar(12,3)[2]}\")\n",
    "print(f\"{bol(12,3)[0]} {bol(12,3)[3]} {bol(12,3)[1]} = {bol(12,3)[2]}\")\n",
    "print(f\"{kuvvet(2,3)[0]} {kuvvet(2,3)[3]} {kuvvet(2,3)[1]} = {kuvvet(2,3)[2]}\")\n",
    "print(f\"{mod(2,3)[0]} {mod(2,3)[3]} {mod(2,3)[1]} = {mod(2,3)[2]}\")"
   ]
  }
 ],
 "metadata": {
  "kernelspec": {
   "display_name": "Python 3",
   "language": "python",
   "name": "python3"
  },
  "language_info": {
   "codemirror_mode": {
    "name": "ipython",
    "version": 3
   },
   "file_extension": ".py",
   "mimetype": "text/x-python",
   "name": "python",
   "nbconvert_exporter": "python",
   "pygments_lexer": "ipython3",
   "version": "3.12.0"
  }
 },
 "nbformat": 4,
 "nbformat_minor": 2
}
