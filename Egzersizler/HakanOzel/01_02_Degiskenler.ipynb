{
 "cells": [
  {
   "cell_type": "markdown",
   "metadata": {},
   "source": [
    "```\n",
    "var1 = 1\n",
    "var2 = 2.0\n",
    "var3 = 2.0 + 3j\n",
    "var4 = \"Garanti\"\n",
    "var5 = [1,2,3,4]\n",
    "var6 = (2,23,2,3)\n",
    "var7 = {\"1\":\"Bir\"}\n",
    "var8 = {2,3,4}\n",
    "var9 = True\n",
    "```\n",
    "Yukarıda bulunan değişken tanımlarından faydalanarak her değişken tipinde kendi değişkeninizi oluşturunuz, `type` fonksiyonu ile oluşturduğunuz değişkenin tipini ekrana yazdırınız"
   ]
  },
  {
   "cell_type": "code",
   "execution_count": 1,
   "metadata": {},
   "outputs": [
    {
     "name": "stdout",
     "output_type": "stream",
     "text": [
      "<class 'int'>\n"
     ]
    }
   ],
   "source": [
    "nSayi = 1 ;\n",
    "print(type(nSayi))"
   ]
  },
  {
   "cell_type": "code",
   "execution_count": 2,
   "metadata": {},
   "outputs": [
    {
     "name": "stdout",
     "output_type": "stream",
     "text": [
      "<class 'float'>\n"
     ]
    }
   ],
   "source": [
    "fSayi = 2.0;\n",
    "print(type(fSayi))"
   ]
  },
  {
   "cell_type": "code",
   "execution_count": 14,
   "metadata": {},
   "outputs": [
    {
     "name": "stdout",
     "output_type": "stream",
     "text": [
      "<class 'complex'>\n"
     ]
    }
   ],
   "source": [
    "cSayi = 4.0 + 15j ;\n",
    "print(type(cSayi))"
   ]
  },
  {
   "cell_type": "code",
   "execution_count": 6,
   "metadata": {},
   "outputs": [
    {
     "name": "stdout",
     "output_type": "stream",
     "text": [
      "<class 'str'>\n"
     ]
    }
   ],
   "source": [
    "sStr = \"Bjk\"\n",
    "print(type(sStr))"
   ]
  },
  {
   "cell_type": "code",
   "execution_count": 7,
   "metadata": {},
   "outputs": [
    {
     "name": "stdout",
     "output_type": "stream",
     "text": [
      "<class 'list'>\n"
     ]
    }
   ],
   "source": [
    "sList = [1,2,3]\n",
    "print(type(sList))"
   ]
  },
  {
   "cell_type": "code",
   "execution_count": 11,
   "metadata": {},
   "outputs": [
    {
     "name": "stdout",
     "output_type": "stream",
     "text": [
      "<class 'tuple'>\n",
      "<class 'dict'>\n",
      "<class 'set'>\n",
      "<class 'bool'>\n"
     ]
    }
   ],
   "source": [
    "sTup = (2,22,4)\n",
    "print(type(sTup))\n",
    "sDict = {\"1\":\"Bir\"}\n",
    "print((type(sDict)))\n",
    "sSet={3,4,11}\n",
    "print(type(sSet))\n",
    "sBool=True;\n",
    "print(type(sBool))"
   ]
  }
 ],
 "metadata": {
  "kernelspec": {
   "display_name": "Python 3",
   "language": "python",
   "name": "python3"
  },
  "language_info": {
   "codemirror_mode": {
    "name": "ipython",
    "version": 3
   },
   "file_extension": ".py",
   "mimetype": "text/x-python",
   "name": "python",
   "nbconvert_exporter": "python",
   "pygments_lexer": "ipython3",
   "version": "3.12.0"
  }
 },
 "nbformat": 4,
 "nbformat_minor": 2
}
