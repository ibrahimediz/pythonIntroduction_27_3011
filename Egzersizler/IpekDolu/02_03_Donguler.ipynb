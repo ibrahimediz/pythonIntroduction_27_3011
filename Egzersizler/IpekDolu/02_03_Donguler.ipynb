{
 "cells": [
  {
   "cell_type": "markdown",
   "metadata": {},
   "source": [
    "```\n",
    "mini = 0\n",
    "maxi = 100\n",
    "adim = 1\n",
    "while islem != 3:\n",
    "    tahmin = ............\n",
    "    islem = int(input(f\"tuttuğunuz sayı {tahmin} mi Y=>1,A=>2,OK=>3:\"))\n",
    "    if islem == 1:\n",
    "        .......\n",
    "    elif islem == 2:\n",
    "        .......\n",
    "    elif islem ==3:\n",
    "        print(\"Buldun\")\n",
    "    adim += 1 \n",
    "else:\n",
    "    print(f\"Sayı => {tahmin} {.....} adımda buldum.\")\n",
    "```\n",
    "yukarıda bulunan kod bloğunda yer alan `.......` alanları doldurunuz. "
   ]
  },
  {
   "cell_type": "code",
   "execution_count": 4,
   "metadata": {},
   "outputs": [
    {
     "ename": "TypeError",
     "evalue": "unsupported operand type(s) for +: 'builtin_function_or_method' and 'builtin_function_or_method'",
     "output_type": "error",
     "traceback": [
      "\u001b[0;31m---------------------------------------------------------------------------\u001b[0m",
      "\u001b[0;31mTypeError\u001b[0m                                 Traceback (most recent call last)",
      "Cell \u001b[0;32mIn[4], line 6\u001b[0m\n\u001b[1;32m      4\u001b[0m islem\u001b[39m=\u001b[39m\u001b[39m\"\u001b[39m\u001b[39m \u001b[39m\u001b[39m\"\u001b[39m\n\u001b[1;32m      5\u001b[0m \u001b[39mwhile\u001b[39;00m islem \u001b[39m!=\u001b[39m \u001b[39m3\u001b[39m:\n\u001b[0;32m----> 6\u001b[0m     tahmin \u001b[39m=\u001b[39m \u001b[39mint\u001b[39m((\u001b[39mmin\u001b[39;49m \u001b[39m+\u001b[39;49m \u001b[39mmax\u001b[39;49m)\u001b[39m/\u001b[39m\u001b[39m2\u001b[39m)\n\u001b[1;32m      7\u001b[0m     islem \u001b[39m=\u001b[39m \u001b[39mint\u001b[39m(\u001b[39minput\u001b[39m(\u001b[39mf\u001b[39m\u001b[39m\"\u001b[39m\u001b[39mtuttuğunuz sayı \u001b[39m\u001b[39m{\u001b[39;00mtahmin\u001b[39m}\u001b[39;00m\u001b[39m mi Y=>1,A=>2,OK=>3:\u001b[39m\u001b[39m\"\u001b[39m))\n\u001b[1;32m      8\u001b[0m     \u001b[39mif\u001b[39;00m islem \u001b[39m==\u001b[39m \u001b[39m1\u001b[39m:\n",
      "\u001b[0;31mTypeError\u001b[0m: unsupported operand type(s) for +: 'builtin_function_or_method' and 'builtin_function_or_method'"
     ]
    }
   ],
   "source": [
    "mini = 0\n",
    "maxi = 100\n",
    "adim = 1\n",
    "islem=0\n",
    "while islem != 3:\n",
    "    tahmin = int((min + max)/2)\n",
    "    islem = int(input(f\"tuttuğunuz sayı {tahmin} mi Y=>1,A=>2,OK=>3:\"))\n",
    "    if islem == 1:\n",
    "        min=tahmin \n",
    "    elif islem == 2:\n",
    "        max = tahmin\n",
    "    elif islem ==3:\n",
    "        print(\"Buldun\")\n",
    "    adim += 1 \n",
    "else:\n",
    "    print(f\"Sayı => {tahmin} {adim} adımda buldum.\")"
   ]
  },
  {
   "cell_type": "code",
   "execution_count": null,
   "metadata": {},
   "outputs": [],
   "source": []
  }
 ],
 "metadata": {
  "kernelspec": {
   "display_name": "Python 3",
   "language": "python",
   "name": "python3"
  },
  "language_info": {
   "codemirror_mode": {
    "name": "ipython",
    "version": 3
   },
   "file_extension": ".py",
   "mimetype": "text/x-python",
   "name": "python",
   "nbconvert_exporter": "python",
   "pygments_lexer": "ipython3",
   "version": "3.12.0"
  }
 },
 "nbformat": 4,
 "nbformat_minor": 2
}
