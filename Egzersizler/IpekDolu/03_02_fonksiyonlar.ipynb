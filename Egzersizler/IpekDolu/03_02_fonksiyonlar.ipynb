{
 "cells": [
  {
   "cell_type": "markdown",
   "metadata": {},
   "source": [
    "```\n",
    "def fibo(terim):\n",
    "    a = b = 1\n",
    "    for i in range(terim):\n",
    "        a,b = b,(a+b)\n",
    "    else:\n",
    "        return b\n",
    "```\n",
    "Yukarıda yazılı fonksiyonu recursion prensibini kullanarak tekrar yazalım"
   ]
  },
  {
   "cell_type": "code",
   "execution_count": 10,
   "metadata": {},
   "outputs": [],
   "source": [
    "def Fibo(n):\n",
    "    if n< 0:\n",
    "        print(\"başlayamaz\")\n",
    "    # First Fibonacci number is 0\n",
    "    elif n == 1:\n",
    "        return 1\n",
    "    # Second Fibonacci number is 1\n",
    "    elif n == 2:\n",
    "        return 1\n",
    "    else:\n",
    "        return Fibo(n-1)+Fibo(n-2)"
   ]
  },
  {
   "cell_type": "code",
   "execution_count": 12,
   "metadata": {},
   "outputs": [
    {
     "data": {
      "text/plain": [
       "2"
      ]
     },
     "execution_count": 12,
     "metadata": {},
     "output_type": "execute_result"
    }
   ],
   "source": [
    "Fibo(3)"
   ]
  },
  {
   "cell_type": "code",
   "execution_count": null,
   "metadata": {},
   "outputs": [],
   "source": []
  }
 ],
 "metadata": {
  "kernelspec": {
   "display_name": "Python 3",
   "language": "python",
   "name": "python3"
  },
  "language_info": {
   "codemirror_mode": {
    "name": "ipython",
    "version": 3
   },
   "file_extension": ".py",
   "mimetype": "text/x-python",
   "name": "python",
   "nbconvert_exporter": "python",
   "pygments_lexer": "ipython3",
   "version": "3.12.0"
  }
 },
 "nbformat": 4,
 "nbformat_minor": 2
}
