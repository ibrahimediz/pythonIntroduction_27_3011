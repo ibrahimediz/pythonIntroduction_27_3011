{
 "cells": [
  {
   "cell_type": "markdown",
   "metadata": {},
   "source": [
    "```\n",
    "def fonk(a,b):\n",
    "    islem = \"+\"\n",
    "    return a,b,a+b,islem\n",
    "\n",
    "print(f\"{sonuc[0]} {sonuc[3]} {sonuc[1]} = {sonuc[2]}\")\n",
    "```\n",
    "\n",
    "yukarıdaki kod bloğundan faydalanarak\n",
    "* Toplama\n",
    "* Çıkarma\n",
    "* Bölme\n",
    "* Çarpma\n",
    "* Kuvvet\n",
    "* ModAlma<br>\n",
    "fonksiyonlarını üretelim"
   ]
  },
  {
   "cell_type": "code",
   "execution_count": 13,
   "metadata": {},
   "outputs": [
    {
     "name": "stdout",
     "output_type": "stream",
     "text": [
      "kuvvet\n",
      "243\n"
     ]
    }
   ],
   "source": [
    "def toplama(a,b):\n",
    "    print(\"toplama\")\n",
    "    print(a+b)\n",
    "\n",
    "def carpma(a,b):\n",
    "    print(\"carpma\")\n",
    "    print(a*b)\n",
    "\n",
    "def cikarma(a,b):\n",
    "    print(\"cikarma\")\n",
    "    print(a-b)\n",
    "\n",
    "def bolme(a,b):\n",
    "    print(\"bolme\")\n",
    "    print(a/b)\n",
    "\n",
    "def kuvvet(a,b):\n",
    "    print(\"kuvvet\")\n",
    "    print(a**b)\n",
    "\n",
    "def mod(a,b):\n",
    "    print(\"mod\")\n",
    "    print(a%b)\n",
    "\n",
    "def fonk(a,b,islem):\n",
    "    \n",
    "    \n",
    "    if islem == \"+\":\n",
    "        toplama(a,b)\n",
    "\n",
    "    if islem == \"*\":\n",
    "        carpma(a,b)\n",
    "\n",
    "    if islem == \"/\":\n",
    "        bolme(a,b)\n",
    "\n",
    "    if islem == \"-\":\n",
    "        cikarma(a,b)\n",
    "\n",
    "    if islem == \"**\":\n",
    "        kuvvet(a,b)\n",
    "\n",
    "    if islem == \"%\":\n",
    "        mod(a,b)\n",
    "\n",
    "\n",
    "\n",
    "\n",
    "\n",
    "fonk(3,5,\"**\")\n"
   ]
  },
  {
   "cell_type": "code",
   "execution_count": null,
   "metadata": {},
   "outputs": [],
   "source": []
  }
 ],
 "metadata": {
  "kernelspec": {
   "display_name": "Python 3",
   "language": "python",
   "name": "python3"
  },
  "language_info": {
   "codemirror_mode": {
    "name": "ipython",
    "version": 3
   },
   "file_extension": ".py",
   "mimetype": "text/x-python",
   "name": "python",
   "nbconvert_exporter": "python",
   "pygments_lexer": "ipython3",
   "version": "3.12.0"
  }
 },
 "nbformat": 4,
 "nbformat_minor": 2
}
