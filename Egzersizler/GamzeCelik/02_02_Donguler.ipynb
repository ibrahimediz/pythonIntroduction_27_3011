{
 "cells": [
  {
   "cell_type": "markdown",
   "metadata": {},
   "source": [
    "Girilen bir sayının faktoriyelini hesaplayan python kodunu yazınız \n"
   ]
  },
  {
   "cell_type": "code",
   "execution_count": 4,
   "metadata": {},
   "outputs": [
    {
     "name": "stdout",
     "output_type": "stream",
     "text": [
      "Faktoriyel Sonucu: 5040\n"
     ]
    }
   ],
   "source": [
    "sayi= int(input(\"Faktoriyeli hesaplanacak değeri giriniz:\"))\n",
    "deger = 1\n",
    "for i in range(sayi):\n",
    "    deger = deger*(i+1)\n",
    "print(\"Faktoriyel Sonucu:\", deger )"
   ]
  },
  {
   "cell_type": "markdown",
   "metadata": {},
   "source": [
    "```\n",
    "import random\n",
    "random.randint(1,49) # 49 dahil olur\n",
    "```\n",
    "yukarıda bulunan kod satırını kullanarak bir sayısal loto kolonu oluşturan python kodunu yazınız"
   ]
  },
  {
   "cell_type": "code",
   "execution_count": 6,
   "metadata": {},
   "outputs": [
    {
     "data": {
      "text/plain": [
       "[44, 35, 25, 38, 30, 14]"
      ]
     },
     "execution_count": 6,
     "metadata": {},
     "output_type": "execute_result"
    }
   ],
   "source": [
    "import random\n",
    "deger=[random.randint(1,49) for i in range(1,7)]\n",
    "deger\n"
   ]
  },
  {
   "cell_type": "code",
   "execution_count": 8,
   "metadata": {},
   "outputs": [
    {
     "name": "stdout",
     "output_type": "stream",
     "text": [
      "  # ### ### \n",
      "  #   #   # \n",
      "  # ### ### \n",
      "  # #     # \n",
      "  # ### ### \n"
     ]
    }
   ],
   "source": [
    "def display_number(number):\n",
    "    segments = {\n",
    "        0: ['###', '# #', '# #', '# #', '###'],\n",
    "        1: ['  #', '  #', '  #', '  #', '  #'],\n",
    "        2: ['###', '  #', '###', '#  ', '###'],\n",
    "        3: ['###', '  #', '###', '  #', '###'],\n",
    "        4: ['# #', '# #', '###', '  #', '  #'],\n",
    "        5: ['###', '#  ', '###', '  #', '###'],\n",
    "        6: ['###', '#  ', '###', '# #', '###'],\n",
    "        7: ['###', '  #', '  #', '  #', '  #'],\n",
    "        8: ['###', '# #', '###', '# #', '###'],\n",
    "        9: ['###', '# #', '###', '  #', '###']\n",
    "    }\n",
    "\n",
    "    digits = str(number)\n",
    "    rows = ['' for _ in range(5)]\n",
    "\n",
    "    for digit in digits:\n",
    "        segments_of_digit = segments.get(int(digit), [' ' * 3] * 5)\n",
    "        for i in range(5):\n",
    "            rows[i] += segments_of_digit[i] + ' '\n",
    "\n",
    "    for row in rows:\n",
    "        print(row)\n",
    "\n",
    "# Example usage\n",
    "display_number(123)"
   ]
  },
  {
   "cell_type": "code",
   "execution_count": null,
   "metadata": {},
   "outputs": [],
   "source": []
  },
  {
   "cell_type": "markdown",
   "metadata": {},
   "source": []
  }
 ],
 "metadata": {
  "kernelspec": {
   "display_name": "Python 3",
   "language": "python",
   "name": "python3"
  },
  "language_info": {
   "codemirror_mode": {
    "name": "ipython",
    "version": 3
   },
   "file_extension": ".py",
   "mimetype": "text/x-python",
   "name": "python",
   "nbconvert_exporter": "python",
   "pygments_lexer": "ipython3",
   "version": "3.12.0"
  }
 },
 "nbformat": 4,
 "nbformat_minor": 2
}
