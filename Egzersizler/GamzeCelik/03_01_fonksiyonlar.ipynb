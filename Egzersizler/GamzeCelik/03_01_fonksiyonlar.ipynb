{
 "cells": [
  {
   "cell_type": "markdown",
   "metadata": {},
   "source": [
    "```\n",
    "def fonk(a,b):\n",
    "    islem = \"+\"\n",
    "    return a,b,a+b,islem\n",
    "\n",
    "print(f\"{sonuc[0]} {sonuc[3]} {sonuc[1]} = {sonuc[2]}\")\n",
    "```\n",
    "\n",
    "yukarıdaki kod bloğundan faydalanarak\n",
    "* Toplama\n",
    "* Çıkarma\n",
    "* Bölme\n",
    "* Çarpma\n",
    "* Kuvvet\n",
    "* ModAlma<br>\n",
    "fonksiyonlarını üretelim"
   ]
  },
  {
   "cell_type": "code",
   "execution_count": 10,
   "metadata": {},
   "outputs": [
    {
     "name": "stdout",
     "output_type": "stream",
     "text": [
      "5 + 1 = 6\n",
      "15 - 3 = 12\n",
      "2 * 6 = 12\n",
      "10 / 2 = 5.0\n",
      "5 ** 3 = 125\n",
      "20 % 6 = 2\n"
     ]
    }
   ],
   "source": [
    "def topla(a,b):\n",
    "    islem = \"+\"\n",
    "    return a,b,a+b,islem\n",
    "def cikar(a,b):\n",
    "    islem = \"-\"\n",
    "    return a,b,a-b,islem\n",
    "def carp(a,b):\n",
    "    islem = \"*\"\n",
    "    return a,b,a*b,islem\n",
    "def bol(a,b):\n",
    "    islem = \"/\"\n",
    "    return a,b,a/b,islem\n",
    "def kuvvet(a,b):\n",
    "    islem = \"**\"\n",
    "    return a,b,a**b,islem\n",
    "def mod(a,b):\n",
    "    islem = \"%\"\n",
    "    return a,b,a%b,islem\n",
    "\n",
    "print(f\"{topla(5,1)[0]} {topla(5,1)[3]} {topla(5,1)[1]} = {topla(5,1)[2]}\")\n",
    "print(f\"{cikar(15,3)[0]} {cikar(15,3)[3]} {cikar(15,3)[1]} = {cikar(15,3)[2]}\")\n",
    "print(f\"{carp(2,6)[0]} {carp(2,6)[3]} {carp(2,6)[1]} = {carp(2,6)[2]}\")\n",
    "print(f\"{bol(10,2)[0]} {bol(10,3)[3]} {bol(10,2)[1]} = {bol(10,2)[2]}\")\n",
    "print(f\"{kuvvet(5,3)[0]} {kuvvet(5,3)[3]} {kuvvet(5,3)[1]} = {kuvvet(5,3)[2]}\")\n",
    "print(f\"{mod(20,6)[0]} {mod(20,6)[3]} {mod(20,6)[1]} = {mod(20,6)[2]}\")\n"
   ]
  }
 ],
 "metadata": {
  "kernelspec": {
   "display_name": "Python 3",
   "language": "python",
   "name": "python3"
  },
  "language_info": {
   "codemirror_mode": {
    "name": "ipython",
    "version": 3
   },
   "file_extension": ".py",
   "mimetype": "text/x-python",
   "name": "python",
   "nbconvert_exporter": "python",
   "pygments_lexer": "ipython3",
   "version": "3.12.0"
  }
 },
 "nbformat": 4,
 "nbformat_minor": 2
}
