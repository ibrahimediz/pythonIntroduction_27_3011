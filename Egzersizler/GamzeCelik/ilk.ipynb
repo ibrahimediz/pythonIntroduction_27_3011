{
 "cells": [
  {
   "cell_type": "code",
   "execution_count": null,
   "metadata": {},
   "outputs": [],
   "source": [
    "print(\"Merhaba Televole\")\n",
    "print(\"Merhaba\",\"Dünya\",sep=\";\")"
   ]
  }
 ],
 "metadata": {
  "language_info": {
   "name": "python"
  }
 },
 "nbformat": 4,
 "nbformat_minor": 2
}
