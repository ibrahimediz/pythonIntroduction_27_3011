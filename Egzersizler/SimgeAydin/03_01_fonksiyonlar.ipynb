{
 "cells": [
  {
   "cell_type": "markdown",
   "metadata": {},
   "source": [
    "```\n",
    "def fonk(a,b):\n",
    "    islem = \"+\"\n",
    "    return a,b,a+b,islem\n",
    "\n",
    "print(f\"{sonuc[0]} {sonuc[3]} {sonuc[1]} = {sonuc[2]}\")\n",
    "```\n",
    "\n",
    "yukarıdaki kod bloğundan faydalanarak\n",
    "* Toplama\n",
    "* Çıkarma\n",
    "* Bölme\n",
    "* Çarpma\n",
    "* Kuvvet\n",
    "* ModAlma<br>\n",
    "fonksiyonlarını üretelim"
   ]
  },
  {
   "cell_type": "code",
   "execution_count": 36,
   "metadata": {},
   "outputs": [
    {
     "name": "stdout",
     "output_type": "stream",
     "text": [
      "5 pow 3 = 125\n"
     ]
    }
   ],
   "source": [
    "def topla(a,b):\n",
    "    islem = \"+\"\n",
    "    return a,b,a+b,islem\n",
    "\n",
    "def fark(a,b):\n",
    "    islem = \"-\"\n",
    "    return a,b,a-b,islem\n",
    "\n",
    "def bol(a,b):\n",
    "    islem = \"/\"\n",
    "    return a,b,a/b,islem\n",
    "\n",
    "def carp(a,b):\n",
    "    islem = \"*\"\n",
    "    return a,b,a*b,islem\n",
    "\n",
    "def mod(a,b):\n",
    "    islem = \"mod\"\n",
    "    return a,b,a%b,islem\n",
    "\n",
    "def power(a,b):\n",
    "    islem = \"pow\"\n",
    "    return a,b,a**b,islem\n",
    "\n",
    "\n",
    "sonuc=power(5,3)\n",
    "print(f\"{sonuc[0]} {sonuc[3]} {sonuc[1]} = {sonuc[2]}\")"
   ]
  }
 ],
 "metadata": {
  "kernelspec": {
   "display_name": "Python 3",
   "language": "python",
   "name": "python3"
  },
  "language_info": {
   "codemirror_mode": {
    "name": "ipython",
    "version": 3
   },
   "file_extension": ".py",
   "mimetype": "text/x-python",
   "name": "python",
   "nbconvert_exporter": "python",
   "pygments_lexer": "ipython3",
   "version": "3.12.0"
  }
 },
 "nbformat": 4,
 "nbformat_minor": 2
}
