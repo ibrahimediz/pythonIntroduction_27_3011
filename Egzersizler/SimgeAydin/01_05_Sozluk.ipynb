{
 "cells": [
  {
   "cell_type": "markdown",
   "metadata": {},
   "source": [
    "```\n",
    "sozluk = {\"A\":[1,2,4,6,43],\"B\":[4,5,8,676,4,3,2]}\n",
    "```\n",
    "1. yukarıdaki sozlukte değerleri sıralayan python kodunu yazalım\n",
    "2. `b = {\"C\":[54,23,23,64,76]}` ifadesini kullanarak tanımlanan b değişkeni ile sözlüğü güncelleyelim"
   ]
  },
  {
   "cell_type": "code",
   "execution_count": null,
   "metadata": {},
   "outputs": [],
   "source": []
  }
 ],
 "metadata": {
  "language_info": {
   "name": "python"
  }
 },
 "nbformat": 4,
 "nbformat_minor": 2
}
