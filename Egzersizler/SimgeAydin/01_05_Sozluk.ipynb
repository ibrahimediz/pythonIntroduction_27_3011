{
 "cells": [
  {
   "cell_type": "markdown",
   "metadata": {},
   "source": [
    "```\n",
    "sozluk = {\"A\":[1,2,4,6,43],\"B\":[4,5,8,676,4,3,2]}\n",
    "```\n",
    "1. yukarıdaki sozlukte değerleri sıralayan python kodunu yazalım\n",
    "2. `b = {\"C\":[54,23,23,64,76]}` ifadesini kullanarak tanımlanan b değişkeni ile sözlüğü güncelleyelim"
   ]
  },
  {
   "cell_type": "code",
   "execution_count": 1,
   "metadata": {},
   "outputs": [
    {
     "data": {
      "text/plain": [
       "{'A': [1, 2, 4, 6, 43], 'B': [2, 3, 4, 4, 5, 8, 676]}"
      ]
     },
     "execution_count": 1,
     "metadata": {},
     "output_type": "execute_result"
    }
   ],
   "source": [
    "sozluk = {\"A\":[1,2,4,6,43],\"B\":[4,5,8,676,4,3,2]}\n",
    "sozluk[\"A\"].sort()\n",
    "sozluk[\"B\"].sort()\n",
    "sozluk"
   ]
  },
  {
   "cell_type": "code",
   "execution_count": 2,
   "metadata": {},
   "outputs": [
    {
     "data": {
      "text/plain": [
       "{'A': [1, 2, 4, 6, 43],\n",
       " 'B': [2, 3, 4, 4, 5, 8, 676],\n",
       " 'C': [54, 23, 23, 64, 76]}"
      ]
     },
     "execution_count": 2,
     "metadata": {},
     "output_type": "execute_result"
    }
   ],
   "source": [
    "b = {\"C\":[54,23,23,64,76]}\n",
    "##sozluk[\"B\"]=b[\"C\"]\n",
    "sozluk.update(b)\n",
    "sozluk"
   ]
  },
  {
   "cell_type": "code",
   "execution_count": null,
   "metadata": {},
   "outputs": [],
   "source": []
  }
 ],
 "metadata": {
  "kernelspec": {
   "display_name": "Python 3",
   "language": "python",
   "name": "python3"
  },
  "language_info": {
   "codemirror_mode": {
    "name": "ipython",
    "version": 3
   },
   "file_extension": ".py",
   "mimetype": "text/x-python",
   "name": "python",
   "nbconvert_exporter": "python",
   "pygments_lexer": "ipython3",
   "version": "3.12.0"
  }
 },
 "nbformat": 4,
 "nbformat_minor": 2
}
