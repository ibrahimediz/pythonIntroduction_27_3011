{
 "cells": [
  {
   "cell_type": "markdown",
   "metadata": {},
   "source": [
    "```\n",
    "mini = 0\n",
    "maxi = 100\n",
    "adim = 1\n",
    "while islem != 3:\n",
    "    tahmin = ............\n",
    "    islem = int(input(f\"tuttuğunuz sayı {tahmin} mi Y=>1,A=>2,OK=>3:\"))\n",
    "    if islem == 1:\n",
    "        .......\n",
    "    elif islem == 2:\n",
    "        .......\n",
    "    elif islem ==3:\n",
    "        print(\"Buldun\")\n",
    "    adim += 1 \n",
    "else:\n",
    "    print(f\"Sayı => {tahmin} {.....} adımda buldum.\")\n",
    "```\n",
    "yukarıda bulunan kod bloğunda yer alan `.......` alanları doldurunuz. "
   ]
  },
  {
   "cell_type": "code",
   "execution_count": 7,
   "metadata": {},
   "outputs": [
    {
     "ename": "IndentationError",
     "evalue": "expected an indented block after 'if' statement on line 7 (365351946.py, line 8)",
     "output_type": "error",
     "traceback": [
      "\u001b[0;36m  Cell \u001b[0;32mIn[7], line 8\u001b[0;36m\u001b[0m\n\u001b[0;31m    tahmin= 10\u001b[0m\n\u001b[0m    ^\u001b[0m\n\u001b[0;31mIndentationError\u001b[0m\u001b[0;31m:\u001b[0m expected an indented block after 'if' statement on line 7\n"
     ]
    }
   ],
   "source": [
    "mini = 0\n",
    "maxi = 100\n",
    "adim = 1\n",
    "while islem != 3:\n",
    "    tahmin = (maxi-mini)/2\n",
    "    islem = int(input(f\"tuttuğunuz sayı {tahmin} mi Y=>1,A=>2,OK=>3:\"))\n",
    "    if islem == 1:\n",
    "    tahmin= \n",
    "    elif islem == 2:\n",
    "     tahmin=\n",
    "    elif islem ==3:\n",
    "        print(\"Buldun\")\n",
    "    adim += 1 \n",
    "else:\n",
    "    print(f\"Sayı => {tahmin} {adim} adımda buldum.\")"
   ]
  }
 ],
 "metadata": {
  "kernelspec": {
   "display_name": "Python 3",
   "language": "python",
   "name": "python3"
  },
  "language_info": {
   "codemirror_mode": {
    "name": "ipython",
    "version": 3
   },
   "file_extension": ".py",
   "mimetype": "text/x-python",
   "name": "python",
   "nbconvert_exporter": "python",
   "pygments_lexer": "ipython3",
   "version": "3.12.0"
  }
 },
 "nbformat": 4,
 "nbformat_minor": 2
}
