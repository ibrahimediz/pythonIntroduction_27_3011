{
 "cells": [
  {
   "cell_type": "markdown",
   "metadata": {},
   "source": [
    "```\n",
    "liste = [398, 286, 319, 51, 156, 98, 201, 249, 160, 218, 53, 378, 368, 216, 110]\n",
    "```\n",
    "yukarıda bulunan liste üzerinde \n",
    "1. büyükten küçüğe doğru sıralama\n",
    "2. en sonra 3000 sayısını ekleme\n",
    "3. ilk başa \"Garanti\" ifadesini ekleme\n",
    "4. listenin ilk 4 elemanını silme\n",
    "işlemlerini sırasıyla gerçekleştirelim. "
   ]
  },
  {
   "cell_type": "code",
   "execution_count": 29,
   "metadata": {},
   "outputs": [
    {
     "data": {
      "text/plain": [
       "[398, 378, 368, 319, 286, 249, 218, 216, 201, 160, 156, 110, 98, 53, 51]"
      ]
     },
     "execution_count": 29,
     "metadata": {},
     "output_type": "execute_result"
    }
   ],
   "source": [
    "liste = [398, 286, 319, 51, 156, 98, 201, 249, 160, 218, 53, 378, 368, 216, 110]\n",
    "liste.sort(reverse=True)\n",
    "liste"
   ]
  },
  {
   "cell_type": "code",
   "execution_count": 30,
   "metadata": {},
   "outputs": [
    {
     "data": {
      "text/plain": [
       "[398, 378, 368, 319, 286, 249, 218, 216, 201, 160, 156, 110, 98, 53, 51, 3000]"
      ]
     },
     "execution_count": 30,
     "metadata": {},
     "output_type": "execute_result"
    }
   ],
   "source": [
    "liste.append(3000)\n",
    "liste"
   ]
  },
  {
   "cell_type": "code",
   "execution_count": 31,
   "metadata": {},
   "outputs": [
    {
     "data": {
      "text/plain": [
       "['Garanti',\n",
       " 398,\n",
       " 378,\n",
       " 368,\n",
       " 319,\n",
       " 286,\n",
       " 249,\n",
       " 218,\n",
       " 216,\n",
       " 201,\n",
       " 160,\n",
       " 156,\n",
       " 110,\n",
       " 98,\n",
       " 53,\n",
       " 51,\n",
       " 3000]"
      ]
     },
     "execution_count": 31,
     "metadata": {},
     "output_type": "execute_result"
    }
   ],
   "source": [
    "liste.insert(0,\"Garanti\")\n",
    "liste"
   ]
  },
  {
   "cell_type": "code",
   "execution_count": 33,
   "metadata": {},
   "outputs": [
    {
     "name": "stdout",
     "output_type": "stream",
     "text": [
      "[319, 286, 249, 218, 216, 201, 160, 156, 110, 98, 53, 51, 3000]\n"
     ]
    }
   ],
   "source": [
    "b=liste[4:]\n",
    "print(b)\n"
   ]
  }
 ],
 "metadata": {
  "kernelspec": {
   "display_name": "Python 3",
   "language": "python",
   "name": "python3"
  },
  "language_info": {
   "codemirror_mode": {
    "name": "ipython",
    "version": 3
   },
   "file_extension": ".py",
   "mimetype": "text/x-python",
   "name": "python",
   "nbconvert_exporter": "python",
   "pygments_lexer": "ipython3",
   "version": "3.12.0"
  }
 },
 "nbformat": 4,
 "nbformat_minor": 2
}
