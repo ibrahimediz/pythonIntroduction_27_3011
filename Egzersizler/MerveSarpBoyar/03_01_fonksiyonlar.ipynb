{
 "cells": [
  {
   "cell_type": "markdown",
   "metadata": {},
   "source": [
    "```\n",
    "def fonk(a,b):\n",
    "    islem = \"+\"\n",
    "    return a,b,a+b,islem\n",
    "\n",
    "print(f\"{sonuc[0]} {sonuc[3]} {sonuc[1]} = {sonuc[2]}\")\n",
    "```\n",
    "\n",
    "yukarıdaki kod bloğundan faydalanarak\n",
    "* Toplama\n",
    "* Çıkarma\n",
    "* Bölme\n",
    "* Çarpma\n",
    "* Kuvvet\n",
    "* ModAlma<br>\n",
    "fonksiyonlarını üretelim"
   ]
  },
  {
   "cell_type": "code",
   "execution_count": 21,
   "metadata": {},
   "outputs": [],
   "source": [
    "def toplama(a,b):\n",
    "    islem = \"+\"\n",
    "    return a,b,a+b,islem\n",
    "    \n",
    "\n",
    "def cikarma(a,b):  \n",
    "    islem=\"-\"\n",
    "    return a,b,a-b,islem\n",
    "    \n",
    "\n",
    "def carpma(a,b): \n",
    "    islem=\"*\"\n",
    "    return a,b,a*b,islem\n",
    "    \n",
    "\n",
    "def bolme(a,b):\n",
    "    islem=\"-\"\n",
    "    return a,b,a/b,islem\n",
    "     \n",
    "\n",
    "sonuc=carpma(8,4) \n",
    "\n",
    "secim=int(input(\"Secim yapiniz\"))\n",
    "\n",
    "if secim == '1':\n",
    "   print(f\"{sonuc[0]} {sonuc[3]} {sonuc[1]} = {sonuc[2]}\")\n",
    " \n",
    "elif secim == '2':\n",
    "    print(f\"{sonuc[0]} {sonuc[3]} {sonuc[1]} = {sonuc[2]}\")\n",
    " \n",
    "elif secim == '3':\n",
    "    print(f\"{sonuc[0]} {sonuc[3]} {sonuc[1]} = {sonuc[2]}\")\n",
    " \n",
    "elif secim == '4':\n",
    "    print(f\"{sonuc[0]} {sonuc[3]} {sonuc[1]} = {sonuc[2]}\")\n",
    "\n",
    "\n",
    "\n"
   ]
  },
  {
   "cell_type": "code",
   "execution_count": null,
   "metadata": {},
   "outputs": [],
   "source": []
  },
  {
   "cell_type": "code",
   "execution_count": null,
   "metadata": {},
   "outputs": [],
   "source": []
  }
 ],
 "metadata": {
  "kernelspec": {
   "display_name": "Python 3",
   "language": "python",
   "name": "python3"
  },
  "language_info": {
   "codemirror_mode": {
    "name": "ipython",
    "version": 3
   },
   "file_extension": ".py",
   "mimetype": "text/x-python",
   "name": "python",
   "nbconvert_exporter": "python",
   "pygments_lexer": "ipython3",
   "version": "3.12.0"
  }
 },
 "nbformat": 4,
 "nbformat_minor": 2
}
