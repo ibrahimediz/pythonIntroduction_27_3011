{
 "cells": [
  {
   "cell_type": "markdown",
   "metadata": {},
   "source": [
    "Girilen bir sayının faktoriyelini hesaplayan python kodunu yazınız \n"
   ]
  },
  {
   "cell_type": "code",
   "execution_count": 1,
   "metadata": {},
   "outputs": [
    {
     "data": {
      "text/plain": [
       "120"
      ]
     },
     "execution_count": 1,
     "metadata": {},
     "output_type": "execute_result"
    }
   ],
   "source": [
    "import math\n",
    "math.factorial(5)"
   ]
  },
  {
   "cell_type": "code",
   "execution_count": 2,
   "metadata": {},
   "outputs": [
    {
     "name": "stdout",
     "output_type": "stream",
     "text": [
      "120\n"
     ]
    }
   ],
   "source": [
    "sonuc = 1\n",
    "sayi = int(input(\"___\"))\n",
    "for i in range(1,sayi+1):\n",
    "    sonuc *=i\n",
    "print(sonuc)"
   ]
  },
  {
   "cell_type": "markdown",
   "metadata": {},
   "source": [
    "```\n",
    "import random\n",
    "random.randint(1,49) # 49 dahil olur\n",
    "```\n",
    "yukarıda bulunan kod satırını kullanarak bir sayısal loto kolonu oluşturan python kodunu yazınız"
   ]
  },
  {
   "cell_type": "code",
   "execution_count": 4,
   "metadata": {},
   "outputs": [
    {
     "name": "stdout",
     "output_type": "stream",
     "text": [
      "[18, 19, 23, 24, 44, 47]\n"
     ]
    }
   ],
   "source": [
    "import random\n",
    "random.randint(1,49) # 49 dahil olur\n",
    "liste = []\n",
    "for i in range(6):\n",
    "    sayi = random.randint(1,49)\n",
    "    while sayi in liste:\n",
    "        sayi = random.randint(1,49)\n",
    "    liste.append(sayi)\n",
    "else:\n",
    "    liste.sort()\n",
    "    print(liste)"
   ]
  },
  {
   "cell_type": "code",
   "execution_count": 14,
   "metadata": {},
   "outputs": [],
   "source": [
    "import random\n",
    "for i in range(100000):\n",
    "    liste = random.sample([i for i in range(1,50)],6) #####\n",
    "    if len(liste) != len(set(liste)):\n",
    "        print(\"YAKALADIM\")\n",
    "        print(liste)"
   ]
  },
  {
   "cell_type": "code",
   "execution_count": null,
   "metadata": {},
   "outputs": [],
   "source": []
  }
 ],
 "metadata": {
  "kernelspec": {
   "display_name": "Python 3",
   "language": "python",
   "name": "python3"
  },
  "language_info": {
   "codemirror_mode": {
    "name": "ipython",
    "version": 3
   },
   "file_extension": ".py",
   "mimetype": "text/x-python",
   "name": "python",
   "nbconvert_exporter": "python",
   "pygments_lexer": "ipython3",
   "version": "3.12.0"
  }
 },
 "nbformat": 4,
 "nbformat_minor": 2
}
