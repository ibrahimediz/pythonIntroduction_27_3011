{
 "cells": [
  {
   "cell_type": "markdown",
   "metadata": {},
   "source": [
    "```\n",
    "def fonk(a,b):\n",
    "    islem = \"+\"\n",
    "    return a,b,a+b,islem\n",
    "\n",
    "print(f\"{sonuc[0]} {sonuc[3]} {sonuc[1]} = {sonuc[2]}\")\n",
    "```\n",
    "\n",
    "yukarıdaki kod bloğundan faydalanarak\n",
    "* Toplama\n",
    "* Çıkarma\n",
    "* Bölme\n",
    "* Çarpma\n",
    "* Kuvvet\n",
    "* ModAlma<br>\n",
    "fonksiyonlarını üretelim"
   ]
  },
  {
   "cell_type": "code",
   "execution_count": 1,
   "metadata": {},
   "outputs": [
    {
     "ename": "NameError",
     "evalue": "name 'carpma' is not defined",
     "output_type": "error",
     "traceback": [
      "\u001b[0;31m---------------------------------------------------------------------------\u001b[0m",
      "\u001b[0;31mNameError\u001b[0m                                 Traceback (most recent call last)",
      "Cell \u001b[0;32mIn[1], line 51\u001b[0m\n\u001b[1;32m     49\u001b[0m     \u001b[39melse\u001b[39;00m:\n\u001b[1;32m     50\u001b[0m         \u001b[39mprint\u001b[39m(\u001b[39m\"\u001b[39m\u001b[39mİşlem Girişi Hatası\u001b[39m\u001b[39m\"\u001b[39m)\n\u001b[0;32m---> 51\u001b[0m hesapMak()\n",
      "Cell \u001b[0;32mIn[1], line 32\u001b[0m, in \u001b[0;36mhesapMak\u001b[0;34m()\u001b[0m\n\u001b[1;32m     20\u001b[0m menu \u001b[39m=\u001b[39m \u001b[39m\"\"\"\u001b[39m\n\u001b[1;32m     21\u001b[0m \u001b[39m##########\u001b[39m\n\u001b[1;32m     22\u001b[0m \u001b[39m1. Toplama\u001b[39m\n\u001b[0;32m   (...)\u001b[0m\n\u001b[1;32m     29\u001b[0m \u001b[39mİşlem Seçiniz:\u001b[39m\n\u001b[1;32m     30\u001b[0m \u001b[39m\u001b[39m\u001b[39m\"\"\"\u001b[39m\n\u001b[1;32m     31\u001b[0m islem \u001b[39m=\u001b[39m \u001b[39minput\u001b[39m(menu)\n\u001b[0;32m---> 32\u001b[0m fonkList \u001b[39m=\u001b[39m [topla,cikar,bolme,carpma,kuvvet,modulus]\n\u001b[1;32m     33\u001b[0m \u001b[39m#            0.     1.    2.    3.       4.     5. \u001b[39;00m\n\u001b[1;32m     34\u001b[0m \u001b[39mif\u001b[39;00m islem \u001b[39mand\u001b[39;00m islem\u001b[39m.\u001b[39misdigit():\n",
      "\u001b[0;31mNameError\u001b[0m: name 'carpma' is not defined"
     ]
    }
   ],
   "source": [
    "def topla(a,b):\n",
    "    islem = \"+\"\n",
    "    return a,b,a+b,islem\n",
    "def cikar(a,b):\n",
    "    islem = \"-\"\n",
    "    return a,b,a-b,islem\n",
    "def bolme(a,b):\n",
    "    islem = \"/\"\n",
    "    return a,b,a/b,islem\n",
    "def carp(a,b):\n",
    "    islem = \"*\"\n",
    "    return a,b,a*b,islem\n",
    "def kuvvet(a,b):\n",
    "    islem = \"**\"\n",
    "    return a,b,a**b,islem\n",
    "def modulus(a,b):\n",
    "    islem = \"%\"\n",
    "    return a,b,a%b,islem\n",
    "def hesapMak():\n",
    "    menu = \"\"\"\n",
    "    ##########\n",
    "    1. Toplama\n",
    "    2. Çıkarma\n",
    "    3. Bölme\n",
    "    4. Çarpma\n",
    "    5. Kuvvet\n",
    "    6. Mode Alma\n",
    "    7. Çıkış\n",
    "    İşlem Seçiniz:\n",
    "    \"\"\"\n",
    "    islem = input(menu)\n",
    "    fonkList = [topla,cikar,bolme,carp,kuvvet,modulus]\n",
    "    #            0.     1.    2.    3.       4.     5. \n",
    "    if islem and islem.isdigit():\n",
    "        islem = int(islem)\n",
    "        while islem != 7:\n",
    "            if islem in range(1,len(fonkList)+1):\n",
    "                a = input(\"1. Sayıyı Giriniz:\")\n",
    "                b = input(\"2. Sayıyı Giriniz:\")\n",
    "                if (a and b) and (a.isdigit() and a.isdigit()):\n",
    "                    sonuc = fonkList[islem-1](a,b)\n",
    "                    print(f\"{sonuc[0]} {sonuc[3]} {sonuc[1]} = {sonuc[2]}\")\n",
    "                else:\n",
    "                    print(\"Veri Girişi Hatası\")\n",
    "            else:\n",
    "                print(\"İşlem Seçimi Hatası\")\n",
    "        else:\n",
    "            print(\"İyi Günler Dileriz\")\n",
    "    else:\n",
    "        print(\"İşlem Girişi Hatası\")\n",
    "hesapMak()"
   ]
  },
  {
   "cell_type": "code",
   "execution_count": null,
   "metadata": {},
   "outputs": [],
   "source": []
  }
 ],
 "metadata": {
  "kernelspec": {
   "display_name": "Python 3",
   "language": "python",
   "name": "python3"
  },
  "language_info": {
   "codemirror_mode": {
    "name": "ipython",
    "version": 3
   },
   "file_extension": ".py",
   "mimetype": "text/x-python",
   "name": "python",
   "nbconvert_exporter": "python",
   "pygments_lexer": "ipython3",
   "version": "3.12.0"
  }
 },
 "nbformat": 4,
 "nbformat_minor": 2
}
