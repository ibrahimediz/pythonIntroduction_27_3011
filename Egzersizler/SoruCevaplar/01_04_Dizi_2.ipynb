{
 "cells": [
  {
   "cell_type": "markdown",
   "metadata": {},
   "source": [
    "```\n",
    "liste = [398, 286, 319, 51, 156, 98, 201, 249, 160, 218, 53, 378, 368, 216, 110]\n",
    "```\n",
    "yukarıda bulunan liste üzerinde \n",
    "1. büyükten küçüğe doğru sıralama\n",
    "2. en sonra 3000 sayısını ekleme\n",
    "3. ilk başa \"Garanti\" ifadesini ekleme\n",
    "4. listenin ilk 4 elemanını silme\n",
    "işlemlerini sırasıyla gerçekleştirelim. "
   ]
  },
  {
   "cell_type": "code",
   "execution_count": null,
   "metadata": {},
   "outputs": [],
   "source": []
  }
 ],
 "metadata": {
  "kernelspec": {
   "display_name": "Python 3",
   "language": "python",
   "name": "python3"
  },
  "language_info": {
   "codemirror_mode": {
    "name": "ipython",
    "version": 3
   },
   "file_extension": ".py",
   "mimetype": "text/x-python",
   "name": "python",
   "nbconvert_exporter": "python",
   "pygments_lexer": "ipython3",
   "version": "3.12.0"
  }
 },
 "nbformat": 4,
 "nbformat_minor": 2
}
