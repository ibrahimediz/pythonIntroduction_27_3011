{
 "cells": [
  {
   "cell_type": "markdown",
   "metadata": {},
   "source": [
    "```\n",
    "mini = 0\n",
    "maxi = 100\n",
    "adim = 1\n",
    "while islem != 3:\n",
    "    tahmin = ............\n",
    "    islem = int(input(f\"tuttuğunuz sayı {tahmin} mi Y=>1,A=>2,OK=>3:\"))\n",
    "    if islem == 1:\n",
    "        .......\n",
    "    elif islem == 2:\n",
    "        .......\n",
    "    elif islem ==3:\n",
    "        print(\"Buldun\")\n",
    "    adim += 1 \n",
    "else:\n",
    "    print(f\"Sayı => {tahmin} {.....} adımda buldum.\")\n",
    "```\n",
    "yukarıda bulunan kod bloğunda yer alan `.......` alanları doldurunuz. "
   ]
  },
  {
   "cell_type": "code",
   "execution_count": null,
   "metadata": {},
   "outputs": [],
   "source": [
    "mini = 0\n",
    "maxi = 100\n",
    "adim = 1\n",
    "while islem != 3:\n",
    "    tahmin = \n",
    "    islem = int(input(f\"tuttuğunuz sayı {tahmin} mi Y=>1,A=>2,OK=>3:\"))\n",
    "    if islem == 1:\n",
    "        .......\n",
    "    elif islem == 2:\n",
    "        .......\n",
    "    elif islem ==3:\n",
    "        print(\"Buldun\")\n",
    "    adim += 1 \n",
    "else:\n",
    "    print(f\"Sayı => {tahmin} {.....} adımda buldum.\")"
   ]
  }
 ],
 "metadata": {
  "language_info": {
   "name": "python"
  }
 },
 "nbformat": 4,
 "nbformat_minor": 2
}
