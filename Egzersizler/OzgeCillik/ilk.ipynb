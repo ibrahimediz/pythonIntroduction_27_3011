{
 "cells": [
  {
   "cell_type": "code",
   "execution_count": 37,
   "metadata": {},
   "outputs": [],
   "source": [
    "n=int(input(\"tek sayi girelim:\"))\n",
    "while n%2 ==0:\n",
    "    n=int(input(\"TEK sayi girelim:\"))\n",
    "\n",
    "for i in range(1,n):\n",
    "    if i<=(n-1)/2:\n",
    "        print(\"*\"*(i))\n",
    "        i=i+1\n",
    "    else:\n",
    "        print(\"*\"*(i))\n",
    "        i=i-1\n",
    "\n"
   ]
  },
  {
   "cell_type": "code",
   "execution_count": 7,
   "metadata": {},
   "outputs": [
    {
     "name": "stdout",
     "output_type": "stream",
     "text": [
      "8\n"
     ]
    }
   ],
   "source": [
    "def topla(a,b):\n",
    "    return a+b\n",
    "print (topla(3,5))\n"
   ]
  }
 ],
 "metadata": {
  "kernelspec": {
   "display_name": "Python 3",
   "language": "python",
   "name": "python3"
  },
  "language_info": {
   "codemirror_mode": {
    "name": "ipython",
    "version": 3
   },
   "file_extension": ".py",
   "mimetype": "text/x-python",
   "name": "python",
   "nbconvert_exporter": "python",
   "pygments_lexer": "ipython3",
   "version": "3.12.0"
  }
 },
 "nbformat": 4,
 "nbformat_minor": 2
}
