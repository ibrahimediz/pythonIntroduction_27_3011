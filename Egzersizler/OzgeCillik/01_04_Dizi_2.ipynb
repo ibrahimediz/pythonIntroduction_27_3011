{
 "cells": [
  {
   "cell_type": "markdown",
   "metadata": {},
   "source": [
    "```\n",
    "liste = [398, 286,319, 51, 156, 98, 201, 249, 160, 218, 53, 378, 368, 216, 110]\n",
    "```\n",
    "yukarıda bulunan liste üzerinde \n",
    "1. büyükten küçüğe doğru sıralama\n",
    "2. en sonra 3000 sayısını ekleme\n",
    "3. ilk başa \"Garanti\" ifadesini ekleme\n",
    "4. listenin ilk 4 elemanını silme\n",
    "işlemlerini sırasıyla gerçekleştirelim. "
   ]
  },
  {
   "cell_type": "code",
   "execution_count": 5,
   "metadata": {},
   "outputs": [
    {
     "name": "stdout",
     "output_type": "stream",
     "text": [
      "[398, 378, 368, 319, 286, 249, 218, 216, 201, 160, 156, 110, 98, 53, 51]\n",
      "[398, 378, 368, 319, 286, 249, 218, 216, 201, 160, 156, 110, 98, 53, 51, 3000]\n",
      "['garanti', 398, 378, 368, 319, 286, 249, 218, 216, 201, 160, 156, 110, 98, 53, 51, 3000]\n",
      "[319, 286, 249, 218, 216, 201, 160, 156, 110, 98, 53, 51, 3000]\n"
     ]
    }
   ],
   "source": [
    "a=[398,286,319,51,156,98,201,249,160,218,53,378,216,368,110]\n",
    "a.sort()\n",
    "a.reverse()\n",
    "print(a)\n",
    "a.append(3000)\n",
    "print(a)\n",
    "a.insert(0,\"garanti\")\n",
    "print(a)\n",
    "a =a[4:]\n",
    "print(a)"
   ]
  },
  {
   "cell_type": "code",
   "execution_count": null,
   "metadata": {},
   "outputs": [],
   "source": []
  }
 ],
 "metadata": {
  "kernelspec": {
   "display_name": "Python 3",
   "language": "python",
   "name": "python3"
  },
  "language_info": {
   "codemirror_mode": {
    "name": "ipython",
    "version": 3
   },
   "file_extension": ".py",
   "mimetype": "text/x-python",
   "name": "python",
   "nbconvert_exporter": "python",
   "pygments_lexer": "ipython3",
   "version": "3.12.0"
  }
 },
 "nbformat": 4,
 "nbformat_minor": 2
}
