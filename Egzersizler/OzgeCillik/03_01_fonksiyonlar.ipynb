{
 "cells": [
  {
   "cell_type": "markdown",
   "metadata": {},
   "source": [
    "```\n",
    "def fonk(a,b):\n",
    "    islem = \"+\"\n",
    "    return a,b,a+b,islem\n",
    "\n",
    "print(f\"{sonuc[0]} {sonuc[3]} {sonuc[1]} = {sonuc[2]}\")\n",
    "```\n",
    "\n",
    "yukarıdaki kod bloğundan faydalanarak\n",
    "* Toplama\n",
    "* Çıkarma\n",
    "* Bölme\n",
    "* Çarpma\n",
    "* Kuvvet\n",
    "* ModAlma<br>\n",
    "fonksiyonlarını üretelim"
   ]
  },
  {
   "cell_type": "code",
   "execution_count": null,
   "metadata": {},
   "outputs": [
    {
     "ename": "",
     "evalue": "",
     "output_type": "error",
     "traceback": [
      "\u001b[1;31mThe kernel failed to start as the Python Environment 'test' is no longer available. Consider selecting another kernel or refreshing the list of Python Environments."
     ]
    }
   ],
   "source": [
    "def fonk(a,b):\n",
    "    islem = \"+\"\n",
    "    return a,b,a+b,islem\n",
    "\n",
    "print(f\"{sonuc[0]} {sonuc[3]} {sonuc[1]} = {sonuc[2]}\")"
   ]
  }
 ],
 "metadata": {
  "kernelspec": {
   "display_name": "test",
   "language": "python",
   "name": "python3"
  },
  "language_info": {
   "name": "python",
   "version": "3.12.0"
  }
 },
 "nbformat": 4,
 "nbformat_minor": 2
}
