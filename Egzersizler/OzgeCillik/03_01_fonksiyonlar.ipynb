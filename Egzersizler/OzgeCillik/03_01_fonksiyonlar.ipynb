{
 "cells": [
  {
   "cell_type": "markdown",
   "metadata": {},
   "source": [
    "\n",
    "\n",
    "```\n",
    "def fonk(a,b):\n",
    "    islem = \"+\"\n",
    "    return a,b,a+b,islem\n",
    "\n",
    "print(f\"{sonuc[0]} {sonuc[3]} {sonuc[1]} = {sonuc[2]}\")\n",
    "```\n",
    "\n",
    "yukarıdaki kod bloğundan faydalanarak\n",
    "* Toplama\n",
    "* Çıkarma\n",
    "* Bölme\n",
    "* Çarpma\n",
    "* Kuvvet\n",
    "* ModAlma<br>\n",
    "fonksiyonlarını üretelim"
   ]
  },
  {
   "cell_type": "code",
   "execution_count": 2,
   "metadata": {},
   "outputs": [
    {
     "name": "stdout",
     "output_type": "stream",
     "text": [
      "4 ^ 3 = 64\n"
     ]
    }
   ],
   "source": [
    "def topla(a,b):\n",
    "    islem = \"+\"\n",
    "    return a,b,a+b,islem\n",
    "\n",
    "def fark(a,b):\n",
    "    islem = \"-\"\n",
    "    return a,b,a-b,islem\n",
    "\n",
    "def bol(a,b):\n",
    "    islem = \"/\"\n",
    "    return a,b,a/b,islem\n",
    "\n",
    "def carp(a,b):\n",
    "    islem = \"*\"\n",
    "    return a,b,a*b,islem\n",
    "\n",
    "def mod(a,b):\n",
    "    islem = \"mod\"\n",
    "    return islem+\"(\",\",\"+str(b)+\")\",a%b,a\n",
    "\n",
    "\n",
    "def kuvvet(a,b):\n",
    "    islem = \"^\"\n",
    "    cilk=a\n",
    "    c=a\n",
    "    for i in range(1,b):        \n",
    "        c=c*cilk\n",
    "\n",
    "    return a,b,c,islem\n",
    "\n",
    "sonuc=kuvvet(4,3)\n",
    "print(f\"{sonuc[0]} {sonuc[3]} {sonuc[1]} = {sonuc[2]}\")"
   ]
  }
 ],
 "metadata": {
  "kernelspec": {
   "display_name": "test",
   "language": "python",
   "name": "python3"
  },
  "language_info": {
   "codemirror_mode": {
    "name": "ipython",
    "version": 3
   },
   "file_extension": ".py",
   "mimetype": "text/x-python",
   "name": "python",
   "nbconvert_exporter": "python",
   "pygments_lexer": "ipython3",
   "version": "3.12.0"
  }
 },
 "nbformat": 4,
 "nbformat_minor": 2
}
