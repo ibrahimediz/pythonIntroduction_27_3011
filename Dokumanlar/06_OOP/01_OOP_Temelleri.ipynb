{
 "cells": [
  {
   "cell_type": "markdown",
   "metadata": {},
   "source": [
    "# OOP\n",
    "* Sınıf ve Instance \n",
    "* Method ve Attribute\n",
    "* Constructor => Yapıcı => __init__\n",
    "* Destructor => Yıkıcı => __del__"
   ]
  },
  {
   "cell_type": "markdown",
   "metadata": {},
   "source": [
    "## Sınıf ve Instance "
   ]
  },
  {
   "cell_type": "code",
   "execution_count": 1,
   "metadata": {},
   "outputs": [
    {
     "name": "stdout",
     "output_type": "stream",
     "text": [
      "<class '__main__.Sinif'>\n"
     ]
    }
   ],
   "source": [
    "class Sinif:\n",
    "    pass\n",
    "obj = Sinif() # instance\n",
    "print(type(obj))"
   ]
  },
  {
   "cell_type": "markdown",
   "metadata": {},
   "source": [
    "## Method ve Attribute\n",
    "* Attribute\n",
    "    - class attribute => cls\n",
    "    - instance attriube => self\n",
    "* Method\n",
    "    - class method => @classmethod\n",
    "    - instance method => self.method"
   ]
  },
  {
   "cell_type": "code",
   "execution_count": 2,
   "metadata": {},
   "outputs": [],
   "source": [
    "class Sinif:\n",
    "    classAttr = \"Sinif Özelliği\"\n",
    "    def __init__(self,a): # constructor\n",
    "        self.a = a # => Instance Attribute\n",
    "        self.soyleA()\n",
    "    \n",
    "    def soyleA(self): # instance method\n",
    "        return self.a # instance attr\n",
    "    \n",
    "    @classmethod\n",
    "    def sinifMethod(cls):\n",
    "        print(cls.classAttr)\n",
    "\n",
    "nesne1 = Sinif(100)\n",
    "nesne2 = Sinif(200)"
   ]
  },
  {
   "cell_type": "code",
   "execution_count": 3,
   "metadata": {},
   "outputs": [
    {
     "data": {
      "text/plain": [
       "100"
      ]
     },
     "execution_count": 3,
     "metadata": {},
     "output_type": "execute_result"
    }
   ],
   "source": [
    "nesne1.soyleA()"
   ]
  },
  {
   "cell_type": "code",
   "execution_count": 4,
   "metadata": {},
   "outputs": [
    {
     "data": {
      "text/plain": [
       "200"
      ]
     },
     "execution_count": 4,
     "metadata": {},
     "output_type": "execute_result"
    }
   ],
   "source": [
    "nesne2.soyleA()"
   ]
  },
  {
   "cell_type": "code",
   "execution_count": 5,
   "metadata": {},
   "outputs": [
    {
     "name": "stdout",
     "output_type": "stream",
     "text": [
      "Sinif Özelliği\n",
      "Sinif Özelliği\n",
      "Sinif Özelliği\n"
     ]
    }
   ],
   "source": [
    "nesne1.sinifMethod()\n",
    "nesne2.sinifMethod()\n",
    "Sinif.sinifMethod()"
   ]
  },
  {
   "cell_type": "markdown",
   "metadata": {},
   "source": [
    "## instructor ve destructor"
   ]
  },
  {
   "cell_type": "code",
   "execution_count": 13,
   "metadata": {},
   "outputs": [
    {
     "name": "stdout",
     "output_type": "stream",
     "text": [
      "nesne1 Silindi\n",
      "nesne2 Silindi\n"
     ]
    }
   ],
   "source": [
    "class Sinif:\n",
    "    classAttr = \"Sinif Özelliği\"\n",
    "    def __init__(self,a,isim,*args,**kwargs): # constructor\n",
    "        self.a = a # => Instance Attribute\n",
    "        self.isim = isim\n",
    "        self.soyleA()\n",
    "    \n",
    "    def soyleA(self): # instance method\n",
    "        return self.a # instance attr\n",
    "    \n",
    "    @classmethod\n",
    "    def sinifMethod(cls):\n",
    "        print(cls.classAttr)\n",
    "\n",
    "    def __del__(self): # destructor \n",
    "        print(self.isim,\"Silindi\")\n",
    "\n",
    "nesne1 = Sinif(100,\"nesne1\")\n",
    "nesne2 = Sinif(200,\"nesne2\")"
   ]
  },
  {
   "cell_type": "code",
   "execution_count": null,
   "metadata": {},
   "outputs": [],
   "source": []
  }
 ],
 "metadata": {
  "kernelspec": {
   "display_name": "Python 3",
   "language": "python",
   "name": "python3"
  },
  "language_info": {
   "codemirror_mode": {
    "name": "ipython",
    "version": 3
   },
   "file_extension": ".py",
   "mimetype": "text/x-python",
   "name": "python",
   "nbconvert_exporter": "python",
   "pygments_lexer": "ipython3",
   "version": "3.12.0"
  }
 },
 "nbformat": 4,
 "nbformat_minor": 2
}
