{
 "cells": [
  {
   "cell_type": "markdown",
   "metadata": {},
   "source": [
    "# Prensipler\n",
    "* Inheritance => Kalıtım\n",
    "* Polymorphism => Çok Biçimlilik\n",
    "* Encapsulation => Kapsülleme\n",
    "* Abstraction => Soyutlama"
   ]
  },
  {
   "cell_type": "markdown",
   "metadata": {},
   "source": [
    "## Inheritance"
   ]
  },
  {
   "cell_type": "code",
   "execution_count": 5,
   "metadata": {},
   "outputs": [
    {
     "name": "stdout",
     "output_type": "stream",
     "text": [
      "<class '__main__.B'>\n",
      "A Sınıfından Çalıştım\n",
      "A\n"
     ]
    }
   ],
   "source": [
    "class A:\n",
    "    def __init__(self):\n",
    "        self.a = \"A\"\n",
    "\n",
    "    def soyleA(self):\n",
    "        print(self.a)\n",
    "\n",
    "    def soyle(self):\n",
    "        print(\"A Sınıfından Çalıştım\")\n",
    "class B(A):\n",
    "    pass\n",
    "objB = B()\n",
    "print(type(objB))\n",
    "objB.soyle()\n",
    "objB.soyleA()"
   ]
  },
  {
   "cell_type": "markdown",
   "metadata": {},
   "source": [
    "## Polymorphism"
   ]
  },
  {
   "cell_type": "code",
   "execution_count": 7,
   "metadata": {},
   "outputs": [
    {
     "name": "stdout",
     "output_type": "stream",
     "text": [
      "<class '__main__.B'>\n",
      "A Sınıfından Çalıştım\n"
     ]
    },
    {
     "ename": "AttributeError",
     "evalue": "'B' object has no attribute 'a'",
     "output_type": "error",
     "traceback": [
      "\u001b[0;31m---------------------------------------------------------------------------\u001b[0m",
      "\u001b[0;31mAttributeError\u001b[0m                            Traceback (most recent call last)",
      "Cell \u001b[0;32mIn[7], line 16\u001b[0m\n\u001b[1;32m     14\u001b[0m \u001b[39mprint\u001b[39m(\u001b[39mtype\u001b[39m(objB))\n\u001b[1;32m     15\u001b[0m objB\u001b[39m.\u001b[39msoyle()\n\u001b[0;32m---> 16\u001b[0m objB\u001b[39m.\u001b[39;49msoyleA()\n",
      "Cell \u001b[0;32mIn[7], line 6\u001b[0m, in \u001b[0;36mA.soyleA\u001b[0;34m(self)\u001b[0m\n\u001b[1;32m      5\u001b[0m \u001b[39mdef\u001b[39;00m \u001b[39msoyleA\u001b[39m(\u001b[39mself\u001b[39m):\n\u001b[0;32m----> 6\u001b[0m     \u001b[39mprint\u001b[39m(\u001b[39mself\u001b[39;49m\u001b[39m.\u001b[39;49ma)\n",
      "\u001b[0;31mAttributeError\u001b[0m: 'B' object has no attribute 'a'"
     ]
    }
   ],
   "source": [
    "class A: # parent\n",
    "    def __init__(self):\n",
    "        self.a = \"A\"\n",
    "\n",
    "    def soyleA(self):\n",
    "        print(self.a)\n",
    "\n",
    "    def soyle(self):\n",
    "        print(\"A Sınıfından Çalıştım\")\n",
    "class B(A): # child \n",
    "    def __init__(self): # override \n",
    "        self.b = \"B\"\n",
    "objB = B()\n",
    "print(type(objB))\n",
    "objB.soyle()\n",
    "objB.soyleA()"
   ]
  },
  {
   "cell_type": "code",
   "execution_count": 8,
   "metadata": {},
   "outputs": [
    {
     "name": "stdout",
     "output_type": "stream",
     "text": [
      "<class '__main__.B'>\n",
      "A Sınıfından Çalıştım\n",
      "A\n"
     ]
    }
   ],
   "source": [
    "class A:\n",
    "    def __init__(self):\n",
    "        self.a = \"A\"\n",
    "\n",
    "    def soyleA(self):\n",
    "        print(self.a)\n",
    "\n",
    "    def soyle(self):\n",
    "        print(\"A Sınıfından Çalıştım\")\n",
    "class B(A):\n",
    "    def __init__(self): # override\n",
    "        super().__init__()\n",
    "        self.b = \"B\"\n",
    "objB = B()\n",
    "print(type(objB))\n",
    "objB.soyle()\n",
    "objB.soyleA()"
   ]
  },
  {
   "cell_type": "markdown",
   "metadata": {},
   "source": [
    "***Multiple Inheritance***"
   ]
  },
  {
   "cell_type": "code",
   "execution_count": 28,
   "metadata": {},
   "outputs": [
    {
     "name": "stdout",
     "output_type": "stream",
     "text": [
      "B Sınıfından Çalıştım\n"
     ]
    }
   ],
   "source": [
    "class A:\n",
    "    def __init__(self):\n",
    "        self.a = \"A\"\n",
    "\n",
    "    def soyleA(self):\n",
    "        print(self.a)\n",
    "\n",
    "    def soyle(self):\n",
    "        print(\"A Sınıfından Çalıştım\")\n",
    "class B:\n",
    "    def __init__(self):\n",
    "        self.b = \"B\"\n",
    "\n",
    "    def soyleB(self):\n",
    "        print(self.b)\n",
    "\n",
    "    def soyle(self):\n",
    "        print(\"B Sınıfından Çalıştım\")\n",
    "class C(A,B): # ilk inheritance önceliği \n",
    "    def __init__(self):\n",
    "        A.__init__(self)\n",
    "        B.__init__(self)\n",
    "        self.c = \"C\"\n",
    "    \n",
    "    # def soyle(self):\n",
    "    #     B.soyle(self)\n",
    "\n",
    "\n",
    "nsnC = C()\n",
    "nsnC.soyle()"
   ]
  },
  {
   "cell_type": "code",
   "execution_count": 11,
   "metadata": {},
   "outputs": [
    {
     "name": "stdout",
     "output_type": "stream",
     "text": [
      "<class 'builtin_function_or_method'>\n",
      "<class 'method'>\n",
      "<class 'builtin_function_or_method'>\n"
     ]
    }
   ],
   "source": [
    "liste = [print,input,sum]\n",
    "def fonk(item):\n",
    "    print(type(item))\n",
    "for item in liste:\n",
    "    fonk(item)"
   ]
  },
  {
   "cell_type": "markdown",
   "metadata": {},
   "source": [
    "## Encapsulation"
   ]
  },
  {
   "cell_type": "markdown",
   "metadata": {},
   "source": [
    "```\n",
    "__gizli =>gizli\n",
    "__gizli_ =>gizli\n",
    "__gizli__ =>gizli değil\n",
    "```"
   ]
  },
  {
   "cell_type": "code",
   "execution_count": null,
   "metadata": {},
   "outputs": [],
   "source": [
    "class A:\n",
    "    def __init__(self):\n",
    "        self.a = \"A\"\n",
    "        self.__gizli = \"Gizli Bilgi\"\n",
    "\n",
    "    def soyleA(self):\n",
    "        print(self.a)\n",
    "\n",
    "    def soyle(self):\n",
    "        print(\"A Sınıfından Çalıştım\")\n",
    "nsn1 = A()\n",
    "# nsn1.__gizli"
   ]
  },
  {
   "cell_type": "code",
   "execution_count": 15,
   "metadata": {},
   "outputs": [
    {
     "name": "stdout",
     "output_type": "stream",
     "text": [
      "Gizli Bilgi\n"
     ]
    }
   ],
   "source": [
    "class A:\n",
    "    def __init__(self):\n",
    "        self.a = \"A\"\n",
    "        self.__gizli = \"Gizli Bilgi\"\n",
    "\n",
    "    def gizli(self):# getter\n",
    "        return self.__gizli\n",
    "\n",
    "    def soyleA(self):\n",
    "        print(self.a)\n",
    "\n",
    "    def soyle(self):\n",
    "        print(\"A Sınıfından Çalıştım\")\n",
    "nsn1 = A()\n",
    "print(nsn1.gizli())"
   ]
  },
  {
   "cell_type": "code",
   "execution_count": 16,
   "metadata": {},
   "outputs": [
    {
     "name": "stdout",
     "output_type": "stream",
     "text": [
      "Gizli Bilgi\n"
     ]
    }
   ],
   "source": [
    "class A:\n",
    "    def __init__(self):\n",
    "        self.a = \"A\"\n",
    "        self.__gizli = \"Gizli Bilgi\"\n",
    "\n",
    "    @property\n",
    "    def gizli(self):# getter\n",
    "        return self.__gizli\n",
    "\n",
    "    def soyleA(self):\n",
    "        print(self.a)\n",
    "\n",
    "    def soyle(self):\n",
    "        print(\"A Sınıfından Çalıştım\")\n",
    "nsn1 = A()\n",
    "print(nsn1.gizli)"
   ]
  },
  {
   "cell_type": "code",
   "execution_count": 21,
   "metadata": {},
   "outputs": [
    {
     "name": "stdout",
     "output_type": "stream",
     "text": [
      "Gizli Bilgi\n",
      "7\n"
     ]
    }
   ],
   "source": [
    "class A:\n",
    "    def __init__(self):\n",
    "        self.a = \"A\"\n",
    "        self.__gizli = \"Gizli Bilgi\"\n",
    "\n",
    "    @property\n",
    "    def gizli(self):# getter\n",
    "        return self.__gizli\n",
    "#########\n",
    "    @gizli.setter\n",
    "    def gizli(self,param):\n",
    "        if isinstance(param,int) and param in range(1,11):\n",
    "            self.__gizli = param\n",
    "##########\n",
    "\n",
    "    def soyleA(self):\n",
    "        print(self.a)\n",
    "\n",
    "    def soyle(self):\n",
    "        print(\"A Sınıfından Çalıştım\")\n",
    "nsn1 = A()\n",
    "print(nsn1.gizli)\n",
    "nsn1.gizli = 7\n",
    "print(nsn1.gizli)"
   ]
  },
  {
   "cell_type": "code",
   "execution_count": 22,
   "metadata": {},
   "outputs": [
    {
     "name": "stdout",
     "output_type": "stream",
     "text": [
      "1\n",
      "7\n",
      "-7\n"
     ]
    }
   ],
   "source": [
    "class A:\n",
    "    def __init__(self):\n",
    "        self.a = \"A\"\n",
    "        self.__gizli = 1\n",
    "\n",
    "    @property\n",
    "    def gizli(self):# getter\n",
    "        return self.__gizli\n",
    "\n",
    "    @gizli.setter\n",
    "    def gizli(self,param):\n",
    "        if isinstance(param,int) and param in range(1,11):\n",
    "            self.__gizli = param\n",
    "##########\n",
    "\n",
    "    @gizli.deleter\n",
    "    def gizli(self):\n",
    "        self.__gizli *= -1\n",
    "\n",
    "#########\n",
    "    def soyleA(self):\n",
    "        print(self.a)\n",
    "\n",
    "    def soyle(self):\n",
    "        print(\"A Sınıfından Çalıştım\")\n",
    "nsn1 = A()\n",
    "print(nsn1.gizli)\n",
    "nsn1.gizli = 7\n",
    "print(nsn1.gizli)\n",
    "del nsn1.gizli\n",
    "print(nsn1.gizli)"
   ]
  },
  {
   "cell_type": "markdown",
   "metadata": {},
   "source": [
    "## Abstraction"
   ]
  },
  {
   "cell_type": "code",
   "execution_count": 34,
   "metadata": {},
   "outputs": [],
   "source": [
    "from abc import ABC,abstractmethod\n",
    "\n",
    "class Arac(ABC): # Abstract Class\n",
    "    @abstractmethod\n",
    "    def yakitTuruSoyle(self):\n",
    "        pass\n",
    "# nsn1 = Arac() # Can't instantiate abstract class Arac without an implementation for abstract method 'yakitTuruSoyle'\n",
    "class KaraAraclari(Arac):\n",
    "    def yakitTuruSoyle(self):\n",
    "        self.yakit = \"Benzin\"\n",
    "nsn1 = KaraAraclari()"
   ]
  }
 ],
 "metadata": {
  "kernelspec": {
   "display_name": "Python 3",
   "language": "python",
   "name": "python3"
  },
  "language_info": {
   "codemirror_mode": {
    "name": "ipython",
    "version": 3
   },
   "file_extension": ".py",
   "mimetype": "text/x-python",
   "name": "python",
   "nbconvert_exporter": "python",
   "pygments_lexer": "ipython3",
   "version": "3.12.0"
  }
 },
 "nbformat": 4,
 "nbformat_minor": 2
}
