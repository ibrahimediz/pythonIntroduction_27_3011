{
 "cells": [
  {
   "cell_type": "markdown",
   "metadata": {},
   "source": [
    "# Fonksiyonlar - 2\n",
    "* parametre tanımlama yöntemleri\n",
    "* yield\n",
    "* global,nonlocal"
   ]
  },
  {
   "cell_type": "markdown",
   "metadata": {},
   "source": [
    "## Parametre tanımlama yöntemleri\n",
    "* 1. Yöntem => (a,b)\n",
    "* 2. Yöntem => (*args)\n",
    "* 3. Yöntem => (**kwargs)\n",
    "* Hepsi Bir Arada"
   ]
  },
  {
   "cell_type": "markdown",
   "metadata": {},
   "source": [
    "### I. Yöntem"
   ]
  },
  {
   "cell_type": "code",
   "execution_count": 1,
   "metadata": {},
   "outputs": [],
   "source": [
    "def fonk(a,b):\n",
    "    print(a+b)\n",
    "# def fonk(a,b,c=0,d): # hata verir #############"
   ]
  },
  {
   "cell_type": "markdown",
   "metadata": {},
   "source": [
    "***varsayılan değer alan bir parametre tanımından `c=0` sonra tüm parametreler varsayılan değer almalıdır***"
   ]
  },
  {
   "cell_type": "code",
   "execution_count": 2,
   "metadata": {},
   "outputs": [
    {
     "name": "stdout",
     "output_type": "stream",
     "text": [
      "2 3 0 0\n",
      "1 2 3 0\n",
      "1 2 3 4\n"
     ]
    }
   ],
   "source": [
    "def fonk(a,b,c=0,d=0):\n",
    "    print(a,b,c,d)\n",
    "fonk(2,3)\n",
    "fonk(1,2,3)\n",
    "fonk(1,2,3,4)"
   ]
  },
  {
   "cell_type": "markdown",
   "metadata": {},
   "source": [
    "### II. Yöntem (*args)"
   ]
  },
  {
   "cell_type": "code",
   "execution_count": 3,
   "metadata": {},
   "outputs": [
    {
     "name": "stdout",
     "output_type": "stream",
     "text": [
      "<class 'tuple'>\n",
      "()\n",
      "<class 'tuple'>\n",
      "(1, 2, 3)\n",
      "<class 'tuple'>\n",
      "(1, 2, 3, 4, 5, 6, 7, 8, 9)\n"
     ]
    }
   ],
   "source": [
    "def fonk(*args):\n",
    "    print(type(args)) # tuple\n",
    "    print(args)\n",
    "fonk()\n",
    "fonk(1,2,3)\n",
    "fonk(1,2,3,4,5,6,7,8,9)"
   ]
  },
  {
   "cell_type": "markdown",
   "metadata": {},
   "source": [
    "***`args` ifadesi bir gelenektir yerine başka bir şey yazılabilir. Ancak kodun okunabilirliğini etkileyeceğinden tercih edilmez***"
   ]
  },
  {
   "cell_type": "code",
   "execution_count": 5,
   "metadata": {},
   "outputs": [
    {
     "data": {
      "text/plain": [
       "1093"
      ]
     },
     "execution_count": 5,
     "metadata": {},
     "output_type": "execute_result"
    }
   ],
   "source": [
    "def toplam(*args):\n",
    "    sonuc = 0\n",
    "    for item in args:\n",
    "        if isinstance(item,int):\n",
    "            sonuc += item\n",
    "    return sonuc\n",
    "toplam(1,2,3,4,31,1,2,3,1,1,2,2,31,124,6,56,756,67,\"a\")"
   ]
  },
  {
   "cell_type": "markdown",
   "metadata": {},
   "source": [
    "### III: Yöntem (**kwargs)"
   ]
  },
  {
   "cell_type": "code",
   "execution_count": 7,
   "metadata": {},
   "outputs": [
    {
     "name": "stdout",
     "output_type": "stream",
     "text": [
      "<class 'dict'>\n",
      "{}\n",
      "<class 'dict'>\n",
      "{'firma': 'Dynamo', 'kurulus': 'Kızılay'}\n"
     ]
    }
   ],
   "source": [
    "def fonk(**kwargs):\n",
    "    print(type(kwargs))\n",
    "    print(kwargs)\n",
    "fonk()\n",
    "fonk(firma=\"Dynamo\",kurulus=\"Kızılay\")"
   ]
  },
  {
   "cell_type": "markdown",
   "metadata": {},
   "source": [
    "***`kwargs` ifadesi bir gelenektir yerine başka bir şey yazılabilir. Ancak kodun okunabilirliğini etkileyeceğinden tercih edilmez***"
   ]
  },
  {
   "cell_type": "code",
   "execution_count": 17,
   "metadata": {},
   "outputs": [
    {
     "name": "stdout",
     "output_type": "stream",
     "text": [
      "topla sonuc 8\n"
     ]
    }
   ],
   "source": [
    "\n",
    "def fonk(**kwargs):\n",
    "    islem = None\n",
    "    x = 0\n",
    "    for key,value in kwargs.items():\n",
    "        if key == \"topla\":\n",
    "            islem = lambda x,y:x+y\n",
    "        if key == \"cikar\":\n",
    "            islem = lambda x,y:x-y\n",
    "        if key == \"carp\":\n",
    "            islem = lambda x,y:x*y\n",
    "        a,b = value\n",
    "        print(key,\"sonuc\",islem(a,b))\n",
    "fonk(topla=(2,6))"
   ]
  },
  {
   "cell_type": "markdown",
   "metadata": {},
   "source": [
    "### Hepsi Bir Arada"
   ]
  },
  {
   "cell_type": "code",
   "execution_count": 1,
   "metadata": {},
   "outputs": [
    {
     "name": "stdout",
     "output_type": "stream",
     "text": [
      "1 2\n",
      "(3, 4, 5, 6, 7, 8)\n",
      "{'param': 2, 'param2': 2}\n"
     ]
    }
   ],
   "source": [
    "def fonk(a,b,*args,**kwargs):\n",
    "    print(a,b)\n",
    "    print(args)\n",
    "    print(kwargs)\n",
    "fonk(1,2,3,4,5,6,7,8,param=2,param2=2)"
   ]
  },
  {
   "cell_type": "markdown",
   "metadata": {},
   "source": [
    "## yield"
   ]
  },
  {
   "cell_type": "code",
   "execution_count": 19,
   "metadata": {},
   "outputs": [
    {
     "name": "stdout",
     "output_type": "stream",
     "text": [
      "2 3 4 5\n"
     ]
    }
   ],
   "source": [
    "print(*range(2,6))"
   ]
  },
  {
   "cell_type": "code",
   "execution_count": 23,
   "metadata": {},
   "outputs": [
    {
     "name": "stdout",
     "output_type": "stream",
     "text": [
      "Dynamo Scala\n"
     ]
    }
   ],
   "source": [
    "def fonk(*args):\n",
    "    for item in args:\n",
    "        if isinstance(item,str):\n",
    "            yield item\n",
    "print(*fonk(2,1,2,3,3,4,1,1,2,\"Dynamo\",\"Scala\",123,5,2,2,3,2,2,3))"
   ]
  },
  {
   "cell_type": "code",
   "execution_count": 69,
   "metadata": {},
   "outputs": [
    {
     "name": "stdout",
     "output_type": "stream",
     "text": [
      "MerveSarpBoyar\n",
      "GamzeCelik\n",
      "SimgeAydin\n"
     ]
    }
   ],
   "source": [
    "liste = [\"HakanOzden\",\"HakanOzel\",\"GamzeCelik\",\"FurkanKeles\",\"MerveSarpBoyar\",\\\n",
    "    \"OzgeCillik\",\"SimgeAydin\",\"IpekDolu\"]\n",
    "def fonk(sayi,*args):\n",
    "    # from random import choice\n",
    "    # for i in range(sayi):\n",
    "    #     yield choice(args)\n",
    "    from random import sample\n",
    "    for item in sample(liste,sayi):\n",
    "        yield item\n",
    "for item in fonk(3,*liste):\n",
    "    print(item)"
   ]
  },
  {
   "cell_type": "code",
   "execution_count": 77,
   "metadata": {},
   "outputs": [],
   "source": [
    "liste = [\"HakanOzden\",\"HakanOzel\",\"GamzeCelik\",\"FurkanKeles\",\"MerveSarpBoyar\",\\\n",
    "    \"OzgeCillik\",\"SimgeAydin\",\"IpekDolu\"]\n",
    "def fonk(sayi,*args):\n",
    "    # from random import choice\n",
    "    # for i in range(sayi):\n",
    "    #     yield choice(args)\n",
    "    from random import sample\n",
    "    for item in sample(liste,sayi):\n",
    "        yield item\n",
    "sonucListe = []\n",
    "for i in range(1000):\n",
    "    sonucListe.extend(list(fonk(3,*liste)))"
   ]
  },
  {
   "cell_type": "code",
   "execution_count": 78,
   "metadata": {},
   "outputs": [
    {
     "data": {
      "text/plain": [
       "Counter({'HakanOzden': 382,\n",
       "         'GamzeCelik': 381,\n",
       "         'IpekDolu': 379,\n",
       "         'FurkanKeles': 379,\n",
       "         'OzgeCillik': 374,\n",
       "         'SimgeAydin': 371,\n",
       "         'HakanOzel': 369,\n",
       "         'MerveSarpBoyar': 365})"
      ]
     },
     "execution_count": 78,
     "metadata": {},
     "output_type": "execute_result"
    }
   ],
   "source": [
    "import collections\n",
    "collections.Counter(sonucListe)"
   ]
  },
  {
   "cell_type": "markdown",
   "metadata": {},
   "source": [
    "### global,nonlocal"
   ]
  },
  {
   "cell_type": "code",
   "execution_count": 79,
   "metadata": {},
   "outputs": [
    {
     "name": "stdout",
     "output_type": "stream",
     "text": [
      "1-Dışarıdaki a için 1. Sonuç 5\n",
      "2-Fonksiyon Gelen 1. Sonuç 2\n",
      "3-İç Fonksiyondan Gelen Sonuç 3\n",
      "4-Fonksiyon Gelen 2. Sonuç 2\n",
      "5-Dışarıdaki a için 2. Sonuç 5\n"
     ]
    }
   ],
   "source": [
    "a = 5\n",
    "def fonk():\n",
    "    a = 2\n",
    "    print(\"2-Fonksiyon Gelen 1. Sonuç\",a) # 2\n",
    "    def icfonk():\n",
    "        a = 3\n",
    "        print(\"3-İç Fonksiyondan Gelen Sonuç\",a) # 3\n",
    "    icfonk()\n",
    "    print(\"4-Fonksiyon Gelen 2. Sonuç\",a) # 2\n",
    "print(\"1-Dışarıdaki a için 1. Sonuç\",a) # 5    \n",
    "fonk()\n",
    "print(\"5-Dışarıdaki a için 2. Sonuç\",a) # 5"
   ]
  },
  {
   "cell_type": "code",
   "execution_count": 80,
   "metadata": {},
   "outputs": [
    {
     "name": "stdout",
     "output_type": "stream",
     "text": [
      "1-Dışarıdaki a için 1. Sonuç 5\n",
      "2-Fonksiyon Gelen 1. Sonuç 2\n",
      "3-İç Fonksiyondan Gelen Sonuç 3\n",
      "4-Fonksiyon Gelen 2. Sonuç 2\n",
      "5-Dışarıdaki a için 2. Sonuç 2\n"
     ]
    }
   ],
   "source": [
    "a = 5 # global\n",
    "def fonk():\n",
    "    global a\n",
    "    a = 2 # global\n",
    "    print(\"2-Fonksiyon Gelen 1. Sonuç\",a) # 2\n",
    "    def icfonk():\n",
    "        a = 3\n",
    "        print(\"3-İç Fonksiyondan Gelen Sonuç\",a) # 3\n",
    "    icfonk()\n",
    "    print(\"4-Fonksiyon Gelen 2. Sonuç\",a) # 2\n",
    "print(\"1-Dışarıdaki a için 1. Sonuç\",a) # 5\n",
    "fonk()\n",
    "print(\"5-Dışarıdaki a için 2. Sonuç\",a) # 2"
   ]
  },
  {
   "cell_type": "code",
   "execution_count": 81,
   "metadata": {},
   "outputs": [
    {
     "name": "stdout",
     "output_type": "stream",
     "text": [
      "1-Dışarıdaki a için 1. Sonuç 5\n",
      "2-Fonksiyon Gelen 1. Sonuç 2\n",
      "3-İç Fonksiyondan Gelen Sonuç 3\n",
      "4-Fonksiyon Gelen 2. Sonuç 2\n",
      "5-Dışarıdaki a için 2. Sonuç 3\n"
     ]
    }
   ],
   "source": [
    "a = 5\n",
    "def fonk():\n",
    "    a = 2\n",
    "    print(\"2-Fonksiyon Gelen 1. Sonuç\",a) # 2\n",
    "    def icfonk():\n",
    "        global a\n",
    "        a = 3\n",
    "        print(\"3-İç Fonksiyondan Gelen Sonuç\",a) # 3\n",
    "    icfonk()\n",
    "    print(\"4-Fonksiyon Gelen 2. Sonuç\",a) # 2\n",
    "print(\"1-Dışarıdaki a için 1. Sonuç\",a) # 5\n",
    "fonk()\n",
    "print(\"5-Dışarıdaki a için 2. Sonuç\",a) # 3"
   ]
  },
  {
   "cell_type": "code",
   "execution_count": 83,
   "metadata": {},
   "outputs": [
    {
     "name": "stdout",
     "output_type": "stream",
     "text": [
      "1-Dışarıdaki a için 1. Sonuç 5\n",
      "2-Fonksiyon Gelen 1. Sonuç 2\n",
      "3-İç Fonksiyondan Gelen Sonuç 3\n",
      "4-Fonksiyon Gelen 2. Sonuç 3\n",
      "5-Dışarıdaki a için 2. Sonuç 5\n"
     ]
    }
   ],
   "source": [
    "a = 5\n",
    "def fonk():\n",
    "    a = 2\n",
    "    print(\"2-Fonksiyon Gelen 1. Sonuç\",a) # 2\n",
    "    def icfonk():\n",
    "        nonlocal a\n",
    "        a = 3\n",
    "        print(\"3-İç Fonksiyondan Gelen Sonuç\",a) # 3\n",
    "    icfonk()\n",
    "    print(\"4-Fonksiyon Gelen 2. Sonuç\",a) # 3\n",
    "print(\"1-Dışarıdaki a için 1. Sonuç\",a) # 5\n",
    "fonk()\n",
    "print(\"5-Dışarıdaki a için 2. Sonuç\",a) # 5"
   ]
  },
  {
   "cell_type": "code",
   "execution_count": 93,
   "metadata": {},
   "outputs": [
    {
     "name": "stdout",
     "output_type": "stream",
     "text": [
      "1-Dışarıdaki a için 1. Sonuç 5\n",
      "2-Fonksiyon Gelen 1. Sonuç 2\n",
      "3-İç Fonksiyondan Gelen Sonuç 3\n",
      "4-Fonksiyon Gelen 2. Sonuç 2\n",
      "5-Dışarıdaki a için 2. Sonuç 5\n"
     ]
    },
    {
     "data": {
      "text/plain": [
       "[2]"
      ]
     },
     "execution_count": 93,
     "metadata": {},
     "output_type": "execute_result"
    }
   ],
   "source": [
    "a = 5\n",
    "liste = []\n",
    "def fonk():\n",
    "    a = 2 \n",
    "    liste=4\n",
    "    print(\"2-Fonksiyon Gelen 1. Sonuç\",a) # 2\n",
    "    def icfonk():\n",
    "        global liste \n",
    "        a = 3\n",
    "        liste.append(2)\n",
    "        print(\"3-İç Fonksiyondan Gelen Sonuç\",a) # 3\n",
    "    icfonk()\n",
    "    print(\"4-Fonksiyon Gelen 2. Sonuç\",a) # 3\n",
    "print(\"1-Dışarıdaki a için 1. Sonuç\",a) # 5\n",
    "fonk()\n",
    "print(\"5-Dışarıdaki a için 2. Sonuç\",a) # 5\n",
    "liste"
   ]
  },
  {
   "cell_type": "code",
   "execution_count": null,
   "metadata": {},
   "outputs": [],
   "source": []
  }
 ],
 "metadata": {
  "kernelspec": {
   "display_name": "Python 3",
   "language": "python",
   "name": "python3"
  },
  "language_info": {
   "codemirror_mode": {
    "name": "ipython",
    "version": 3
   },
   "file_extension": ".py",
   "mimetype": "text/x-python",
   "name": "python",
   "nbconvert_exporter": "python",
   "pygments_lexer": "ipython3",
   "version": "3.12.0"
  }
 },
 "nbformat": 4,
 "nbformat_minor": 2
}
