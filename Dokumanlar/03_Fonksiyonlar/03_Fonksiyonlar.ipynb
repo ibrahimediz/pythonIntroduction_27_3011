{
 "cells": [
  {
   "cell_type": "markdown",
   "metadata": {},
   "source": [
    "# Fonksiyonlar 3\n",
    "* lambda\n",
    "* recursion\n",
    "* built-ins\n"
   ]
  },
  {
   "cell_type": "markdown",
   "metadata": {},
   "source": [
    "## lambda"
   ]
  },
  {
   "cell_type": "code",
   "execution_count": 1,
   "metadata": {},
   "outputs": [
    {
     "data": {
      "text/plain": [
       "5"
      ]
     },
     "execution_count": 1,
     "metadata": {},
     "output_type": "execute_result"
    }
   ],
   "source": [
    "def fonk(a,b):\n",
    "    return a+b\n",
    "fonk(2,3)"
   ]
  },
  {
   "cell_type": "code",
   "execution_count": 7,
   "metadata": {},
   "outputs": [],
   "source": [
    "fonk = lambda x:x**2\n",
    "fonk2 = lambda x,y:x+y"
   ]
  },
  {
   "cell_type": "markdown",
   "metadata": {},
   "source": [
    "## recursion"
   ]
  },
  {
   "cell_type": "code",
   "execution_count": 3,
   "metadata": {},
   "outputs": [
    {
     "name": "stdout",
     "output_type": "stream",
     "text": [
      "1.72 µs ± 23.7 ns per loop (mean ± std. dev. of 7 runs, 100,000 loops each)\n"
     ]
    }
   ],
   "source": [
    "%%timeit\n",
    "def fibo(terim):\n",
    "    a = b = 1\n",
    "    for i in range(terim):\n",
    "        a,b = b,(a+b)\n",
    "    else:\n",
    "        return b\n",
    "fibo(25)"
   ]
  },
  {
   "cell_type": "code",
   "execution_count": 4,
   "metadata": {},
   "outputs": [
    {
     "name": "stdout",
     "output_type": "stream",
     "text": [
      "14.2 ms ± 260 µs per loop (mean ± std. dev. of 7 runs, 100 loops each)\n"
     ]
    }
   ],
   "source": [
    "%%timeit\n",
    "def recuFibo(terim):\n",
    "    if terim <= 0 :\n",
    "        return 0\n",
    "    if terim == 1 :\n",
    "        return 1\n",
    "    return recuFibo(terim-1)+recuFibo(terim-2)\n",
    "recuFibo(25)"
   ]
  },
  {
   "cell_type": "code",
   "execution_count": 13,
   "metadata": {},
   "outputs": [
    {
     "name": "stdout",
     "output_type": "stream",
     "text": [
      "Garanti itnaraG\n",
      "aranti itnara\n",
      "ranti itnar\n",
      "anti itna\n",
      "nti itn\n",
      "ti it\n",
      "i\n",
      "ti it\n",
      "nti itn\n",
      "anti itna\n",
      "ranti itnar\n",
      "aranti itnara\n",
      "Garanti itnaraG\n"
     ]
    }
   ],
   "source": [
    "def recu(metin):\n",
    "    if len(metin) == 1:\n",
    "        print(metin)\n",
    "    else:\n",
    "        print(metin)\n",
    "        recu(metin[1:])\n",
    "        print(metin)\n",
    "recu(\"Garanti\")"
   ]
  },
  {
   "cell_type": "code",
   "execution_count": 16,
   "metadata": {},
   "outputs": [
    {
     "data": {
      "text/plain": [
       "120"
      ]
     },
     "execution_count": 16,
     "metadata": {},
     "output_type": "execute_result"
    }
   ],
   "source": [
    "def faktoriyel(sayi):\n",
    "    if sayi == 1 or sayi == 0:\n",
    "        return 1\n",
    "    else:\n",
    "        return faktoriyel(sayi-1)*sayi\n",
    "faktoriyel(5)"
   ]
  },
  {
   "cell_type": "code",
   "execution_count": 19,
   "metadata": {},
   "outputs": [
    {
     "data": {
      "text/plain": [
       "10000"
      ]
     },
     "execution_count": 19,
     "metadata": {},
     "output_type": "execute_result"
    }
   ],
   "source": [
    "# import sys\n",
    "# sys.setrecursionlimit(10000)\n",
    "# sys.getrecursionlimit()"
   ]
  },
  {
   "cell_type": "markdown",
   "metadata": {},
   "source": [
    "## built-ins\n",
    "* map\n",
    "* filter\n",
    "* any,all\n",
    "* zip\n",
    "* enumerate\n",
    "* exec,eval\n",
    "* reversed\n",
    "* sorted"
   ]
  },
  {
   "cell_type": "markdown",
   "metadata": {},
   "source": [
    "### map"
   ]
  },
  {
   "cell_type": "code",
   "execution_count": 12,
   "metadata": {},
   "outputs": [
    {
     "name": "stdout",
     "output_type": "stream",
     "text": [
      "<map object at 0x7f165802c220>\n",
      "[1, 2, 3, 4]\n"
     ]
    }
   ],
   "source": [
    "liste = [\"1\",\"2\",\"3\",\"4\"]\n",
    "print(map(int,liste))\n",
    "print(list(map(int,liste)))"
   ]
  },
  {
   "cell_type": "code",
   "execution_count": 14,
   "metadata": {},
   "outputs": [
    {
     "name": "stdout",
     "output_type": "stream",
     "text": [
      "1 4 9 16 25 36\n"
     ]
    }
   ],
   "source": [
    "liste = [1,2,3,4,5,6]\n",
    "print(*map(lambda x:x**2,liste))"
   ]
  },
  {
   "cell_type": "code",
   "execution_count": 19,
   "metadata": {},
   "outputs": [
    {
     "name": "stdout",
     "output_type": "stream",
     "text": [
      "garanti̇\n"
     ]
    }
   ],
   "source": [
    "metin = \"GARANTİ\"\n",
    "print(\"\".join(map(str.lower,metin)))"
   ]
  },
  {
   "cell_type": "markdown",
   "metadata": {},
   "source": [
    "### filter"
   ]
  },
  {
   "cell_type": "code",
   "execution_count": 24,
   "metadata": {},
   "outputs": [
    {
     "data": {
      "text/plain": [
       "<filter at 0x7f165802ef50>"
      ]
     },
     "execution_count": 24,
     "metadata": {},
     "output_type": "execute_result"
    }
   ],
   "source": [
    "import random as rnd\n",
    "liste = [rnd.randint(1,1000) for i in range(100)]\n",
    "def fonk(a):\n",
    "    return a % 2 == 0\n",
    "filter(fonk,liste)"
   ]
  },
  {
   "cell_type": "code",
   "execution_count": 25,
   "metadata": {},
   "outputs": [
    {
     "name": "stdout",
     "output_type": "stream",
     "text": [
      "444 206 560 522 52 844 100 396 922 520 154 472 242 436 464 62 88 634 668 630 546 588 158 350 644 310 74 536 238 156 474 28 196 182 106 294 688 52 712 126 174 912 240 74\n"
     ]
    }
   ],
   "source": [
    "print(*filter(fonk,liste))"
   ]
  },
  {
   "cell_type": "code",
   "execution_count": 27,
   "metadata": {},
   "outputs": [
    {
     "name": "stdout",
     "output_type": "stream",
     "text": [
      "13 41 199 557 307 967 641 991 383 701 7 479 769 359 317 797 613 37\n"
     ]
    }
   ],
   "source": [
    "\n",
    "def asalMi(param):\n",
    "    for i in range(2,param):\n",
    "        if param%i == 0:\n",
    "            return False\n",
    "    else:\n",
    "        return True\n",
    "\n",
    "print(*filter(asalMi,liste))"
   ]
  },
  {
   "cell_type": "markdown",
   "metadata": {},
   "source": [
    "### any,all"
   ]
  },
  {
   "cell_type": "code",
   "execution_count": 29,
   "metadata": {},
   "outputs": [
    {
     "data": {
      "text/plain": [
       "(False, True)"
      ]
     },
     "execution_count": 29,
     "metadata": {},
     "output_type": "execute_result"
    }
   ],
   "source": [
    "liste = [\"\",\"\",\"\",\"\",\"\",\"\",\"\",\"2\",\"\",\"\"]\n",
    "all(liste),any(liste)"
   ]
  },
  {
   "cell_type": "code",
   "execution_count": 30,
   "metadata": {},
   "outputs": [
    {
     "data": {
      "text/plain": [
       "False"
      ]
     },
     "execution_count": 30,
     "metadata": {},
     "output_type": "execute_result"
    }
   ],
   "source": [
    "liste = [\"\",\"\",\"\",\"\",\"\",\"\",\"\",\"\",\"\",\"\"]\n",
    "any(liste)"
   ]
  },
  {
   "cell_type": "code",
   "execution_count": 31,
   "metadata": {},
   "outputs": [
    {
     "data": {
      "text/plain": [
       "True"
      ]
     },
     "execution_count": 31,
     "metadata": {},
     "output_type": "execute_result"
    }
   ],
   "source": [
    "liste = [\"\",\"1\",\"\",\"\",\"\",\"\",\"\",\"\",\"\",\"\"]\n",
    "any(liste)"
   ]
  },
  {
   "cell_type": "code",
   "execution_count": 33,
   "metadata": {},
   "outputs": [
    {
     "data": {
      "text/plain": [
       "True"
      ]
     },
     "execution_count": 33,
     "metadata": {},
     "output_type": "execute_result"
    }
   ],
   "source": [
    "liste = [0,0,0,0,0,0,0,0]\n",
    "any(liste)"
   ]
  },
  {
   "cell_type": "code",
   "execution_count": 34,
   "metadata": {},
   "outputs": [
    {
     "data": {
      "text/plain": [
       "True"
      ]
     },
     "execution_count": 34,
     "metadata": {},
     "output_type": "execute_result"
    }
   ],
   "source": [
    "liste = [0,0,1,0,0,0,0,0]\n",
    "any(liste)"
   ]
  },
  {
   "cell_type": "code",
   "execution_count": 37,
   "metadata": {},
   "outputs": [
    {
     "name": "stdout",
     "output_type": "stream",
     "text": [
      "False\n"
     ]
    }
   ],
   "source": [
    "liste = [1,3,1,1,5,7,9,1]\n",
    "print(any(map(lambda x:not x%2,liste)))"
   ]
  },
  {
   "cell_type": "code",
   "execution_count": 39,
   "metadata": {},
   "outputs": [
    {
     "name": "stdout",
     "output_type": "stream",
     "text": [
      "True\n"
     ]
    }
   ],
   "source": [
    "liste = [1,2,3,2,1,1,2,2,2,1,1,2,2,3,1,1,2,2,1,1,2,2,1,1,2,2,3,3,4,1]\n",
    "print(all(liste))"
   ]
  },
  {
   "cell_type": "code",
   "execution_count": 41,
   "metadata": {},
   "outputs": [
    {
     "name": "stdout",
     "output_type": "stream",
     "text": [
      "False\n"
     ]
    }
   ],
   "source": [
    "liste = [1,3,1,1,5,7,9,1,2]\n",
    "print(all(map(lambda x:x%2,liste)))"
   ]
  },
  {
   "cell_type": "markdown",
   "metadata": {},
   "source": [
    "### zip"
   ]
  },
  {
   "cell_type": "code",
   "execution_count": 42,
   "metadata": {},
   "outputs": [
    {
     "data": {
      "text/plain": [
       "<zip at 0x7f16423b5bc0>"
      ]
     },
     "execution_count": 42,
     "metadata": {},
     "output_type": "execute_result"
    }
   ],
   "source": [
    "liste = [\"a\",\"b\",\"c\",\"d\"]\n",
    "liste2 = [1,2,3,4]\n",
    "zip(liste,liste2)"
   ]
  },
  {
   "cell_type": "code",
   "execution_count": 43,
   "metadata": {},
   "outputs": [
    {
     "name": "stdout",
     "output_type": "stream",
     "text": [
      "[('a', 1), ('b', 2), ('c', 3), ('d', 4)]\n"
     ]
    }
   ],
   "source": [
    "liste = [\"a\",\"b\",\"c\",\"d\"]\n",
    "liste2 = [1,2,3,4]\n",
    "print(list(zip(liste,liste2))) # 3.10 dan sonra strict parametresi geldi"
   ]
  },
  {
   "cell_type": "code",
   "execution_count": 49,
   "metadata": {},
   "outputs": [
    {
     "name": "stdout",
     "output_type": "stream",
     "text": [
      "[('a', 1, 1), ('b', 2, 2), ('c', 3, 3), ('d', 4, 4)]\n"
     ]
    }
   ],
   "source": [
    "liste = [\"a\",\"b\",\"c\",\"d\",\"e\"]\n",
    "liste2 = [1,2,3,4]\n",
    "print(list(zip(liste,liste2))) "
   ]
  },
  {
   "cell_type": "code",
   "execution_count": 50,
   "metadata": {},
   "outputs": [
    {
     "data": {
      "text/plain": [
       "{'a': 1, 'b': 2, 'c': 3, 'd': 4}"
      ]
     },
     "execution_count": 50,
     "metadata": {},
     "output_type": "execute_result"
    }
   ],
   "source": [
    "sozluk = {}\n",
    "sozluk.update(zip(liste,liste2))\n",
    "sozluk"
   ]
  },
  {
   "cell_type": "code",
   "execution_count": 52,
   "metadata": {},
   "outputs": [
    {
     "name": "stdout",
     "output_type": "stream",
     "text": [
      "('a', 'b', 'c', 'd') (1, 2, 3, 4)\n"
     ]
    }
   ],
   "source": [
    "print(*zip(*zip(liste,liste2)))"
   ]
  },
  {
   "cell_type": "markdown",
   "metadata": {},
   "source": [
    "### enumerate"
   ]
  },
  {
   "cell_type": "code",
   "execution_count": 55,
   "metadata": {},
   "outputs": [
    {
     "name": "stdout",
     "output_type": "stream",
     "text": [
      "(0, 'Ali') (1, 'Ayşe') (2, 'Fatma')\n"
     ]
    }
   ],
   "source": [
    "liste = [\"Ali\",\"Ayşe\",\"Fatma\"]\n",
    "print(*enumerate(liste))"
   ]
  },
  {
   "cell_type": "code",
   "execution_count": 59,
   "metadata": {},
   "outputs": [
    {
     "name": "stdout",
     "output_type": "stream",
     "text": [
      "(1, 'Ali') (2, 'Ayşe') (3, 'Fatma')\n"
     ]
    }
   ],
   "source": [
    "liste = [\"Ali\",\"Ayşe\",\"Fatma\"]\n",
    "print(*enumerate(liste,start=1))"
   ]
  },
  {
   "cell_type": "code",
   "execution_count": 60,
   "metadata": {},
   "outputs": [
    {
     "data": {
      "text/plain": [
       "{1: 'Ali', 2: 'Ayşe', 3: 'Fatma'}"
      ]
     },
     "execution_count": 60,
     "metadata": {},
     "output_type": "execute_result"
    }
   ],
   "source": [
    "liste = [\"Ali\",\"Ayşe\",\"Fatma\"]\n",
    "sozluk = {}\n",
    "sozluk.update(enumerate(liste,start=1))\n",
    "sozluk"
   ]
  },
  {
   "cell_type": "markdown",
   "metadata": {},
   "source": [
    "### eval => evaluate"
   ]
  },
  {
   "cell_type": "code",
   "execution_count": 61,
   "metadata": {},
   "outputs": [
    {
     "data": {
      "text/plain": [
       "58"
      ]
     },
     "execution_count": 61,
     "metadata": {},
     "output_type": "execute_result"
    }
   ],
   "source": [
    "metin = input(\"Kod Yaz:\")\n",
    "eval(metin)"
   ]
  },
  {
   "cell_type": "markdown",
   "metadata": {},
   "source": [
    "### exec => execute"
   ]
  },
  {
   "cell_type": "code",
   "execution_count": 62,
   "metadata": {},
   "outputs": [
    {
     "name": "stdout",
     "output_type": "stream",
     "text": [
      "0\n",
      "1\n",
      "2\n",
      "3\n",
      "4\n"
     ]
    }
   ],
   "source": [
    "metin = \"\"\"\n",
    "for i in range(5):\n",
    "    print(i)\n",
    "\"\"\"\n",
    "exec(metin)"
   ]
  },
  {
   "cell_type": "code",
   "execution_count": null,
   "metadata": {},
   "outputs": [],
   "source": []
  }
 ],
 "metadata": {
  "kernelspec": {
   "display_name": "Python 3",
   "language": "python",
   "name": "python3"
  },
  "language_info": {
   "codemirror_mode": {
    "name": "ipython",
    "version": 3
   },
   "file_extension": ".py",
   "mimetype": "text/x-python",
   "name": "python",
   "nbconvert_exporter": "python",
   "pygments_lexer": "ipython3",
   "version": "3.12.0"
  }
 },
 "nbformat": 4,
 "nbformat_minor": 2
}
