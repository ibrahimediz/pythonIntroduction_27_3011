{
 "cells": [
  {
   "cell_type": "markdown",
   "metadata": {},
   "source": [
    "# Dosya Islemleri\n",
    "* open Fonksiyonu\n",
    "* Dosya açma modları\n",
    "* dosya okuma fonksiyonları\n",
    "* dosya yazma fonksiyonları \n",
    "* diğer fonksiyonlar\n",
    "* with .... open deyimi"
   ]
  },
  {
   "cell_type": "markdown",
   "metadata": {},
   "source": [
    "## open Fonksiyonu"
   ]
  },
  {
   "cell_type": "code",
   "execution_count": 6,
   "metadata": {},
   "outputs": [],
   "source": [
    "# adres => /workspace/pythonIntroduction_27_3011/Dokumanlar/05_DosyaIslemleri/ornek.csv\n",
    "# bağıladres => Dokumanlar/05_DosyaIslemleri/ornek.csv\n",
    "import os\n",
    "adres = os.path.join(os.sep,\"workspace\",\"pythonIntroduction_27_3011\",\"Dokumanlar\",\"05_DosyaIslemleri\",\"ornek.csv\")\n",
    "# open(\"/workspace/pythonIntroduction_27_3011/Dokumanlar/05_DosyaIslemleri/ornek.csv\")\n",
    "dosya = open(adres)"
   ]
  },
  {
   "cell_type": "markdown",
   "metadata": {},
   "source": [
    "## Dosya Açma Modları"
   ]
  },
  {
   "cell_type": "markdown",
   "metadata": {},
   "source": [
    "```\n",
    "r => read mode  ######### Okuma\n",
    "w => write mode dosyayı içerisinde veri olsa da yeniden oluşturur #### Yazma\n",
    "a => append mode dosya yok ise oluşturur imleç en sondadır ### Yazma\n",
    "x => create mode dosya yok ise oluşturur var ise hata verir ### Yazma\n",
    "r+,w+,a+,x+ ########### hem okuma hem yazma\n",
    "rb,wb,ab,xb ########## binary dosyalarla çalışmak için b eklenmeli\n",
    "```"
   ]
  },
  {
   "cell_type": "code",
   "execution_count": 8,
   "metadata": {},
   "outputs": [],
   "source": [
    "dosya = open(adres) # varsayılan r modu\n",
    "dosya = open(adres)"
   ]
  },
  {
   "cell_type": "markdown",
   "metadata": {},
   "source": [
    "## Dosya Okuma Fonksiyonları\n",
    "* read => str\n",
    "* readline => str\n",
    "* readlines => list"
   ]
  },
  {
   "cell_type": "code",
   "execution_count": 12,
   "metadata": {},
   "outputs": [
    {
     "name": "stdout",
     "output_type": "stream",
     "text": [
      "1 Ali;23;45\n",
      "Veli;65;23\n",
      "Ayşe;34;21\n",
      "2 \n"
     ]
    }
   ],
   "source": [
    "adres = os.path.join(os.sep,\"workspace\",\"pythonIntroduction_27_3011\",\"Dokumanlar\",\"05_DosyaIslemleri\",\"ornek.csv\")\n",
    "dosya = open(adres)\n",
    "print(\"1\",dosya.read())\n",
    "print(\"2\",dosya.read())"
   ]
  },
  {
   "cell_type": "code",
   "execution_count": 13,
   "metadata": {},
   "outputs": [
    {
     "name": "stdout",
     "output_type": "stream",
     "text": [
      "1 \n"
     ]
    }
   ],
   "source": [
    "dosya = open(adres,\"a+\")\n",
    "print(\"1\",dosya.read())"
   ]
  },
  {
   "cell_type": "code",
   "execution_count": 17,
   "metadata": {},
   "outputs": [
    {
     "data": {
      "text/plain": [
       "'Ve'"
      ]
     },
     "execution_count": 17,
     "metadata": {},
     "output_type": "execute_result"
    }
   ],
   "source": [
    "dosya = open(adres)\n",
    "dosya.readline()"
   ]
  },
  {
   "cell_type": "code",
   "execution_count": 20,
   "metadata": {},
   "outputs": [
    {
     "data": {
      "text/plain": [
       "['Ali;23;45\\n', 'Veli;65;23\\n', 'Ayşe;34;21\\n']"
      ]
     },
     "execution_count": 20,
     "metadata": {},
     "output_type": "execute_result"
    }
   ],
   "source": [
    "dosya = open(adres)\n",
    "dosya.readlines()"
   ]
  },
  {
   "cell_type": "code",
   "execution_count": 29,
   "metadata": {},
   "outputs": [
    {
     "name": "stdout",
     "output_type": "stream",
     "text": [
      "Ali 23 45\n",
      "Veli 65 23\n",
      "Ayşe 34 21\n"
     ]
    }
   ],
   "source": [
    "dosya = open(adres)\n",
    "for item in dosya.readlines():\n",
    "    a,b,c = item.replace(\"\\n\",\"\").split(\";\") # [\"Ali\",\"23\",\"45\"]\n",
    "    print(a,b,c)\n",
    "    "
   ]
  },
  {
   "cell_type": "markdown",
   "metadata": {},
   "source": [
    "### Yazma Fonksiyonları\n",
    "* write\n",
    "* writelines"
   ]
  },
  {
   "cell_type": "code",
   "execution_count": 35,
   "metadata": {},
   "outputs": [
    {
     "data": {
      "text/plain": [
       "12"
      ]
     },
     "execution_count": 35,
     "metadata": {},
     "output_type": "execute_result"
    }
   ],
   "source": [
    "dosya = open(adres,\"a+\")\n",
    "dosya.write(\";\".join([\"Fatma\",str(23),str(45)]) + \"\\n\")"
   ]
  },
  {
   "cell_type": "code",
   "execution_count": 57,
   "metadata": {},
   "outputs": [],
   "source": [
    "dosya = open(adres,\"w+\")\n",
    "liste = [\"HakanOzden\",\"HakanOzel\",\"GamzeCelik\",\"FurkanKeles\",\"MerveSarpBoyar\",\"OzgeCillik\",\"SimgeAydin\",\"IpekDolu\"]\n",
    "import random as rnd\n",
    "for item in liste:\n",
    "    print(item,rnd.randint(100,1000),rnd.randint(100,1000),\\\n",
    "        sep=\";\",file=dosya)\n",
    "dosya.close()"
   ]
  },
  {
   "cell_type": "code",
   "execution_count": 47,
   "metadata": {},
   "outputs": [],
   "source": [
    "dosya = open(adres,\"w+\")\n",
    "liste = [\"HakanOzden\",\"HakanOzel\",\"GamzeCelik\",\"FurkanKeles\",\"MerveSarpBoyar\",\"OzgeCillik\",\"SimgeAydin\",\"IpekDolu\"]\n",
    "import random as rnd\n",
    "kayitlar = []\n",
    "for item in liste:\n",
    "    a,b,c = item,rnd.randint(100,1000),rnd.randint(100,1000)\n",
    "    b = str(b)\n",
    "    c = str(c) + \"\\n\"\n",
    "    kayit = \";\".join([a,b,c])\n",
    "    kayitlar.append(kayit)\n",
    "else:\n",
    "    dosya.writelines(kayitlar)\n",
    "dosya.close()"
   ]
  },
  {
   "cell_type": "markdown",
   "metadata": {},
   "source": [
    "## Diğer Fonksiyonlar"
   ]
  },
  {
   "cell_type": "code",
   "execution_count": 50,
   "metadata": {},
   "outputs": [
    {
     "name": "stdout",
     "output_type": "stream",
     "text": [
      "HakanOzden;766;652\n",
      "HakanOzel;854;514\n",
      "GamzeCelik;382;684\n",
      "FurkanKeles;159;107\n",
      "MerveSarpBoyar;596;502\n",
      "OzgeCillik;706;696\n",
      "SimgeAydin;518;643\n",
      "IpekDolu;288;507\n",
      "\n"
     ]
    }
   ],
   "source": [
    "dosya = open(adres,\"a+\")\n",
    "dosya.seek(0)\n",
    "print(dosya.read())"
   ]
  },
  {
   "cell_type": "code",
   "execution_count": 54,
   "metadata": {},
   "outputs": [
    {
     "name": "stdout",
     "output_type": "stream",
     "text": [
      "154\n",
      "Dolu;288;507\n",
      "\n"
     ]
    }
   ],
   "source": [
    "dosya = open(adres,\"a+\")\n",
    "print(dosya.tell())\n",
    "dosya.seek(141)\n",
    "print(dosya.read())"
   ]
  },
  {
   "cell_type": "code",
   "execution_count": 56,
   "metadata": {},
   "outputs": [
    {
     "data": {
      "text/plain": [
       "0"
      ]
     },
     "execution_count": 56,
     "metadata": {},
     "output_type": "execute_result"
    }
   ],
   "source": [
    "dosya = open(adres,\"r+\")\n",
    "dosya.seek(0)\n",
    "dosya.truncate()"
   ]
  },
  {
   "cell_type": "markdown",
   "metadata": {},
   "source": [
    "## with ... open deyimi"
   ]
  },
  {
   "cell_type": "code",
   "execution_count": 61,
   "metadata": {},
   "outputs": [],
   "source": [
    "with open(adres,\"w+\") as dosya,open(\"deneme.csv\",\"w+\") as dosya2:\n",
    "    liste = [\"HakanOzden\",\"HakanOzel\",\"GamzeCelik\",\"FurkanKeles\",\"MerveSarpBoyar\",\"OzgeCillik\",\"SimgeAydin\",\"IpekDolu\"]\n",
    "    import random as rnd\n",
    "    for item in liste:\n",
    "        print(item,rnd.randint(100,1000),rnd.randint(100,1000),\\\n",
    "            sep=\";\",file=dosya)\n",
    "        print(item,rnd.randint(100,1000),rnd.randint(100,1000),\\\n",
    "            sep=\";\",file=dosya2)"
   ]
  },
  {
   "cell_type": "code",
   "execution_count": 65,
   "metadata": {},
   "outputs": [
    {
     "name": "stdout",
     "output_type": "stream",
     "text": [
      "853\n",
      "l1 92,107,118,88,88,103,104,85,84,99,104,ERROR,84,99,109,79,79,95,100,79,84,103,109,79,86,104,104,85,86,104,104,81,86,100,108,85,4\n",
      "\n",
      "l2 92,107,118,88,88,103,104,85,84,99,104,81,84,99,109,79,79,95,100,79,84,103,109,79,86,104,104,85,86,104,104,81,86,100,108,85,4\n",
      "\n",
      "1596\n",
      "l1 71,77,86,72,67,73,90,68,71,73,86,68,63,63,82,69,ERROR,71,82,65,70,75,89,73,60,66,78,61,64,66,78,65,64,66,82,65,7\n",
      "\n",
      "l2 71,77,86,72,67,73,90,68,71,73,86,68,63,63,82,69,67,71,82,65,70,75,89,73,60,66,78,61,64,66,78,65,64,66,82,65,7\n",
      "\n"
     ]
    }
   ],
   "source": [
    "with open(\"satellite_1.csv\",\"r+\") as d1,open(\"satellite_2.csv\",\"r+\") as d2:\n",
    "    l1 = d1.readlines()\n",
    "    l2 = d2.readlines()\n",
    "    if len(l1) == len(l2):\n",
    "        for i in range(len(l1)):\n",
    "            if l1[i] != l2[i]:\n",
    "                print(i)\n",
    "                print(\"l1\",l1[i])\n",
    "                print(\"l2\",l2[i])\n"
   ]
  },
  {
   "cell_type": "code",
   "execution_count": 68,
   "metadata": {},
   "outputs": [
    {
     "name": "stdout",
     "output_type": "stream",
     "text": [
      "853\n",
      "11\n",
      "ERROR\n",
      "81\n",
      "1596\n",
      "16\n",
      "ERROR\n",
      "67\n"
     ]
    }
   ],
   "source": [
    "with open(\"satellite_1.csv\",\"r+\") as d1,open(\"satellite_2.csv\",\"r+\") as d2:\n",
    "    l1 = d1.readlines()\n",
    "    l2 = d2.readlines()\n",
    "    if len(l1) == len(l2):\n",
    "        for i in range(len(l1)):\n",
    "            if l1[i] != l2[i]:\n",
    "                print(i)\n",
    "                kayit1 = l1[i].split(\",\")\n",
    "                kayit2 = l2[i].split(\",\")\n",
    "                for j in range(len(kayit1)):\n",
    "                    if kayit1[j] != kayit2[j]:\n",
    "                        print(j)\n",
    "                        print(kayit1[j])\n",
    "                        print(kayit2[j])"
   ]
  },
  {
   "cell_type": "code",
   "execution_count": 74,
   "metadata": {},
   "outputs": [
    {
     "name": "stdout",
     "output_type": "stream",
     "text": [
      "853\n",
      "(11, 'ERROR', '81')\n",
      "1596\n",
      "(16, 'ERROR', '67')\n"
     ]
    }
   ],
   "source": [
    "def ayikla(l1,l2):\n",
    "    if len(l1) == len(l2): # gelen listeler eşit uzunlukta mı\n",
    "        for i in range(len(l1)): # tek bir listenin uzunluğundan indislere erişmek için\n",
    "            if l1[i] != l2[i]: # değerler birbirinden farklı ise \n",
    "                yield i,l1[i],l2[i] # generator return\n",
    "########################################\n",
    "with open(\"satellite_1.csv\",\"r+\") as d1,open(\"satellite_2.csv\",\"r+\") as d2: # dosyaların açılması\n",
    "    l1 = d1.readlines() # dosya 1 oku\n",
    "    l2 = d2.readlines() # dosya 2 oku\n",
    "    for row in ayikla(l1,l2): # ayikla fonksiyonu ile satır tespiti \n",
    "        print(row[0]) # satir numarası \n",
    "        for col in  ayikla(row[1].split(\",\"),row[2].split(\",\")): # ayıkla fonksiyonu ile sütun tespiti \n",
    "            print(col) "
   ]
  }
 ],
 "metadata": {
  "kernelspec": {
   "display_name": "Python 3",
   "language": "python",
   "name": "python3"
  },
  "language_info": {
   "codemirror_mode": {
    "name": "ipython",
    "version": 3
   },
   "file_extension": ".py",
   "mimetype": "text/x-python",
   "name": "python",
   "nbconvert_exporter": "python",
   "pygments_lexer": "ipython3",
   "version": "3.12.0"
  }
 },
 "nbformat": 4,
 "nbformat_minor": 2
}
