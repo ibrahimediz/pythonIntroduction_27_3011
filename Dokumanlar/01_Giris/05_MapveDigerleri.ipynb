{
 "cells": [
  {
   "cell_type": "markdown",
   "metadata": {},
   "source": [
    "# Map Veri Tipleri ve Diğerleri\n",
    "* dict\n",
    "* set\n",
    "* bool"
   ]
  },
  {
   "cell_type": "markdown",
   "metadata": {},
   "source": [
    "## dict\n",
    "* Tanımlama\n",
    "* Erişim\n",
    "* Silme\n",
    "* Güncelleme\n",
    "* Yardımcı Fonksiyonlar"
   ]
  },
  {
   "cell_type": "markdown",
   "metadata": {},
   "source": [
    "### Tanımlama"
   ]
  },
  {
   "cell_type": "code",
   "execution_count": 2,
   "metadata": {},
   "outputs": [
    {
     "name": "stdout",
     "output_type": "stream",
     "text": [
      "<class 'dict'> <class 'dict'>\n"
     ]
    }
   ],
   "source": [
    "sozluk = {\n",
    "    \"_id\": \"656492d6ac39a92d9cbaa5fd\",\n",
    "    \"index\": 0,\n",
    "    \"guid\": \"0dc5add3-3de5-4081-a5f8-d8908d0a1cd7\",\n",
    "    \"isActive\": True,\n",
    "    \"balance\": \"$2,118.03\",\n",
    "    \"picture\": \"http://placehold.it/32x32\",\n",
    "    \"age\": 20\n",
    "  }\n",
    "sozluk2 = {\n",
    "    \"_id\": \"656492d621539b0590275722\",\n",
    "    \"index\": 1,\n",
    "    \"guid\": \"a4a864da-f875-4486-984f-40fb561a8d22\",\n",
    "    \"isActive\": True,\n",
    "    \"balance\": \"$2,198.02\",\n",
    "    \"picture\": \"http://placehold.it/32x32\",\n",
    "    \"age\": 40\n",
    "  }\n",
    "print(type(sozluk),type(sozluk2))"
   ]
  },
  {
   "cell_type": "code",
   "execution_count": 4,
   "metadata": {},
   "outputs": [
    {
     "name": "stdout",
     "output_type": "stream",
     "text": [
      "<class 'dict'>\n"
     ]
    }
   ],
   "source": [
    "sozluk = {}\n",
    "print(type(sozluk))"
   ]
  },
  {
   "cell_type": "code",
   "execution_count": 5,
   "metadata": {},
   "outputs": [],
   "source": [
    "sozluk = {\"1\":\"Bir\"}\n",
    "#         key:value\n",
    "#          item"
   ]
  },
  {
   "cell_type": "markdown",
   "metadata": {},
   "source": [
    "***`key` için immutable veri tipleri (str,tuple) ve nümerik veriler kullanılırken,value için tüm nesneler kullanılabilir*** "
   ]
  },
  {
   "cell_type": "code",
   "execution_count": null,
   "metadata": {},
   "outputs": [],
   "source": [
    "# immutable \n",
    "demet = (1,2,3)\n",
    "# demet[0] = 3 # hata verir # 'tuple' object does not support item assignment"
   ]
  },
  {
   "cell_type": "code",
   "execution_count": null,
   "metadata": {},
   "outputs": [],
   "source": [
    "var1 = \"Garanti\"\n",
    "# var1[0] = \"g\" # 'str' object does not support item assignment"
   ]
  },
  {
   "cell_type": "markdown",
   "metadata": {},
   "source": [
    "### Erişim\n",
    "* [] yöntemi\n",
    "* get yöntemi\n",
    "* setdefault yöntemi"
   ]
  },
  {
   "cell_type": "code",
   "execution_count": 9,
   "metadata": {},
   "outputs": [
    {
     "data": {
      "text/plain": [
       "'Bir'"
      ]
     },
     "execution_count": 9,
     "metadata": {},
     "output_type": "execute_result"
    }
   ],
   "source": [
    "sozluk = {\"1\":\"Bir\",\"2\":\"İki\"}\n",
    "sozluk[\"1\"] # sozluk[key] => Value"
   ]
  },
  {
   "cell_type": "code",
   "execution_count": 10,
   "metadata": {},
   "outputs": [
    {
     "data": {
      "text/plain": [
       "'Bir'"
      ]
     },
     "execution_count": 10,
     "metadata": {},
     "output_type": "execute_result"
    }
   ],
   "source": [
    "sozluk = {\"1\":\"Bir\",\"2\":\"İki\"} # get yöntemi\n",
    "sozluk.get(\"1\")"
   ]
  },
  {
   "cell_type": "code",
   "execution_count": 14,
   "metadata": {},
   "outputs": [],
   "source": [
    "sozluk = {\"1\":\"Bir\",\"2\":\"İki\"}\n",
    "# sozluk[\"3\"] # hata KeyError\n",
    "sozluk.get(\"3\") # Hata vermez None döner"
   ]
  },
  {
   "cell_type": "code",
   "execution_count": 17,
   "metadata": {},
   "outputs": [
    {
     "data": {
      "text/plain": [
       "('Üç', {'1': 'Bir', '2': 'İki', '3': 'Üç'})"
      ]
     },
     "execution_count": 17,
     "metadata": {},
     "output_type": "execute_result"
    }
   ],
   "source": [
    "sozluk = {\"1\":\"Bir\",\"2\":\"İki\"} \n",
    "sozluk.setdefault(\"3\",\"Üç\"),sozluk"
   ]
  },
  {
   "cell_type": "code",
   "execution_count": 18,
   "metadata": {},
   "outputs": [
    {
     "data": {
      "text/plain": [
       "('Bir', {'1': 'Bir', '2': 'İki'})"
      ]
     },
     "execution_count": 18,
     "metadata": {},
     "output_type": "execute_result"
    }
   ],
   "source": [
    "sozluk = {\"1\":\"Bir\",\"2\":\"İki\"} \n",
    "sozluk.setdefault(\"1\",\"Üç\"),sozluk"
   ]
  },
  {
   "cell_type": "code",
   "execution_count": null,
   "metadata": {},
   "outputs": [],
   "source": []
  }
 ],
 "metadata": {
  "kernelspec": {
   "display_name": "Python 3",
   "language": "python",
   "name": "python3"
  },
  "language_info": {
   "codemirror_mode": {
    "name": "ipython",
    "version": 3
   },
   "file_extension": ".py",
   "mimetype": "text/x-python",
   "name": "python",
   "nbconvert_exporter": "python",
   "pygments_lexer": "ipython3",
   "version": "3.12.0"
  }
 },
 "nbformat": 4,
 "nbformat_minor": 2
}
