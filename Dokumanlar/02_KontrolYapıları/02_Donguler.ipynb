{
 "cells": [
  {
   "cell_type": "markdown",
   "metadata": {},
   "source": [
    "# Döngüler\n",
    "* range\n",
    "* `*` unpacking operator\n",
    "* for\n",
    "* break\n",
    "* continue\n",
    "* else\n",
    "* while\n",
    "* oneliners"
   ]
  },
  {
   "cell_type": "markdown",
   "metadata": {},
   "source": [
    "## range() fonksiyonu"
   ]
  },
  {
   "cell_type": "code",
   "execution_count": 2,
   "metadata": {},
   "outputs": [
    {
     "name": "stdout",
     "output_type": "stream",
     "text": [
      "range(1, 2)\n"
     ]
    },
    {
     "data": {
      "text/plain": [
       "range(1, 2)"
      ]
     },
     "execution_count": 2,
     "metadata": {},
     "output_type": "execute_result"
    }
   ],
   "source": [
    "print(range(1,2))\n",
    "range(1,2)"
   ]
  },
  {
   "cell_type": "markdown",
   "metadata": {},
   "source": [
    "## `*` unpacking operator"
   ]
  },
  {
   "cell_type": "code",
   "execution_count": 6,
   "metadata": {},
   "outputs": [
    {
     "name": "stdout",
     "output_type": "stream",
     "text": [
      "1 2 3 4\n"
     ]
    }
   ],
   "source": [
    "print(*[1,2,3,4])"
   ]
  },
  {
   "cell_type": "code",
   "execution_count": 4,
   "metadata": {},
   "outputs": [
    {
     "name": "stdout",
     "output_type": "stream",
     "text": [
      "E n e r j i i i i\n"
     ]
    }
   ],
   "source": [
    "print(*\"Enerjiiii\")"
   ]
  },
  {
   "cell_type": "markdown",
   "metadata": {},
   "source": [
    "***range(başlangıç değeri,bitiş değeri(e kadar),adim değeri)***"
   ]
  },
  {
   "cell_type": "code",
   "execution_count": 14,
   "metadata": {},
   "outputs": [
    {
     "name": "stdout",
     "output_type": "stream",
     "text": [
      "1 2 3 4\n",
      "0 1 2 3 4\n",
      "0 1 2 3 4\n",
      "10 9 8 7 6\n",
      "\n",
      "10 8 6\n",
      "50 45 40 35 30 25 20 15 10\n"
     ]
    }
   ],
   "source": [
    "print(*range(1,5)) # 1 2 3 4 \n",
    "print(*range(0,5)) # 0 1 2 3 4 \n",
    "print(*range(5)) #  0 1 2 3 4\n",
    "print(*range(10,5,-1)) # 10 9 8 7 6\n",
    "print(*range(10,5)) # None\n",
    "print(*range(10,5,-2)) # 10 8 6\n",
    "print(*range(50,5,-5)) # 50 45 40 35 30 25 20 15 10"
   ]
  },
  {
   "cell_type": "markdown",
   "metadata": {},
   "source": [
    "***DRY Don't Repeat Yourself***"
   ]
  },
  {
   "cell_type": "code",
   "execution_count": 1,
   "metadata": {},
   "outputs": [
    {
     "name": "stdout",
     "output_type": "stream",
     "text": [
      "0\n",
      "1\n",
      "2\n",
      "3\n",
      "4\n"
     ]
    }
   ],
   "source": [
    "for i in range(5):\n",
    "    print(i)"
   ]
  },
  {
   "cell_type": "markdown",
   "metadata": {},
   "source": [
    "```\n",
    "for (int i=0;i<5;i++){\n",
    "    Console.writeln(\"${i}\");\n",
    "}\n",
    "########### python\n",
    "for i in range(5):\n",
    "    print(i)\n",
    "```"
   ]
  },
  {
   "cell_type": "markdown",
   "metadata": {},
   "source": [
    "## for"
   ]
  },
  {
   "cell_type": "code",
   "execution_count": 5,
   "metadata": {},
   "outputs": [
    {
     "name": "stdout",
     "output_type": "stream",
     "text": [
      "3\n",
      "5\n",
      "8\n",
      "13\n",
      "21\n",
      "34\n",
      "55\n",
      "89\n",
      "144\n",
      "233\n",
      "377\n",
      "610\n",
      "987\n",
      "1597\n",
      "2584\n",
      "4181\n",
      "6765\n",
      "10946\n",
      "17711\n",
      "28657\n"
     ]
    }
   ],
   "source": [
    "a = b = 1\n",
    "for i in range(20):\n",
    "    a,b = b,a+b\n",
    "    print(a+b)"
   ]
  },
  {
   "cell_type": "code",
   "execution_count": 17,
   "metadata": {},
   "outputs": [
    {
     "name": "stdout",
     "output_type": "stream",
     "text": [
      "a\n",
      "b\n",
      "c\n",
      "d\n",
      "e\n"
     ]
    }
   ],
   "source": [
    "liste = [\"a\",\"b\",\"c\",\"d\",\"e\"]\n",
    "#         0.  1.  2.  3.  4. \n",
    "len(liste) # => 5\n",
    "for i in range(len(liste)) : # range(5)\n",
    "    print(liste[i]) # 0 1 2 3 4"
   ]
  },
  {
   "cell_type": "code",
   "execution_count": 18,
   "metadata": {},
   "outputs": [
    {
     "name": "stdout",
     "output_type": "stream",
     "text": [
      "a\n",
      "b\n",
      "c\n",
      "d\n",
      "e\n"
     ]
    }
   ],
   "source": [
    "for item in liste: # foreach obj in objects\n",
    "    print(item)"
   ]
  },
  {
   "cell_type": "code",
   "execution_count": 6,
   "metadata": {},
   "outputs": [
    {
     "name": "stdout",
     "output_type": "stream",
     "text": [
      "1\n",
      "2\n"
     ]
    }
   ],
   "source": [
    "sozluk = {\"1\":\"Bir\",\"2\":\"İki\"}\n",
    "for item in sozluk:\n",
    "    print(item)"
   ]
  },
  {
   "cell_type": "code",
   "execution_count": 7,
   "metadata": {},
   "outputs": [
    {
     "name": "stdout",
     "output_type": "stream",
     "text": [
      "1\n",
      "2\n"
     ]
    }
   ],
   "source": [
    "sozluk = {\"1\":\"Bir\",\"2\":\"İki\"}\n",
    "for item in sozluk.keys():\n",
    "    print(item)"
   ]
  },
  {
   "cell_type": "code",
   "execution_count": 8,
   "metadata": {},
   "outputs": [
    {
     "name": "stdout",
     "output_type": "stream",
     "text": [
      "Bir\n",
      "İki\n"
     ]
    }
   ],
   "source": [
    "sozluk = {\"1\":\"Bir\",\"2\":\"İki\"}\n",
    "for item in sozluk.values():\n",
    "    print(item)"
   ]
  },
  {
   "cell_type": "code",
   "execution_count": 10,
   "metadata": {},
   "outputs": [
    {
     "name": "stdout",
     "output_type": "stream",
     "text": [
      "1 Bir\n",
      "2 İki\n"
     ]
    }
   ],
   "source": [
    "sozluk = {\"1\":\"Bir\",\"2\":\"İki\"}\n",
    "for key,value in sozluk.items():\n",
    "    print(key,value)"
   ]
  },
  {
   "cell_type": "code",
   "execution_count": 11,
   "metadata": {},
   "outputs": [
    {
     "data": {
      "text/plain": [
       "dict_items([('1', 'Bir'), ('2', 'İki')])"
      ]
     },
     "execution_count": 11,
     "metadata": {},
     "output_type": "execute_result"
    }
   ],
   "source": [
    "sozluk.items()"
   ]
  },
  {
   "cell_type": "code",
   "execution_count": 12,
   "metadata": {},
   "outputs": [
    {
     "name": "stdout",
     "output_type": "stream",
     "text": [
      "1 Ali New York\n",
      "2 Ayşe Colorado\n"
     ]
    }
   ],
   "source": [
    "liste = [(1,\"Ali\",\"New York\"),(2,\"Ayşe\",\"Colorado\")]\n",
    "for _id,adi,state in liste:\n",
    "    print(_id,adi,state)"
   ]
  },
  {
   "cell_type": "markdown",
   "metadata": {},
   "source": [
    "## break"
   ]
  },
  {
   "cell_type": "code",
   "execution_count": 14,
   "metadata": {},
   "outputs": [
    {
     "name": "stdout",
     "output_type": "stream",
     "text": [
      "0\n",
      "1\n",
      "2\n"
     ]
    }
   ],
   "source": [
    "for i in range(5):\n",
    "    if i == 3:\n",
    "        break # döngü kırar\n",
    "    print(i)"
   ]
  },
  {
   "cell_type": "markdown",
   "metadata": {},
   "source": [
    "## continue"
   ]
  },
  {
   "cell_type": "code",
   "execution_count": 16,
   "metadata": {},
   "outputs": [
    {
     "name": "stdout",
     "output_type": "stream",
     "text": [
      "0\n",
      "0\n",
      "1\n",
      "1\n",
      "2\n",
      "2\n",
      "3\n",
      "4\n",
      "4\n"
     ]
    }
   ],
   "source": [
    "for i in range(5):\n",
    "    if i == 3:\n",
    "        continue # pass geçer\n",
    "    print(i)"
   ]
  },
  {
   "cell_type": "markdown",
   "metadata": {},
   "source": [
    "## else"
   ]
  },
  {
   "cell_type": "code",
   "execution_count": 17,
   "metadata": {},
   "outputs": [
    {
     "name": "stdout",
     "output_type": "stream",
     "text": [
      "24\n"
     ]
    }
   ],
   "source": [
    "sonuc = 1\n",
    "for i in range(1,5):\n",
    "    sonuc *= i # sonuc = sonuc * i\n",
    "else:\n",
    "    print(sonuc)"
   ]
  },
  {
   "cell_type": "code",
   "execution_count": 19,
   "metadata": {},
   "outputs": [],
   "source": [
    "sonuc = 1\n",
    "for i in range(1,5):\n",
    "    if i == 2:\n",
    "        break\n",
    "    sonuc *= i # sonuc = sonuc * i\n",
    "else:\n",
    "    print(sonuc) # çalışmaz \n",
    "    "
   ]
  },
  {
   "cell_type": "markdown",
   "metadata": {},
   "source": [
    "***break ve else birlikte kullanıldığında else çalışmayacaktır***"
   ]
  },
  {
   "cell_type": "code",
   "execution_count": 21,
   "metadata": {},
   "outputs": [
    {
     "name": "stdout",
     "output_type": "stream",
     "text": [
      "12\n"
     ]
    }
   ],
   "source": [
    "sonuc = 1\n",
    "for i in range(1,5):\n",
    "    if i == 2:\n",
    "        continue\n",
    "    sonuc *= i # sonuc = sonuc * i\n",
    "else:\n",
    "    print(sonuc) # çalışmaz "
   ]
  },
  {
   "cell_type": "markdown",
   "metadata": {},
   "source": [
    "## while "
   ]
  },
  {
   "cell_type": "code",
   "execution_count": 22,
   "metadata": {},
   "outputs": [
    {
     "name": "stdout",
     "output_type": "stream",
     "text": [
      "d\n",
      "d\n",
      "d\n",
      "d\n",
      "d\n",
      "d\n",
      "d\n",
      "t\n",
      "Bitti\n"
     ]
    }
   ],
   "source": [
    "cevap = \"\"\n",
    "while cevap != \"t\":\n",
    "    cevap = input(\"Tamam Devam t-d?:\")\n",
    "    print(cevap)\n",
    "else:\n",
    "    print(\"Bitti\")"
   ]
  },
  {
   "cell_type": "markdown",
   "metadata": {},
   "source": [
    "## oneliners"
   ]
  },
  {
   "cell_type": "code",
   "execution_count": 29,
   "metadata": {},
   "outputs": [
    {
     "data": {
      "text/plain": [
       "[1, 4, 9, 16, 25, 36, 49, 64, 81]"
      ]
     },
     "execution_count": 29,
     "metadata": {},
     "output_type": "execute_result"
    }
   ],
   "source": [
    "liste = [i**2 for i in range(1,10)]\n",
    "liste"
   ]
  },
  {
   "cell_type": "code",
   "execution_count": 25,
   "metadata": {},
   "outputs": [
    {
     "data": {
      "text/plain": [
       "[4, 16, 36, 64]"
      ]
     },
     "execution_count": 25,
     "metadata": {},
     "output_type": "execute_result"
    }
   ],
   "source": [
    "liste = [i**2 for i in range(1,10) if i % 2 == 0]\n",
    "liste"
   ]
  },
  {
   "cell_type": "code",
   "execution_count": 27,
   "metadata": {},
   "outputs": [
    {
     "data": {
      "text/plain": [
       "{1: 1, 2: 4, 3: 9, 4: 16, 5: 25, 6: 36, 7: 49, 8: 64, 9: 81}"
      ]
     },
     "execution_count": 27,
     "metadata": {},
     "output_type": "execute_result"
    }
   ],
   "source": [
    "sozluk = {i:i**2 for i in range(1,10)}\n",
    "sozluk"
   ]
  },
  {
   "cell_type": "markdown",
   "metadata": {},
   "source": [
    "Örnek"
   ]
  },
  {
   "cell_type": "code",
   "execution_count": 30,
   "metadata": {},
   "outputs": [
    {
     "name": "stdout",
     "output_type": "stream",
     "text": [
      "60\n"
     ]
    }
   ],
   "source": [
    "sonuc = 0\n",
    "sayi = \" \"\n",
    "while sayi != \"\":\n",
    "    sayi = input(\"Sayıyı Giriniz\")\n",
    "    if sayi and sayi.isdigit():\n",
    "        sonuc += int(sayi)\n",
    "else:\n",
    "    print(sonuc)"
   ]
  },
  {
   "cell_type": "markdown",
   "metadata": {},
   "source": [
    "# Egzersizler"
   ]
  },
  {
   "cell_type": "markdown",
   "metadata": {},
   "source": [
    "## 1.\n",
    "```\n",
    "*\n",
    "* *\n",
    "* * *\n",
    "* * * * \n",
    "* * * * *\n",
    "* * * * \n",
    "* * *\n",
    "* *\n",
    "*\n",
    "```\n",
    "```\n",
    "        *\n",
    "      * *\n",
    "    * * *\n",
    "  * * * *\n",
    "* * * * *\n",
    "  * * * *\n",
    "    * * *\n",
    "      * *\n",
    "        *    \n",
    "```\n",
    "```\n",
    "     *         \n",
    "    * *\n",
    "   * * *\n",
    "  * * * *\n",
    " * * * * *\n",
    "  * * * *\n",
    "   * * *\n",
    "    * *\n",
    "     * \n",
    "```"
   ]
  },
  {
   "cell_type": "code",
   "execution_count": 15,
   "metadata": {},
   "outputs": [
    {
     "name": "stdout",
     "output_type": "stream",
     "text": [
      "      *\n",
      "     * *\n",
      "    * * *\n",
      "   * * * *\n",
      "  * * * * *\n",
      "   * * * *\n",
      "    * * *\n",
      "     * *\n",
      "      *\n"
     ]
    }
   ],
   "source": [
    "n = 5\n",
    "# for i in range(1,n):\n",
    "#     print(\"* \"*i)\n",
    "# for i in range(n,0,-1):\n",
    "#     print(\"* \"*i)\n",
    "# for i in range(1,n):\n",
    "#     print(\" \"*(n-i)*2,\" *\"*i)\n",
    "# for i in range(n,0,-1):\n",
    "#     print(\" \"*(n-i)*2,\" *\"*i)\n",
    "for i in range(1,n):\n",
    "    print(\" \"*(n-i),\" *\"*i)\n",
    "for i in range(n,0,-1):\n",
    "    print(\" \"*(n-i),\" *\"*i)\n"
   ]
  },
  {
   "cell_type": "markdown",
   "metadata": {},
   "source": [
    "## 2."
   ]
  },
  {
   "cell_type": "markdown",
   "metadata": {},
   "source": [
    "https://upload.wikimedia.org/wikipedia/commons/thumb/e/ed/7_Segment_Display_with_Labeled_Segments.svg/432px-7_Segment_Display_with_Labeled_Segments.svg.png\n"
   ]
  },
  {
   "cell_type": "markdown",
   "metadata": {},
   "source": [
    "```\n",
    "######\n",
    "#    #\n",
    "#    #\n",
    "######\n",
    "#    #\n",
    "#    #\n",
    "######\n",
    "```\n",
    "Seven Segment Display Örneği"
   ]
  },
  {
   "cell_type": "code",
   "execution_count": 42,
   "metadata": {},
   "outputs": [
    {
     "name": "stdout",
     "output_type": "stream",
     "text": [
      "########\n",
      "        # \n",
      "        # \n",
      "########\n",
      "#         \n",
      "#         \n",
      "########\n"
     ]
    }
   ],
   "source": [
    "# 0b0110000 # 0 126,1 48\n",
    "sozluk = {\"0\":126,\"1\":48,\"2\":109}\n",
    "a,b,c,d,e,f,g = map(int,str(bin(sozluk[\"2\"]))[2:].zfill(7))\n",
    "print(\"#\"*8 if a else \" \"*8)\n",
    "print(\"# \" if f else \"  \",\" \"*4,\"# \" if b else \"  \")\n",
    "print(\"# \" if f else \"  \",\" \"*4,\"# \" if b else \"  \")\n",
    "print(\"#\"*8 if g else \" \"*8)\n",
    "print(\"# \" if e else \"  \",\" \"*4,\"# \" if c else \"  \")\n",
    "print(\"# \" if e else \"  \",\" \"*4,\"# \" if c else \"  \")\n",
    "print(\"#\"*8 if d else \" \"*8) "
   ]
  },
  {
   "cell_type": "markdown",
   "metadata": {},
   "source": [
    "## 3.\n",
    "```\n",
    "from string import ascii_uppercase,ascii_lowercase,digits,punctuation\n",
    "from random import choice\n",
    "```\n",
    "Yukarıda bulunan kütüphaneleri kullanarak aşağıdaki kriterlere uygun istenilen uzunlukta şifre üreten python kodunu yazınız.\n",
    "1. en az bir rakam içermelidir\n",
    "2. en az bir büyük harf içermelidir\n",
    "3. en az bir küçük harf içermelidir\n",
    "4. en az bir noktalama işareti içermelidir"
   ]
  },
  {
   "cell_type": "code",
   "execution_count": 2,
   "metadata": {},
   "outputs": [
    {
     "name": "stdout",
     "output_type": "stream",
     "text": [
      "lQoi0O\"xIL6t4S?Zy%6l98B8VLC>4o\n"
     ]
    }
   ],
   "source": [
    "from string import ascii_uppercase,ascii_lowercase,digits,punctuation\n",
    "from random import choice\n",
    "uzunluk = input(\"Şifre Uzunluğu Giriniz:\")\n",
    "sifre = \"\"\n",
    "liste = [ascii_uppercase,ascii_lowercase,digits,punctuation]\n",
    "bHarf = kHarf = rakam = noktalama = False\n",
    "if uzunluk and uzunluk.isdigit():\n",
    "    uzunluk = int(uzunluk)\n",
    "    if uzunluk >= 4:\n",
    "        while not (bHarf and kHarf and rakam and noktalama):\n",
    "            bHarf = kHarf = rakam = noktalama = False\n",
    "            ##################### \n",
    "            sifre = \"\"\n",
    "            for i in range(uzunluk):\n",
    "                sifre += choice(choice(liste))\n",
    "            for item in sifre:\n",
    "                if item.isalpha():\n",
    "                    if item.isupper():\n",
    "                        bHarf = True\n",
    "                    elif item.islower():\n",
    "                        kHarf = True\n",
    "                elif item.isdigit():\n",
    "                    rakam = True\n",
    "                elif item in punctuation:\n",
    "                    noktalama = True\n",
    "        else:\n",
    "            print(sifre)"
   ]
  },
  {
   "cell_type": "code",
   "execution_count": null,
   "metadata": {},
   "outputs": [],
   "source": []
  }
 ],
 "metadata": {
  "kernelspec": {
   "display_name": "Python 3",
   "language": "python",
   "name": "python3"
  },
  "language_info": {
   "codemirror_mode": {
    "name": "ipython",
    "version": 3
   },
   "file_extension": ".py",
   "mimetype": "text/x-python",
   "name": "python",
   "nbconvert_exporter": "python",
   "pygments_lexer": "ipython3",
   "version": "3.12.0"
  }
 },
 "nbformat": 4,
 "nbformat_minor": 2
}
