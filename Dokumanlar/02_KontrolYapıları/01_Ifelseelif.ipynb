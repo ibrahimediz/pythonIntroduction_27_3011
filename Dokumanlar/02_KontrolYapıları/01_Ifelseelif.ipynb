{
 "cells": [
  {
   "cell_type": "markdown",
   "metadata": {},
   "source": [
    "# Karar Yapıları\n",
    "* if\n",
    "* else\n",
    "* elif"
   ]
  },
  {
   "cell_type": "markdown",
   "metadata": {},
   "source": [
    "## if"
   ]
  },
  {
   "cell_type": "code",
   "execution_count": 12,
   "metadata": {},
   "outputs": [
    {
     "name": "stdout",
     "output_type": "stream",
     "text": [
      "a poizitif sayıdır.\n",
      "İyi Günler\n",
      "A Çift Bir Sayıdır\n",
      "Yolunuz Açık Olsun\n"
     ]
    }
   ],
   "source": [
    "a = 4\n",
    "if a > 0: # True\n",
    "    print(\"a poizitif sayıdır.\")\n",
    "    if a % 2 == 0:\n",
    "        print(\"A Çift Pozitif Bir Sayıdır\")\n",
    "print(\"Yolunuz Açık Olsun\")"
   ]
  },
  {
   "cell_type": "markdown",
   "metadata": {},
   "source": [
    "## else"
   ]
  },
  {
   "cell_type": "code",
   "execution_count": 15,
   "metadata": {},
   "outputs": [
    {
     "name": "stdout",
     "output_type": "stream",
     "text": [
      "a negatif bir sayıdır\n",
      "Yolunuz Açık Olsun\n"
     ]
    }
   ],
   "source": [
    "a = -4\n",
    "if a > 0: # True\n",
    "    print(\"a poizitif sayıdır.\")\n",
    "    if a % 2 == 0:\n",
    "        print(\"A Çift Pozitif Bir Sayıdır\")\n",
    "else:\n",
    "    print(\"a negatif bir sayıdır\")\n",
    "print(\"Yolunuz Açık Olsun\")"
   ]
  },
  {
   "cell_type": "code",
   "execution_count": null,
   "metadata": {},
   "outputs": [],
   "source": [
    "a = -4\n",
    "if a > 0: # True\n",
    "    print(\"a poizitif sayıdır.\")\n",
    "    if a % 2 == 0:\n",
    "        print(\"A Çift Pozitif Bir Sayıdır\")\n",
    "else:\n",
    "    print(\"a negatif bir sayıdır\")\n",
    "    if a % 2 != 0:\n",
    "        print(\"a negatif bir tek sayıdır\")\n",
    "    else:\n",
    "        print(\"a negatif bir çift sayıdır\")\n",
    "print(\"Yolunuz Açık Olsun\")"
   ]
  },
  {
   "cell_type": "code",
   "execution_count": 24,
   "metadata": {},
   "outputs": [
    {
     "name": "stdout",
     "output_type": "stream",
     "text": [
      "a pozitif sayıdır.\n",
      "a tek sayıdır\n",
      "Yolunuz Açık Olsun\n"
     ]
    }
   ],
   "source": [
    "a = 5\n",
    "if a > 0: # True\n",
    "    print(\"a pozitif sayıdır.\")\n",
    "else:\n",
    "    print(\"a negatif bir sayıdır\")\n",
    "if a % 2:\n",
    "    print(\"a tek sayıdır\")\n",
    "else:\n",
    "    print(\"a çift sayıdır\")\n",
    "print(\"Yolunuz Açık Olsun\")"
   ]
  },
  {
   "cell_type": "code",
   "execution_count": 22,
   "metadata": {},
   "outputs": [
    {
     "name": "stdout",
     "output_type": "stream",
     "text": [
      "Dolu\n"
     ]
    }
   ],
   "source": [
    "a = 0\n",
    "b = []\n",
    "if b:\n",
    "    print(\"Dolu\")\n",
    "else:\n",
    "    print(\"Boş yani b\",b)"
   ]
  },
  {
   "cell_type": "code",
   "execution_count": 26,
   "metadata": {},
   "outputs": [],
   "source": [
    "yas = input(\"Yaşınızı Giriniz:\")\n",
    "if yas and yas.isdigit():\n",
    "    yas = int(yas)\n",
    "    if yas>18:\n",
    "        print(\"Tebrikler\")\n",
    "else:\n",
    "    print(\"Yanlış Giriş yapıldı\")"
   ]
  },
  {
   "cell_type": "markdown",
   "metadata": {},
   "source": [
    "## elif"
   ]
  },
  {
   "cell_type": "code",
   "execution_count": 27,
   "metadata": {},
   "outputs": [
    {
     "name": "stdout",
     "output_type": "stream",
     "text": [
      "BB\n"
     ]
    }
   ],
   "source": [
    "\"\"\"\n",
    "AA => 85-100\n",
    "BB => 70-85\n",
    "CC => 55-70\n",
    "\"\"\"\n",
    "# notu = input(\"Notunuzu Giriniz:\")\n",
    "notu = \"75\"\n",
    "if notu and notu.isdigit():\n",
    "    notu = int(notu)\n",
    "    if  85<=notu<=100:  #  notu >= 85 and notu <= 100:\n",
    "        print(\"AA\")\n",
    "    else:\n",
    "        if 70<=notu<85:\n",
    "            print(\"BB\")\n",
    "        else:\n",
    "            if 55<=notu<70:\n",
    "                print(\"CC\")\n",
    "            else:\n",
    "                print(\"Geçersiz Not\")"
   ]
  },
  {
   "cell_type": "code",
   "execution_count": 30,
   "metadata": {},
   "outputs": [
    {
     "name": "stdout",
     "output_type": "stream",
     "text": [
      "AA\n"
     ]
    }
   ],
   "source": [
    "\"\"\"\n",
    "AA => 85-100\n",
    "BB => 70-85\n",
    "CC => 55-70\n",
    "\"\"\"\n",
    "notu = input(\"Notunuzu Giriniz:\")\n",
    "# notu = \"75\"\n",
    "if notu and notu.isdigit():\n",
    "    notu = int(notu)\n",
    "    if  85<=notu<=100:  #  notu >= 85 and notu <= 100:\n",
    "        print(\"AA\")\n",
    "    elif 70<=notu<85:\n",
    "        print(\"BB\")\n",
    "    elif 55<=notu<70:\n",
    "        print(\"CC\")\n",
    "    else:\n",
    "        print(\"Geçersiz Not\")\n",
    "else:\n",
    "    print(\"Yanlış Giriş\")"
   ]
  },
  {
   "cell_type": "markdown",
   "metadata": {},
   "source": [
    "iki açısı girilmiş olan bir üçgenin tipini aşağıdaki ifadelerle ekrana yazdıran python kodunuz yazınız\n",
    "```\n",
    "ikizkenar üçgen\n",
    "dik üçgen\n",
    "eşkenar üçgen\n",
    "çeşitkenar üçgen\n",
    "```"
   ]
  },
  {
   "cell_type": "code",
   "execution_count": 41,
   "metadata": {},
   "outputs": [
    {
     "name": "stdout",
     "output_type": "stream",
     "text": [
      "Giriş Hatası\n"
     ]
    }
   ],
   "source": [
    "aci1 = input(\"1. Açıyı Giriniz:\") # => str\n",
    "aci2 = input(\"2. Açıyı Giriniz:\") # => str\n",
    "# aci1 = \"45\"\n",
    "# aci2 = \"45\" \n",
    "if (aci1 and aci2) and (aci1.isdigit() and aci2.isdigit()): # değerlerin kontrol edilmesi\n",
    "    aci1,aci2 = int(aci1),int(aci2) # sayısal değere dönüştürülür\n",
    "    liste = [aci1,aci2,180-(aci1+aci2)] # 3. açı hesaplanır\n",
    "    if sum(liste) == 180 and 180-sum(liste[:2]) > 0: # açı değerleri kontrol edilir\n",
    "        aciKume = set(liste) # kumelere çevirerek sadeleştirme yapılır\n",
    "        if len(aciKume) == 2: # {45,90}\n",
    "            print(\"İkizkenar Üçgen\") \n",
    "        elif len(aciKume) == 1: # {60}\n",
    "            print(\"Eşkenar Üçgen\")\n",
    "        elif len(aciKume) == 3: # {30,60,90}\n",
    "            print(\"Çeşitkenar Üçgen\")\n",
    "        if 90 in aciKume: # {45,90} ya da {30,60,90}\n",
    "            print(\"Dik Üçgen\")\n",
    "    else:\n",
    "        print(\"Açı Değeri Hatası\")\n",
    "else:\n",
    "    print(\"Giriş Hatası\")\n",
    " \n"
   ]
  },
  {
   "cell_type": "markdown",
   "metadata": {},
   "source": [
    "## Tek satırda if yazımı"
   ]
  },
  {
   "cell_type": "code",
   "execution_count": 42,
   "metadata": {},
   "outputs": [
    {
     "name": "stdout",
     "output_type": "stream",
     "text": [
      "a tek sayıdır\n"
     ]
    }
   ],
   "source": [
    "a = int(input(\"Sayıyı Giriniz:\"))\n",
    "if a % 2 == 0:print(\"a çift sayıdır\")\n",
    "else:print(\"a tek sayıdır\")"
   ]
  },
  {
   "cell_type": "code",
   "execution_count": 45,
   "metadata": {},
   "outputs": [
    {
     "name": "stdout",
     "output_type": "stream",
     "text": [
      "a tek sayıdır\n"
     ]
    }
   ],
   "source": [
    "a = int(input(\"Sayıyı Giriniz:\"))\n",
    "sonuc = \"a çift sayıdır\" if a % 2 == 0 else \"a tek sayıdır\"\n",
    "#       Değer Doğru if KOŞUL else Değer Yanlış \n",
    "print(sonuc)"
   ]
  },
  {
   "cell_type": "code",
   "execution_count": 44,
   "metadata": {},
   "outputs": [
    {
     "name": "stdout",
     "output_type": "stream",
     "text": [
      " tek sayıdır\n"
     ]
    }
   ],
   "source": [
    "print(\"çift sayıdır\" if int(input(\"Sayıyı Giriniz:\")) % 2 == 0 else \"tek sayıdır\")"
   ]
  },
  {
   "cell_type": "code",
   "execution_count": null,
   "metadata": {},
   "outputs": [],
   "source": []
  }
 ],
 "metadata": {
  "kernelspec": {
   "display_name": "Python 3",
   "language": "python",
   "name": "python3"
  },
  "language_info": {
   "codemirror_mode": {
    "name": "ipython",
    "version": 3
   },
   "file_extension": ".py",
   "mimetype": "text/x-python",
   "name": "python",
   "nbconvert_exporter": "python",
   "pygments_lexer": "ipython3",
   "version": "3.12.0"
  }
 },
 "nbformat": 4,
 "nbformat_minor": 2
}
