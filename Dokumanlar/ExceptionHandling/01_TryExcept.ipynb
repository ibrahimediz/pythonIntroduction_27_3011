{
 "cells": [
  {
   "cell_type": "markdown",
   "metadata": {},
   "source": [
    "# TryExceptFinally\n",
    "* try except kullanımı\n",
    "* exception hiearchy\n",
    "* finally kullanımı\n",
    "* raise kullanımı\n",
    "* else kullanımı"
   ]
  },
  {
   "cell_type": "markdown",
   "metadata": {},
   "source": [
    "## try except kullanımı"
   ]
  },
  {
   "cell_type": "code",
   "execution_count": null,
   "metadata": {},
   "outputs": [],
   "source": [
    "a = int(input(\"1. Sayıyı Giriniz:\"))\n",
    "b = int(input(\"2. Sayıyı Giriniz:\"))\n",
    "print(a/b) # ValueError # ZeroDivisionError"
   ]
  },
  {
   "cell_type": "code",
   "execution_count": 3,
   "metadata": {},
   "outputs": [
    {
     "name": "stdout",
     "output_type": "stream",
     "text": [
      "Hata var\n",
      "Program Çalışmaya Devam Eder\n"
     ]
    }
   ],
   "source": [
    "try:\n",
    "    a = int(input(\"1. Sayıyı Giriniz:\"))\n",
    "    b = int(input(\"2. Sayıyı Giriniz:\"))\n",
    "    print(a/b) # ValueError # ZeroDivisionError\n",
    "except:\n",
    "    print(\"Hata var\")\n",
    "print(\"Program Çalışmaya Devam Eder\")"
   ]
  },
  {
   "cell_type": "code",
   "execution_count": 6,
   "metadata": {},
   "outputs": [
    {
     "name": "stdout",
     "output_type": "stream",
     "text": [
      "Hata var Mesaj: division by zero\n",
      "Program Çalışmaya Devam Eder\n"
     ]
    }
   ],
   "source": [
    "try:\n",
    "    a = int(input(\"1. Sayıyı Giriniz:\"))\n",
    "    b = int(input(\"2. Sayıyı Giriniz:\"))\n",
    "    print(a/b) # ValueError # ZeroDivisionError\n",
    "except Exception as hata:\n",
    "    print(\"Hata var Mesaj:\",hata)\n",
    "print(\"Program Çalışmaya Devam Eder\")"
   ]
  },
  {
   "cell_type": "code",
   "execution_count": 8,
   "metadata": {},
   "outputs": [
    {
     "name": "stdout",
     "output_type": "stream",
     "text": [
      "Sıfıra Bölme Hatası division by zero\n",
      "Program Çalışmaya Devam Eder\n"
     ]
    }
   ],
   "source": [
    "try:\n",
    "    a = int(input(\"1. Sayıyı Giriniz:\"))\n",
    "    b = int(input(\"2. Sayıyı Giriniz:\"))\n",
    "    print(a/b) # ValueError # ZeroDivisionError\n",
    "except ValueError as hata1:\n",
    "    print(\"Değer Hatası:\",hata1)\n",
    "except ZeroDivisionError as hata2:\n",
    "    print(\"Sıfıra Bölme Hatası\",hata2)\n",
    "except Exception as hata:\n",
    "    print(\"Genel Hata var Mesaj:\",hata)\n",
    "print(\"Program Çalışmaya Devam Eder\")"
   ]
  },
  {
   "cell_type": "markdown",
   "metadata": {},
   "source": [
    "## Exception Hiearchy"
   ]
  },
  {
   "cell_type": "markdown",
   "metadata": {},
   "source": [
    "https://docs.python.org/3/library/exceptions.html"
   ]
  },
  {
   "cell_type": "code",
   "execution_count": 12,
   "metadata": {},
   "outputs": [
    {
     "name": "stdout",
     "output_type": "stream",
     "text": [
      "Genel Hata var Mesaj: invalid literal for int() with base 10: 'a'\n",
      "Program Çalışmaya Devam Eder\n"
     ]
    }
   ],
   "source": [
    "try:\n",
    "    a = int(input(\"1. Sayıyı Giriniz:\"))\n",
    "    b = int(input(\"2. Sayıyı Giriniz:\"))\n",
    "    print(a/b) # ValueError # ZeroDivisionError\n",
    "except Exception as hata:\n",
    "    print(\"Genel Hata var Mesaj:\",hata)\n",
    "except ValueError as hata1:\n",
    "    print(\"Değer Hatası:\",hata1)\n",
    "except ZeroDivisionError as hata2:\n",
    "    print(\"Sıfıra Bölme Hatası\",hata2)\n",
    "\n",
    "print(\"Program Çalışmaya Devam Eder\")"
   ]
  },
  {
   "cell_type": "markdown",
   "metadata": {},
   "source": [
    "## finally kullanımı"
   ]
  },
  {
   "cell_type": "code",
   "execution_count": 17,
   "metadata": {},
   "outputs": [
    {
     "name": "stdout",
     "output_type": "stream",
     "text": [
      "Sonunda Her Zaman ÇALIŞIR\n"
     ]
    },
    {
     "data": {
      "text/plain": [
       "2.5"
      ]
     },
     "execution_count": 17,
     "metadata": {},
     "output_type": "execute_result"
    }
   ],
   "source": [
    "def fonk():\n",
    "    try:\n",
    "        a = int(input(\"1. Sayıyı Giriniz:\"))\n",
    "        b = int(input(\"2. Sayıyı Giriniz:\"))\n",
    "        return a/b \n",
    "    except ValueError as hata1:\n",
    "        print(\"Değer Hatası:\",hata1)\n",
    "    except ZeroDivisionError as hata2:\n",
    "        print(\"Sıfıra Bölme Hatası\",hata2)\n",
    "    except Exception as hata:\n",
    "        print(\"Genel Hata var Mesaj:\",hata)\n",
    "    finally: # return den önce çalışır\n",
    "        print(\"Sonunda Her Zaman ÇALIŞIR\")\n",
    "fonk()"
   ]
  },
  {
   "cell_type": "code",
   "execution_count": 18,
   "metadata": {},
   "outputs": [
    {
     "name": "stdout",
     "output_type": "stream",
     "text": [
      "2.5\n",
      "Sonunda Her Zaman ÇALIŞIR\n"
     ]
    }
   ],
   "source": [
    "try:\n",
    "    a = int(input(\"1. Sayıyı Giriniz:\"))\n",
    "    b = int(input(\"2. Sayıyı Giriniz:\"))\n",
    "    print(a/b)\n",
    "except ValueError as hata1:\n",
    "    print(\"Değer Hatası:\",hata1)\n",
    "except ZeroDivisionError as hata2:\n",
    "    print(\"Sıfıra Bölme Hatası\",hata2)\n",
    "except Exception as hata:\n",
    "    print(\"Genel Hata var Mesaj:\",hata)\n",
    "finally: # return den önce çalışır\n",
    "    print(\"Sonunda Her Zaman ÇALIŞIR\")"
   ]
  },
  {
   "cell_type": "markdown",
   "metadata": {},
   "source": [
    "## raise kullanımı"
   ]
  },
  {
   "cell_type": "code",
   "execution_count": 21,
   "metadata": {},
   "outputs": [
    {
     "name": "stdout",
     "output_type": "stream",
     "text": [
      "Genel Hata var Mesaj: Sıfırla ne işin var bölme işleminde\n",
      "Sonunda Her Zaman ÇALIŞIR\n"
     ]
    }
   ],
   "source": [
    "def fonk(a,b):\n",
    "    if not (a and b):\n",
    "        raise ZeroDivisionError(\"Sıfırla ne işin var bölme işleminde\")\n",
    "    else:\n",
    "        return a/b\n",
    "try:\n",
    "    a = int(input(\"1. Sayıyı Giriniz:\"))\n",
    "    b = int(input(\"2. Sayıyı Giriniz:\"))\n",
    "    print(fonk(a,b))\n",
    "except ValueError as hata1:\n",
    "    print(\"Değer Hatası:\",hata1)\n",
    "except ZeroDivisionError as hata2:\n",
    "    print(\"Sıfıra Bölme Hatası:\",hata2)\n",
    "except Exception as hata:\n",
    "    print(\"Genel Hata var Mesaj:\",hata)\n",
    "finally: # return den önce çalışır\n",
    "    print(\"Sonunda Her Zaman ÇALIŞIR\")"
   ]
  },
  {
   "cell_type": "markdown",
   "metadata": {},
   "source": [
    "## else kullanımı"
   ]
  },
  {
   "cell_type": "code",
   "execution_count": 22,
   "metadata": {},
   "outputs": [
    {
     "name": "stdout",
     "output_type": "stream",
     "text": [
      "Sıfıra Bölme Hatası division by zero\n"
     ]
    }
   ],
   "source": [
    "try:\n",
    "    a = int(input(\"1. Sayıyı Giriniz:\"))\n",
    "    b = int(input(\"2. Sayıyı Giriniz:\"))\n",
    "except ValueError as hata1:\n",
    "    print(\"Değer Hatası:\",hata1)\n",
    "else:\n",
    "    try:\n",
    "        print(a/b)\n",
    "    except ZeroDivisionError as hata2:\n",
    "        print(\"Sıfıra Bölme Hatası\",hata2)\n",
    "    except Exception as hata:\n",
    "        print(\"Genel Hata var Mesaj:\",hata)"
   ]
  }
 ],
 "metadata": {
  "kernelspec": {
   "display_name": "Python 3",
   "language": "python",
   "name": "python3"
  },
  "language_info": {
   "codemirror_mode": {
    "name": "ipython",
    "version": 3
   },
   "file_extension": ".py",
   "mimetype": "text/x-python",
   "name": "python",
   "nbconvert_exporter": "python",
   "pygments_lexer": "ipython3",
   "version": "3.12.0"
  }
 },
 "nbformat": 4,
 "nbformat_minor": 2
}
